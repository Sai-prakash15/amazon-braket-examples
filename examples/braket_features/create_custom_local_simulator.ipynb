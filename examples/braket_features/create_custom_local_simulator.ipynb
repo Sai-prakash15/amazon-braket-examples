{
 "cells": [
  {
   "cell_type": "markdown",
   "source": [
    "# Setup for desired circuit\n",
    "### In this example, the `cirq` library is installed as a prerequisite."
   ],
   "metadata": {
    "collapsed": false
   }
  },
  {
   "cell_type": "code",
   "execution_count": 1,
   "metadata": {
    "collapsed": true,
    "ExecuteTime": {
     "end_time": "2023-06-26T20:07:40.993812Z",
     "start_time": "2023-06-26T20:07:39.904603Z"
    }
   },
   "outputs": [
    {
     "name": "stdout",
     "output_type": "stream",
     "text": [
      "Requirement already satisfied: cirq in /Users/spchit/workspace/forks/amazon-braket-examples/venv/lib/python3.10/site-packages (1.1.0)\r\n",
      "Requirement already satisfied: cirq-google==1.1.0 in /Users/spchit/workspace/forks/amazon-braket-examples/venv/lib/python3.10/site-packages (from cirq) (1.1.0)\r\n",
      "Requirement already satisfied: cirq-rigetti==1.1.0 in /Users/spchit/workspace/forks/amazon-braket-examples/venv/lib/python3.10/site-packages (from cirq) (1.1.0)\r\n",
      "Requirement already satisfied: cirq-ionq==1.1.0 in /Users/spchit/workspace/forks/amazon-braket-examples/venv/lib/python3.10/site-packages (from cirq) (1.1.0)\r\n",
      "Requirement already satisfied: cirq-core==1.1.0 in /Users/spchit/workspace/forks/amazon-braket-examples/venv/lib/python3.10/site-packages (from cirq) (1.1.0)\r\n",
      "Requirement already satisfied: cirq-pasqal==1.1.0 in /Users/spchit/workspace/forks/amazon-braket-examples/venv/lib/python3.10/site-packages (from cirq) (1.1.0)\r\n",
      "Requirement already satisfied: cirq-web==1.1.0 in /Users/spchit/workspace/forks/amazon-braket-examples/venv/lib/python3.10/site-packages (from cirq) (1.1.0)\r\n",
      "Requirement already satisfied: cirq-aqt==1.1.0 in /Users/spchit/workspace/forks/amazon-braket-examples/venv/lib/python3.10/site-packages (from cirq) (1.1.0)\r\n",
      "Requirement already satisfied: requests~=2.18 in /Users/spchit/workspace/forks/amazon-braket-examples/venv/lib/python3.10/site-packages (from cirq-aqt==1.1.0->cirq) (2.31.0)\r\n",
      "Requirement already satisfied: networkx~=2.4 in /Users/spchit/workspace/forks/amazon-braket-examples/venv/lib/python3.10/site-packages (from cirq-core==1.1.0->cirq) (2.8.8)\r\n",
      "Requirement already satisfied: numpy<1.24,>=1.16 in /Users/spchit/workspace/forks/amazon-braket-examples/venv/lib/python3.10/site-packages (from cirq-core==1.1.0->cirq) (1.23.5)\r\n",
      "Requirement already satisfied: tqdm in /Users/spchit/workspace/forks/amazon-braket-examples/venv/lib/python3.10/site-packages (from cirq-core==1.1.0->cirq) (4.65.0)\r\n",
      "Requirement already satisfied: pandas in /Users/spchit/workspace/forks/amazon-braket-examples/venv/lib/python3.10/site-packages (from cirq-core==1.1.0->cirq) (2.0.2)\r\n",
      "Requirement already satisfied: typing-extensions in /Users/spchit/workspace/forks/amazon-braket-examples/venv/lib/python3.10/site-packages (from cirq-core==1.1.0->cirq) (4.6.3)\r\n",
      "Requirement already satisfied: matplotlib~=3.0 in /Users/spchit/workspace/forks/amazon-braket-examples/venv/lib/python3.10/site-packages (from cirq-core==1.1.0->cirq) (3.7.1)\r\n",
      "Requirement already satisfied: duet~=0.2.7 in /Users/spchit/workspace/forks/amazon-braket-examples/venv/lib/python3.10/site-packages (from cirq-core==1.1.0->cirq) (0.2.8)\r\n",
      "Requirement already satisfied: sortedcontainers~=2.0 in /Users/spchit/workspace/forks/amazon-braket-examples/venv/lib/python3.10/site-packages (from cirq-core==1.1.0->cirq) (2.4.0)\r\n",
      "Requirement already satisfied: sympy in /Users/spchit/workspace/forks/amazon-braket-examples/venv/lib/python3.10/site-packages (from cirq-core==1.1.0->cirq) (1.12)\r\n",
      "Requirement already satisfied: scipy in /Users/spchit/workspace/forks/amazon-braket-examples/venv/lib/python3.10/site-packages (from cirq-core==1.1.0->cirq) (1.10.1)\r\n",
      "Requirement already satisfied: protobuf<4,>=3.15.0 in /Users/spchit/workspace/forks/amazon-braket-examples/venv/lib/python3.10/site-packages (from cirq-google==1.1.0->cirq) (3.20.3)\r\n",
      "Requirement already satisfied: google-api-core[grpc]<2.0.0dev,>=1.14.0 in /Users/spchit/workspace/forks/amazon-braket-examples/venv/lib/python3.10/site-packages (from cirq-google==1.1.0->cirq) (1.34.0)\r\n",
      "Requirement already satisfied: proto-plus>=1.20.0 in /Users/spchit/workspace/forks/amazon-braket-examples/venv/lib/python3.10/site-packages (from cirq-google==1.1.0->cirq) (1.22.3)\r\n",
      "Requirement already satisfied: pyquil>=3.2.0 in /Users/spchit/workspace/forks/amazon-braket-examples/venv/lib/python3.10/site-packages (from cirq-rigetti==1.1.0->cirq) (3.5.4)\r\n",
      "Requirement already satisfied: googleapis-common-protos<2.0dev,>=1.56.2 in /Users/spchit/workspace/forks/amazon-braket-examples/venv/lib/python3.10/site-packages (from google-api-core[grpc]<2.0.0dev,>=1.14.0->cirq-google==1.1.0->cirq) (1.59.1)\r\n",
      "Requirement already satisfied: google-auth<3.0dev,>=1.25.0 in /Users/spchit/workspace/forks/amazon-braket-examples/venv/lib/python3.10/site-packages (from google-api-core[grpc]<2.0.0dev,>=1.14.0->cirq-google==1.1.0->cirq) (2.20.0)\r\n",
      "Requirement already satisfied: grpcio<2.0dev,>=1.33.2 in /Users/spchit/workspace/forks/amazon-braket-examples/venv/lib/python3.10/site-packages (from google-api-core[grpc]<2.0.0dev,>=1.14.0->cirq-google==1.1.0->cirq) (1.56.0)\r\n",
      "Requirement already satisfied: grpcio-status<2.0dev,>=1.33.2 in /Users/spchit/workspace/forks/amazon-braket-examples/venv/lib/python3.10/site-packages (from google-api-core[grpc]<2.0.0dev,>=1.14.0->cirq-google==1.1.0->cirq) (1.48.2)\r\n",
      "Requirement already satisfied: fonttools>=4.22.0 in /Users/spchit/workspace/forks/amazon-braket-examples/venv/lib/python3.10/site-packages (from matplotlib~=3.0->cirq-core==1.1.0->cirq) (4.40.0)\r\n",
      "Requirement already satisfied: cycler>=0.10 in /Users/spchit/workspace/forks/amazon-braket-examples/venv/lib/python3.10/site-packages (from matplotlib~=3.0->cirq-core==1.1.0->cirq) (0.11.0)\r\n",
      "Requirement already satisfied: pillow>=6.2.0 in /Users/spchit/workspace/forks/amazon-braket-examples/venv/lib/python3.10/site-packages (from matplotlib~=3.0->cirq-core==1.1.0->cirq) (9.5.0)\r\n",
      "Requirement already satisfied: contourpy>=1.0.1 in /Users/spchit/workspace/forks/amazon-braket-examples/venv/lib/python3.10/site-packages (from matplotlib~=3.0->cirq-core==1.1.0->cirq) (1.1.0)\r\n",
      "Requirement already satisfied: kiwisolver>=1.0.1 in /Users/spchit/workspace/forks/amazon-braket-examples/venv/lib/python3.10/site-packages (from matplotlib~=3.0->cirq-core==1.1.0->cirq) (1.4.4)\r\n",
      "Requirement already satisfied: packaging>=20.0 in /Users/spchit/workspace/forks/amazon-braket-examples/venv/lib/python3.10/site-packages (from matplotlib~=3.0->cirq-core==1.1.0->cirq) (23.1)\r\n",
      "Requirement already satisfied: python-dateutil>=2.7 in /Users/spchit/workspace/forks/amazon-braket-examples/venv/lib/python3.10/site-packages (from matplotlib~=3.0->cirq-core==1.1.0->cirq) (2.8.2)\r\n",
      "Requirement already satisfied: pyparsing>=2.3.1 in /Users/spchit/workspace/forks/amazon-braket-examples/venv/lib/python3.10/site-packages (from matplotlib~=3.0->cirq-core==1.1.0->cirq) (3.1.0)\r\n",
      "Requirement already satisfied: qcs-api-client<0.22.0,>=0.21.0 in /Users/spchit/workspace/forks/amazon-braket-examples/venv/lib/python3.10/site-packages (from pyquil>=3.2.0->cirq-rigetti==1.1.0->cirq) (0.21.5)\r\n",
      "Requirement already satisfied: types-deprecated<2.0.0.0,>=1.2.9.2 in /Users/spchit/workspace/forks/amazon-braket-examples/venv/lib/python3.10/site-packages (from pyquil>=3.2.0->cirq-rigetti==1.1.0->cirq) (1.2.9.2)\r\n",
      "Requirement already satisfied: tenacity<9.0.0,>=8.2.2 in /Users/spchit/workspace/forks/amazon-braket-examples/venv/lib/python3.10/site-packages (from pyquil>=3.2.0->cirq-rigetti==1.1.0->cirq) (8.2.2)\r\n",
      "Requirement already satisfied: deprecated<2.0.0,>=1.2.13 in /Users/spchit/workspace/forks/amazon-braket-examples/venv/lib/python3.10/site-packages (from pyquil>=3.2.0->cirq-rigetti==1.1.0->cirq) (1.2.14)\r\n",
      "Requirement already satisfied: rpcq<4.0.0,>=3.10.0 in /Users/spchit/workspace/forks/amazon-braket-examples/venv/lib/python3.10/site-packages (from pyquil>=3.2.0->cirq-rigetti==1.1.0->cirq) (3.11.0)\r\n",
      "Requirement already satisfied: types-python-dateutil<3.0.0,>=2.8.19 in /Users/spchit/workspace/forks/amazon-braket-examples/venv/lib/python3.10/site-packages (from pyquil>=3.2.0->cirq-rigetti==1.1.0->cirq) (2.8.19.13)\r\n",
      "Requirement already satisfied: lark<0.12.0,>=0.11.1 in /Users/spchit/workspace/forks/amazon-braket-examples/venv/lib/python3.10/site-packages (from pyquil>=3.2.0->cirq-rigetti==1.1.0->cirq) (0.11.3)\r\n",
      "Requirement already satisfied: types-retry<0.10.0,>=0.9.9 in /Users/spchit/workspace/forks/amazon-braket-examples/venv/lib/python3.10/site-packages (from pyquil>=3.2.0->cirq-rigetti==1.1.0->cirq) (0.9.9.3)\r\n",
      "Requirement already satisfied: idna<4,>=2.5 in /Users/spchit/workspace/forks/amazon-braket-examples/venv/lib/python3.10/site-packages (from requests~=2.18->cirq-aqt==1.1.0->cirq) (3.4)\r\n",
      "Requirement already satisfied: certifi>=2017.4.17 in /Users/spchit/workspace/forks/amazon-braket-examples/venv/lib/python3.10/site-packages (from requests~=2.18->cirq-aqt==1.1.0->cirq) (2023.5.7)\r\n",
      "Requirement already satisfied: urllib3<3,>=1.21.1 in /Users/spchit/workspace/forks/amazon-braket-examples/venv/lib/python3.10/site-packages (from requests~=2.18->cirq-aqt==1.1.0->cirq) (1.26.16)\r\n",
      "Requirement already satisfied: charset-normalizer<4,>=2 in /Users/spchit/workspace/forks/amazon-braket-examples/venv/lib/python3.10/site-packages (from requests~=2.18->cirq-aqt==1.1.0->cirq) (3.1.0)\r\n",
      "Requirement already satisfied: tzdata>=2022.1 in /Users/spchit/workspace/forks/amazon-braket-examples/venv/lib/python3.10/site-packages (from pandas->cirq-core==1.1.0->cirq) (2023.3)\r\n",
      "Requirement already satisfied: pytz>=2020.1 in /Users/spchit/workspace/forks/amazon-braket-examples/venv/lib/python3.10/site-packages (from pandas->cirq-core==1.1.0->cirq) (2023.3)\r\n",
      "Requirement already satisfied: mpmath>=0.19 in /Users/spchit/workspace/forks/amazon-braket-examples/venv/lib/python3.10/site-packages (from sympy->cirq-core==1.1.0->cirq) (1.3.0)\r\n",
      "Requirement already satisfied: wrapt<2,>=1.10 in /Users/spchit/workspace/forks/amazon-braket-examples/venv/lib/python3.10/site-packages (from deprecated<2.0.0,>=1.2.13->pyquil>=3.2.0->cirq-rigetti==1.1.0->cirq) (1.15.0)\r\n",
      "Requirement already satisfied: pyasn1-modules>=0.2.1 in /Users/spchit/workspace/forks/amazon-braket-examples/venv/lib/python3.10/site-packages (from google-auth<3.0dev,>=1.25.0->google-api-core[grpc]<2.0.0dev,>=1.14.0->cirq-google==1.1.0->cirq) (0.3.0)\r\n",
      "Requirement already satisfied: cachetools<6.0,>=2.0.0 in /Users/spchit/workspace/forks/amazon-braket-examples/venv/lib/python3.10/site-packages (from google-auth<3.0dev,>=1.25.0->google-api-core[grpc]<2.0.0dev,>=1.14.0->cirq-google==1.1.0->cirq) (5.3.1)\r\n",
      "Requirement already satisfied: rsa<5,>=3.1.4 in /Users/spchit/workspace/forks/amazon-braket-examples/venv/lib/python3.10/site-packages (from google-auth<3.0dev,>=1.25.0->google-api-core[grpc]<2.0.0dev,>=1.14.0->cirq-google==1.1.0->cirq) (4.9)\r\n",
      "Requirement already satisfied: six>=1.9.0 in /Users/spchit/workspace/forks/amazon-braket-examples/venv/lib/python3.10/site-packages (from google-auth<3.0dev,>=1.25.0->google-api-core[grpc]<2.0.0dev,>=1.14.0->cirq-google==1.1.0->cirq) (1.16.0)\r\n",
      "Requirement already satisfied: PyJWT<3.0.0,>=2.4.0 in /Users/spchit/workspace/forks/amazon-braket-examples/venv/lib/python3.10/site-packages (from qcs-api-client<0.22.0,>=0.21.0->pyquil>=3.2.0->cirq-rigetti==1.1.0->cirq) (2.7.0)\r\n",
      "Requirement already satisfied: retrying<2.0.0,>=1.3.3 in /Users/spchit/workspace/forks/amazon-braket-examples/venv/lib/python3.10/site-packages (from qcs-api-client<0.22.0,>=0.21.0->pyquil>=3.2.0->cirq-rigetti==1.1.0->cirq) (1.3.4)\r\n",
      "Requirement already satisfied: rfc3339<7.0,>=6.2 in /Users/spchit/workspace/forks/amazon-braket-examples/venv/lib/python3.10/site-packages (from qcs-api-client<0.22.0,>=0.21.0->pyquil>=3.2.0->cirq-rigetti==1.1.0->cirq) (6.2)\r\n",
      "Requirement already satisfied: attrs<22.0.0,>=21.3.0 in /Users/spchit/workspace/forks/amazon-braket-examples/venv/lib/python3.10/site-packages (from qcs-api-client<0.22.0,>=0.21.0->pyquil>=3.2.0->cirq-rigetti==1.1.0->cirq) (21.4.0)\r\n",
      "Requirement already satisfied: toml<0.11.0,>=0.10.2 in /Users/spchit/workspace/forks/amazon-braket-examples/venv/lib/python3.10/site-packages (from qcs-api-client<0.22.0,>=0.21.0->pyquil>=3.2.0->cirq-rigetti==1.1.0->cirq) (0.10.2)\r\n",
      "Requirement already satisfied: pydantic<2.0.0,>=1.7.2 in /Users/spchit/workspace/forks/amazon-braket-examples/venv/lib/python3.10/site-packages (from qcs-api-client<0.22.0,>=0.21.0->pyquil>=3.2.0->cirq-rigetti==1.1.0->cirq) (1.10.9)\r\n",
      "Requirement already satisfied: iso8601<2.0.0,>=1.0.2 in /Users/spchit/workspace/forks/amazon-braket-examples/venv/lib/python3.10/site-packages (from qcs-api-client<0.22.0,>=0.21.0->pyquil>=3.2.0->cirq-rigetti==1.1.0->cirq) (1.1.0)\r\n",
      "Requirement already satisfied: httpx<0.24.0,>=0.23.0 in /Users/spchit/workspace/forks/amazon-braket-examples/venv/lib/python3.10/site-packages (from qcs-api-client<0.22.0,>=0.21.0->pyquil>=3.2.0->cirq-rigetti==1.1.0->cirq) (0.23.3)\r\n",
      "Requirement already satisfied: msgpack<2.0,>=0.6 in /Users/spchit/workspace/forks/amazon-braket-examples/venv/lib/python3.10/site-packages (from rpcq<4.0.0,>=3.10.0->pyquil>=3.2.0->cirq-rigetti==1.1.0->cirq) (1.0.5)\r\n",
      "Requirement already satisfied: python-rapidjson in /Users/spchit/workspace/forks/amazon-braket-examples/venv/lib/python3.10/site-packages (from rpcq<4.0.0,>=3.10.0->pyquil>=3.2.0->cirq-rigetti==1.1.0->cirq) (1.10)\r\n",
      "Requirement already satisfied: pyzmq>=17 in /Users/spchit/workspace/forks/amazon-braket-examples/venv/lib/python3.10/site-packages (from rpcq<4.0.0,>=3.10.0->pyquil>=3.2.0->cirq-rigetti==1.1.0->cirq) (25.1.0)\r\n",
      "Requirement already satisfied: ruamel.yaml in /Users/spchit/workspace/forks/amazon-braket-examples/venv/lib/python3.10/site-packages (from rpcq<4.0.0,>=3.10.0->pyquil>=3.2.0->cirq-rigetti==1.1.0->cirq) (0.17.32)\r\n",
      "Requirement already satisfied: rfc3986[idna2008]<2,>=1.3 in /Users/spchit/workspace/forks/amazon-braket-examples/venv/lib/python3.10/site-packages (from httpx<0.24.0,>=0.23.0->qcs-api-client<0.22.0,>=0.21.0->pyquil>=3.2.0->cirq-rigetti==1.1.0->cirq) (1.5.0)\r\n",
      "Requirement already satisfied: sniffio in /Users/spchit/workspace/forks/amazon-braket-examples/venv/lib/python3.10/site-packages (from httpx<0.24.0,>=0.23.0->qcs-api-client<0.22.0,>=0.21.0->pyquil>=3.2.0->cirq-rigetti==1.1.0->cirq) (1.3.0)\r\n",
      "Requirement already satisfied: httpcore<0.17.0,>=0.15.0 in /Users/spchit/workspace/forks/amazon-braket-examples/venv/lib/python3.10/site-packages (from httpx<0.24.0,>=0.23.0->qcs-api-client<0.22.0,>=0.21.0->pyquil>=3.2.0->cirq-rigetti==1.1.0->cirq) (0.16.3)\r\n",
      "Requirement already satisfied: pyasn1<0.6.0,>=0.4.6 in /Users/spchit/workspace/forks/amazon-braket-examples/venv/lib/python3.10/site-packages (from pyasn1-modules>=0.2.1->google-auth<3.0dev,>=1.25.0->google-api-core[grpc]<2.0.0dev,>=1.14.0->cirq-google==1.1.0->cirq) (0.5.0)\r\n",
      "Requirement already satisfied: ruamel.yaml.clib>=0.2.7 in /Users/spchit/workspace/forks/amazon-braket-examples/venv/lib/python3.10/site-packages (from ruamel.yaml->rpcq<4.0.0,>=3.10.0->pyquil>=3.2.0->cirq-rigetti==1.1.0->cirq) (0.2.7)\r\n",
      "Requirement already satisfied: h11<0.15,>=0.13 in /Users/spchit/workspace/forks/amazon-braket-examples/venv/lib/python3.10/site-packages (from httpcore<0.17.0,>=0.15.0->httpx<0.24.0,>=0.23.0->qcs-api-client<0.22.0,>=0.21.0->pyquil>=3.2.0->cirq-rigetti==1.1.0->cirq) (0.14.0)\r\n",
      "Requirement already satisfied: anyio<5.0,>=3.0 in /Users/spchit/workspace/forks/amazon-braket-examples/venv/lib/python3.10/site-packages (from httpcore<0.17.0,>=0.15.0->httpx<0.24.0,>=0.23.0->qcs-api-client<0.22.0,>=0.21.0->pyquil>=3.2.0->cirq-rigetti==1.1.0->cirq) (3.7.0)\r\n",
      "Requirement already satisfied: exceptiongroup in /Users/spchit/workspace/forks/amazon-braket-examples/venv/lib/python3.10/site-packages (from anyio<5.0,>=3.0->httpcore<0.17.0,>=0.15.0->httpx<0.24.0,>=0.23.0->qcs-api-client<0.22.0,>=0.21.0->pyquil>=3.2.0->cirq-rigetti==1.1.0->cirq) (1.1.1)\r\n",
      "\r\n",
      "\u001B[1m[\u001B[0m\u001B[34;49mnotice\u001B[0m\u001B[1;39;49m]\u001B[0m\u001B[39;49m A new release of pip available: \u001B[0m\u001B[31;49m22.3.1\u001B[0m\u001B[39;49m -> \u001B[0m\u001B[32;49m23.1.2\u001B[0m\r\n",
      "\u001B[1m[\u001B[0m\u001B[34;49mnotice\u001B[0m\u001B[1;39;49m]\u001B[0m\u001B[39;49m To update, run: \u001B[0m\u001B[32;49mpip install --upgrade pip\u001B[0m\r\n"
     ]
    }
   ],
   "source": [
    "!pip install cirq"
   ]
  },
  {
   "cell_type": "markdown",
   "source": [
    "## Create a translations.py-like File for Gate Mapping\n",
    "\n",
    "## Inherit AbstractProgramContext and Define the abstract methods"
   ],
   "metadata": {
    "collapsed": false
   }
  },
  {
   "cell_type": "code",
   "execution_count": 10,
   "outputs": [],
   "source": [
    "from typing import List, Tuple\n",
    "\n",
    "import cirq\n",
    "import numpy as np\n",
    "from braket.ir.jaqcd.program_v1 import Results\n",
    "from cirq import (\n",
    "    Circuit,\n",
    ")\n",
    "\n",
    "from translations import (\n",
    "    CIRQ_GATES,\n",
    "    cirq_gate_to_instruction,\n",
    "    get_cirq_qubits,\n",
    ")\n",
    "from braket.default_simulator.openqasm.program_context import AbstractProgramContext\n",
    "from braket.default_simulator.openqasm.interpreter import Interpreter"
   ],
   "metadata": {
    "collapsed": false,
    "ExecuteTime": {
     "end_time": "2023-06-26T21:46:14.404378Z",
     "start_time": "2023-06-26T21:46:14.394970Z"
    }
   }
  },
  {
   "cell_type": "code",
   "execution_count": 3,
   "outputs": [],
   "source": [
    "class CirqProgramContext(AbstractProgramContext):\n",
    "    def __init__(self):\n",
    "        super().__init__(Circuit())\n",
    "\n",
    "    def is_builtin_gate(self, name: str) -> bool:\n",
    "        user_defined_gate = self.is_user_defined_gate(name)\n",
    "        return name in CIRQ_GATES and not user_defined_gate\n",
    "\n",
    "    def add_phase_instruction(self, target: Tuple[int], phase_value: int):\n",
    "        raise NotImplementedError\n",
    "\n",
    "    def add_gate_instruction(\n",
    "        self, gate_name: str, target: Tuple[int], params, ctrl_modifiers: List[int], power: int\n",
    "    ):\n",
    "        qubits = get_cirq_qubits(target)\n",
    "        target_cirq_qubits = qubits[len(ctrl_modifiers) :]\n",
    "        control_qubits = qubits[: len(ctrl_modifiers)]\n",
    "\n",
    "        if params:\n",
    "            gate = CIRQ_GATES[gate_name](*params).on(*target_cirq_qubits)\n",
    "        else:\n",
    "            gate = CIRQ_GATES[gate_name].on(*target_cirq_qubits)\n",
    "        ctrl_modifiers = [bit ^ 1 for bit in ctrl_modifiers]\n",
    "        gate = gate.controlled_by(*control_qubits, control_values=ctrl_modifiers)\n",
    "        gate = gate**power\n",
    "\n",
    "        self.circuit.append(gate)\n",
    "\n",
    "    def add_custom_unitary(\n",
    "        self,\n",
    "        unitary: np.ndarray,\n",
    "        target: Tuple[int],\n",
    "    ) -> None:\n",
    "        \"\"\"Add a custom Unitary instruction to the circuit\"\"\"\n",
    "        qubits = get_cirq_qubits(target)\n",
    "        instruction = cirq.MatrixGate(unitary).on(*qubits)\n",
    "        self.circuit.append(instruction)\n",
    "\n",
    "    def add_noise_instruction(self, noise):\n",
    "        \"\"\"Add a noise instruction the circuit\"\"\"\n",
    "        instruction = cirq_gate_to_instruction(noise)\n",
    "        self.circuit.append(instruction)\n",
    "\n",
    "    def add_result(self, result: Results) -> None:\n",
    "        \"\"\"Add a result type to the circuit\"\"\"\n",
    "        raise NotImplementedError\n"
   ],
   "metadata": {
    "collapsed": false,
    "ExecuteTime": {
     "end_time": "2023-06-26T20:07:42.274339Z",
     "start_time": "2023-06-26T20:07:42.272970Z"
    }
   }
  },
  {
   "cell_type": "markdown",
   "source": [],
   "metadata": {
    "collapsed": false
   }
  },
  {
   "cell_type": "markdown",
   "source": [
    "## Basic gates example\n",
    "### This section showcases an example of basic gates. An OpenQASM program is defined, and a Circ circuit is built using the `Interpreter` and `CirqProgramContext` classes."
   ],
   "metadata": {
    "collapsed": false
   }
  },
  {
   "cell_type": "code",
   "execution_count": 4,
   "outputs": [
    {
     "name": "stdout",
     "output_type": "stream",
     "text": [
      "0: ───H───M───\n"
     ]
    },
    {
     "name": "stderr",
     "output_type": "stream",
     "text": [
      "/var/folders/tb/2yh3yjmn3196046lsp7n2m5r0000gr/T/ipykernel_69102/45097278.py:22: DeprecationWarning: The truth value of an empty array is ambiguous. Returning False, but in future this will result in an error. Use `array.size > 0` to check that an array is not empty.\n",
      "  if params:\n"
     ]
    }
   ],
   "source": [
    "openqasm = \"\"\"\n",
    "            OPENQASM 3.0;\n",
    "            bit[1] b;\n",
    "            qubit[1] q;\n",
    "            h q[0];\n",
    "           \"\"\"\n",
    "\n",
    "basic_cirq_circuit = Interpreter(CirqProgramContext()).build_circuit(\n",
    "        source=openqasm,\n",
    "    )\n",
    "cirq.final_state_vector(basic_cirq_circuit)\n",
    "basic_cirq_circuit.append(cirq.measure(*basic_cirq_circuit.all_qubits()))\n",
    "print(basic_cirq_circuit)"
   ],
   "metadata": {
    "collapsed": false,
    "ExecuteTime": {
     "end_time": "2023-06-26T20:07:42.286990Z",
     "start_time": "2023-06-26T20:07:42.284828Z"
    }
   }
  },
  {
   "cell_type": "markdown",
   "source": [
    "## Running basic circuit on simulator\n",
    "\n",
    "### The simulator runs the circuit with a specified number of repetitions, and the results are displayed in a state histogram plot"
   ],
   "metadata": {
    "collapsed": false
   }
  },
  {
   "cell_type": "code",
   "execution_count": 5,
   "outputs": [
    {
     "name": "stdout",
     "output_type": "stream",
     "text": [
      "q(0)=0001101010\n"
     ]
    },
    {
     "name": "stderr",
     "output_type": "stream",
     "text": [
      "/Users/spchit/workspace/forks/amazon-braket-examples/venv/lib/python3.10/site-packages/cirq/vis/state_histogram.py:103: UserWarning: Matplotlib is currently using module://matplotlib_inline.backend_inline, which is a non-GUI backend, so cannot show the figure.\n",
      "  fig.show()\n"
     ]
    },
    {
     "data": {
      "text/plain": "<Axes: title={'center': 'Result State Histogram'}, xlabel='qubit state', ylabel='result count'>"
     },
     "execution_count": 5,
     "metadata": {},
     "output_type": "execute_result"
    },
    {
     "data": {
      "text/plain": "<Figure size 640x480 with 1 Axes>",
      "image/png": "[encoded data removed]"
     },
     "metadata": {},
     "output_type": "display_data"
    }
   ],
   "source": [
    "from cirq import plot_state_histogram as plt_hist\n",
    "\n",
    "simulator = cirq.Simulator()\n",
    "result = simulator.run(basic_cirq_circuit, repetitions=10)\n",
    "\n",
    "print(result)\n",
    "plt_hist(result)"
   ],
   "metadata": {
    "collapsed": false,
    "ExecuteTime": {
     "end_time": "2023-06-26T20:07:42.366210Z",
     "start_time": "2023-06-26T20:07:42.289040Z"
    }
   }
  },
  {
   "cell_type": "markdown",
   "source": [
    "## Noise Gate example"
   ],
   "metadata": {
    "collapsed": false
   }
  },
  {
   "cell_type": "code",
   "execution_count": 6,
   "outputs": [
    {
     "name": "stdout",
     "output_type": "stream",
     "text": [
      "0: ───X───BF(0.1)───M───\n"
     ]
    },
    {
     "name": "stderr",
     "output_type": "stream",
     "text": [
      "/var/folders/tb/2yh3yjmn3196046lsp7n2m5r0000gr/T/ipykernel_69102/45097278.py:22: DeprecationWarning: The truth value of an empty array is ambiguous. Returning False, but in future this will result in an error. Use `array.size > 0` to check that an array is not empty.\n",
      "  if params:\n"
     ]
    },
    {
     "data": {
      "text/plain": "array([[0.1       +0.j, 0.        +0.j],\n       [0.        +0.j, 0.90000004+0.j]], dtype=complex64)"
     },
     "execution_count": 6,
     "metadata": {},
     "output_type": "execute_result"
    }
   ],
   "source": [
    "openqasm = \"\"\"\n",
    "            OPENQASM 3.0;\n",
    "            bit[1] b;\n",
    "            qubit[1] q;\n",
    "            x q[0];\n",
    "            #pragma braket noise bit_flip(0.1) q[0]\n",
    "            b[0] = measure q[0];\n",
    "            \"\"\"\n",
    "noise_cirq_circuit = Interpreter(CirqProgramContext()).build_circuit(\n",
    "        source=openqasm,\n",
    "    )\n",
    "noise_cirq_circuit.append(cirq.measure(*basic_cirq_circuit.all_qubits()))\n",
    "print(noise_cirq_circuit)\n",
    "cirq.final_density_matrix(noise_cirq_circuit)"
   ],
   "metadata": {
    "collapsed": false,
    "ExecuteTime": {
     "end_time": "2023-06-26T20:07:42.385150Z",
     "start_time": "2023-06-26T20:07:42.373892Z"
    }
   }
  },
  {
   "cell_type": "markdown",
   "source": [
    "## Running noise circuits on cirq simulator"
   ],
   "metadata": {
    "collapsed": false
   }
  },
  {
   "cell_type": "code",
   "execution_count": 8,
   "outputs": [
    {
     "name": "stdout",
     "output_type": "stream",
     "text": [
      "q(0)=1111111111101111101111111110111011111111111111111111111111111111111010111101111111011111011011111111\n"
     ]
    },
    {
     "name": "stderr",
     "output_type": "stream",
     "text": [
      "/Users/spchit/workspace/forks/amazon-braket-examples/venv/lib/python3.10/site-packages/cirq/vis/state_histogram.py:103: UserWarning: Matplotlib is currently using module://matplotlib_inline.backend_inline, which is a non-GUI backend, so cannot show the figure.\n",
      "  fig.show()\n"
     ]
    },
    {
     "data": {
      "text/plain": "<Axes: title={'center': 'Result State Histogram'}, xlabel='qubit state', ylabel='result count'>"
     },
     "execution_count": 8,
     "metadata": {},
     "output_type": "execute_result"
    },
    {
     "data": {
      "text/plain": "<Figure size 640x480 with 1 Axes>",
      "image/png": "[encoded data removed]"
     },
     "metadata": {},
     "output_type": "display_data"
    }
   ],
   "source": [
    "from cirq import plot_state_histogram as plt_hist\n",
    "\n",
    "result = simulator.run(noise_cirq_circuit, repetitions=100)\n",
    "\n",
    "print(result)\n",
    "plt_hist(result)"
   ],
   "metadata": {
    "collapsed": false,
    "ExecuteTime": {
     "end_time": "2023-06-26T20:12:53.255542Z",
     "start_time": "2023-06-26T20:12:53.167327Z"
    }
   }
  },
  {
   "cell_type": "markdown",
   "source": [
    "## Instructions to add a cirq as one of the local simulators in Braket Simulators.\n",
    "\n",
    "### This section provides instructions for adding Cirq as a local simulator in Braket Simulators. It includes creating a `cirq_simulator.py` file within the `braket.default_simulator.cirq` folder, defining a `CirqSimulator` class, and implementing necessary methods for initialization, circuit execution, and result generation.\n",
    "\n",
    "```\n",
    "import sys\n",
    "import uuid\n",
    "\n",
    "import cirq\n",
    "from braket.device_schema.simulators import (\n",
    "    GateModelSimulatorDeviceCapabilities,\n",
    "    GateModelSimulatorDeviceParameters,\n",
    ")\n",
    "from braket.ir.openqasm import Program as OpenQASMProgram\n",
    "from braket.task_result import GateModelTaskResult, TaskMetadata, AdditionalMetadata\n",
    "from cirq import Simulator\n",
    "\n",
    "from braket.default_simulator.cirq.cirq_program_context import CirqProgramContext\n",
    "from braket.default_simulator.openqasm.interpreter import Interpreter\n",
    "from braket.simulator import BraketSimulator\n",
    "\n",
    "\n",
    "class CirqSimulator(BraketSimulator):\n",
    "    DEVICE_ID = \"cirq\"\n",
    "\n",
    "    def initialize_simulation(self):\n",
    "        \"\"\"\n",
    "        Initialize cirq simulation.\n",
    "\n",
    "\n",
    "        Returns:\n",
    "            cirq.Simulator: Initialized simulation.\n",
    "        \"\"\"\n",
    "        return Simulator()\n",
    "\n",
    "    def run(self, circuit_ir: OpenQASMProgram, *args, **kwargs):\n",
    "        return self.run_openqasm(circuit_ir, *args, **kwargs)\n",
    "\n",
    "    def run_openqasm(\n",
    "        self,\n",
    "        circuit_ir: OpenQASMProgram,\n",
    "        shots: int = 1,\n",
    "    ) -> GateModelTaskResult:\n",
    "        is_file = circuit_ir.source.endswith(\".qasm\")\n",
    "        interpreter = Interpreter(context=CirqProgramContext())\n",
    "        circuit = interpreter.build_circuit(\n",
    "            source=circuit_ir.source,\n",
    "            inputs=circuit_ir.inputs,\n",
    "            is_file=is_file,\n",
    "        )\n",
    "        circuit.append(cirq.measure(*circuit.all_qubits()))\n",
    "        simulation = self.initialize_simulation()\n",
    "        result = simulation.run(circuit, repetitions=shots)\n",
    "        return self._create_results_obj(circuit_ir, result)\n",
    "\n",
    "    def _get_measured_qubits(self, result):\n",
    "        measured_qubits = set()\n",
    "        for key in result.measurements.keys():\n",
    "            measured_qubits.update([qubit[qubit.index(\"(\") + 1 : -1] for qubit in key.split(\",\")])\n",
    "        return list(measured_qubits)\n",
    "\n",
    "    def _create_results_obj(\n",
    "        self,\n",
    "        circuit_ir: OpenQASMProgram,\n",
    "        result: cirq.Result,\n",
    "    ) -> GateModelTaskResult:\n",
    "        return GateModelTaskResult.construct(\n",
    "            taskMetadata=TaskMetadata(\n",
    "                id=str(uuid.uuid4()),\n",
    "                shots=result.repetitions,\n",
    "                deviceId=self.DEVICE_ID,\n",
    "            ),\n",
    "            additionalMetadata=AdditionalMetadata(\n",
    "                action=circuit_ir,\n",
    "            ),\n",
    "            measurements=list(list(result.measurements.values())[0]),\n",
    "            measuredQubits=self._get_measured_qubits(result),\n",
    "        )\n",
    "\n",
    "    @property\n",
    "    def properties(self):\n",
    "        max_shots = sys.maxsize\n",
    "        return GateModelSimulatorDeviceCapabilities.parse_obj(\n",
    "            {\n",
    "                \"service\": {\n",
    "                    \"executionWindows\": [\n",
    "                        {\n",
    "                            \"executionDay\": \"Everyday\",\n",
    "                            \"windowStartHour\": \"00:00\",\n",
    "                            \"windowEndHour\": \"23:59:59\",\n",
    "                        }\n",
    "                    ],\n",
    "                    \"shotsRange\": [0, max_shots],\n",
    "                },\n",
    "                \"action\": {\n",
    "                    \"braket.ir.openqasm.program\": {\n",
    "                        \"actionType\": \"braket.ir.openqasm.program\",\n",
    "                        \"version\": [\"1\"],\n",
    "                        \"supportedOperations\": [\n",
    "                            # builtin Braket gates\n",
    "                            \"ccnot\",\n",
    "                            \"cnot\",\n",
    "                            \"cphaseshift\",\n",
    "                            \"cswap\",\n",
    "                            \"h\",\n",
    "                            \"i\",\n",
    "                            \"iswap\",\n",
    "                            \"rx\",\n",
    "                            \"ry\",\n",
    "                            \"rz\",\n",
    "                            \"s\",\n",
    "                            \"swap\",\n",
    "                            \"t\",\n",
    "                            \"x\",\n",
    "                            \"y\",\n",
    "                            \"z\",\n",
    "                        ],\n",
    "                        \"supportedModifiers\": [\n",
    "                            {\n",
    "                                \"name\": \"ctrl\",\n",
    "                            },\n",
    "                            {\n",
    "                                \"name\": \"negctrl\",\n",
    "                            },\n",
    "                            {\n",
    "                                \"name\": \"pow\",\n",
    "                                \"exponent_types\": [\"int\", \"float\"],\n",
    "                            },\n",
    "                            {\n",
    "                                \"name\": \"inv\",\n",
    "                            },\n",
    "                        ],\n",
    "                        \"supportedPragmas\": [\n",
    "                            \"braket_unitary_matrix\",\n",
    "                            \"braket_result_type_state_vector\",\n",
    "                            \"braket_result_type_density_matrix\",\n",
    "                            \"braket_result_type_sample\",\n",
    "                            \"braket_result_type_expectation\",\n",
    "                            \"braket_result_type_variance\",\n",
    "                            \"braket_result_type_probability\",\n",
    "                            \"braket_result_type_amplitude\",\n",
    "                            \"braket_noise_bit_flip\",\n",
    "                            \"braket_noise_depolarizing\",\n",
    "                            \"braket_noise_generalized_amplitude_damping\",\n",
    "                            \"braket_noise_phase_flip\",\n",
    "                            \"braket_noise_phase_damping\",\n",
    "                        ],\n",
    "                        \"forbiddenPragmas\": [\n",
    "                            \"braket_noise_amplitude_damping\",\n",
    "                            \"braket_noise_kraus\",\n",
    "                            \"braket_noise_pauli_channel\",\n",
    "                            \"braket_noise_two_qubit_dephasing\",\n",
    "                            \"braket_noise_two_qubit_depolarizing\",\n",
    "                            \"braket_result_type_adjoint_gradient\",\n",
    "                        ],\n",
    "                        \"supportPhysicalQubits\": False,\n",
    "                        \"supportsPartialVerbatimBox\": False,\n",
    "                        \"requiresContiguousQubitIndices\": True,\n",
    "                        \"requiresAllQubitsMeasurement\": True,\n",
    "                        \"supportsUnassignedMeasurements\": True,\n",
    "                        \"disabledQubitRewiringSupported\": False,\n",
    "                    },\n",
    "                },\n",
    "                \"deviceParameters\": GateModelSimulatorDeviceParameters.schema(),\n",
    "            }\n",
    "        )\n",
    "\n",
    "```\n",
    "\n",
    "\n",
    "### In amazon-braket-default-simulator-python package add the following in entry_points in setup.py\n",
    "```\n",
    "entry_points={\n",
    "        \"braket.simulators\": [\n",
    "            ...\n",
    "            \"cirq = braket.default_simulator.cirq.cirq_simulator:CirqSimulator\",\n",
    "            ...\n",
    "            }\n",
    "```\n",
    "\n",
    "\n",
    "### Running a braket circuit on the local simulator defined above\n",
    "\n",
    "```\n",
    "from braket.circuits import Circuit\n",
    "from braket.circuits.serialization import IRType\n",
    "from braket.devices import LocalSimulator\n",
    "\n",
    "dev = LocalSimulator(\"cirq\")\n",
    "braket_circuit = Circuit().h(0)\n",
    "openqasm_program = braket_circuit.to_ir(IRType.OPENQASM)\n",
    "result = dev.run(openqasm_program, shots=10).result()\n",
    "print(result.measurements)\n",
    "```"
   ],
   "metadata": {
    "collapsed": false
   }
  }
 ],
 "metadata": {
  "kernelspec": {
   "display_name": "Python 3",
   "language": "python",
   "name": "python3"
  },
  "language_info": {
   "codemirror_mode": {
    "name": "ipython",
    "version": 2
   },
   "file_extension": ".py",
   "mimetype": "text/x-python",
   "name": "python",
   "nbconvert_exporter": "python",
   "pygments_lexer": "ipython2",
   "version": "2.7.6"
  }
 },
 "nbformat": 4,
 "nbformat_minor": 0
}
