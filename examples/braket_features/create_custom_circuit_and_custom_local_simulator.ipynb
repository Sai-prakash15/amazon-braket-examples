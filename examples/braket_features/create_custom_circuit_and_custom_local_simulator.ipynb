{
 "cells": [
  {
   "cell_type": "markdown",
   "metadata": {},
   "source": [
    "# Create a custom local circuit(Cirq Circuit) and run the custom circuit on a custom simulator(Cirq Simulator)\n",
    "\n",
    "1. Install the required dependencies\n",
    "2. Define CustomProgramContex inheriting the AbstractProgramContext\n",
    "3. Map custom circuit gates to the openqasm interpreted string\n",
    "4. Pass the CustomProgramContex to an interpreter and build the circuit\n",
    "5. Run the custom circuit on custom simulator/device"
   ]
  },
  {
   "cell_type": "markdown",
   "metadata": {},
   "source": [
    "## Setup for desired circuit\n",
    "\n",
    "In this example, the `cirq` library is installed as a prerequisite."
   ]
  },
  {
   "cell_type": "code",
   "execution_count": 1,
   "metadata": {
    "ExecuteTime": {
     "end_time": "2023-07-07T03:45:23.588844Z",
     "start_time": "2023-07-07T03:44:59.607278Z"
    },
    "collapsed": true
   },
   "outputs": [
    {
     "name": "stdout",
     "output_type": "stream",
     "text": [
      "Requirement already satisfied: cirq in /Users/spchit/anaconda3/envs/braket-example/lib/python3.10/site-packages (1.2.0)\n",
      "Requirement already satisfied: cirq-aqt==1.2.0 in /Users/spchit/anaconda3/envs/braket-example/lib/python3.10/site-packages (from cirq) (1.2.0)\n",
      "Requirement already satisfied: cirq-core==1.2.0 in /Users/spchit/anaconda3/envs/braket-example/lib/python3.10/site-packages (from cirq) (1.2.0)\n",
      "Requirement already satisfied: cirq-ft==1.2.0 in /Users/spchit/anaconda3/envs/braket-example/lib/python3.10/site-packages (from cirq) (1.2.0)\n",
      "Requirement already satisfied: cirq-google==1.2.0 in /Users/spchit/anaconda3/envs/braket-example/lib/python3.10/site-packages (from cirq) (1.2.0)\n",
      "Requirement already satisfied: cirq-ionq==1.2.0 in /Users/spchit/anaconda3/envs/braket-example/lib/python3.10/site-packages (from cirq) (1.2.0)\n",
      "Requirement already satisfied: cirq-pasqal==1.2.0 in /Users/spchit/anaconda3/envs/braket-example/lib/python3.10/site-packages (from cirq) (1.2.0)\n",
      "Requirement already satisfied: cirq-rigetti==1.2.0 in /Users/spchit/anaconda3/envs/braket-example/lib/python3.10/site-packages (from cirq) (1.2.0)\n",
      "Requirement already satisfied: cirq-web==1.2.0 in /Users/spchit/anaconda3/envs/braket-example/lib/python3.10/site-packages (from cirq) (1.2.0)\n",
      "Requirement already satisfied: requests~=2.18 in /Users/spchit/anaconda3/envs/braket-example/lib/python3.10/site-packages (from cirq-aqt==1.2.0->cirq) (2.31.0)\n",
      "Requirement already satisfied: duet~=0.2.8 in /Users/spchit/anaconda3/envs/braket-example/lib/python3.10/site-packages (from cirq-core==1.2.0->cirq) (0.2.9)\n",
      "Requirement already satisfied: matplotlib~=3.0 in /Users/spchit/anaconda3/envs/braket-example/lib/python3.10/site-packages (from cirq-core==1.2.0->cirq) (3.7.2)\n",
      "Requirement already satisfied: networkx>=2.4 in /Users/spchit/anaconda3/envs/braket-example/lib/python3.10/site-packages (from cirq-core==1.2.0->cirq) (2.8.8)\n",
      "Requirement already satisfied: numpy~=1.16 in /Users/spchit/anaconda3/envs/braket-example/lib/python3.10/site-packages (from cirq-core==1.2.0->cirq) (1.25.2)\n",
      "Requirement already satisfied: pandas in /Users/spchit/anaconda3/envs/braket-example/lib/python3.10/site-packages (from cirq-core==1.2.0->cirq) (2.0.3)\n",
      "Requirement already satisfied: sortedcontainers~=2.0 in /Users/spchit/anaconda3/envs/braket-example/lib/python3.10/site-packages (from cirq-core==1.2.0->cirq) (2.4.0)\n",
      "Requirement already satisfied: scipy in /Users/spchit/anaconda3/envs/braket-example/lib/python3.10/site-packages (from cirq-core==1.2.0->cirq) (1.11.1)\n",
      "Requirement already satisfied: sympy in /Users/spchit/anaconda3/envs/braket-example/lib/python3.10/site-packages (from cirq-core==1.2.0->cirq) (1.12)\n",
      "Requirement already satisfied: typing-extensions>=4.2 in /Users/spchit/anaconda3/envs/braket-example/lib/python3.10/site-packages (from cirq-core==1.2.0->cirq) (4.7.1)\n",
      "Requirement already satisfied: tqdm in /Users/spchit/anaconda3/envs/braket-example/lib/python3.10/site-packages (from cirq-core==1.2.0->cirq) (4.66.1)\n",
      "Requirement already satisfied: attrs in /Users/spchit/anaconda3/envs/braket-example/lib/python3.10/site-packages (from cirq-ft==1.2.0->cirq) (21.4.0)\n",
      "Requirement already satisfied: cachetools>=5.3 in /Users/spchit/anaconda3/envs/braket-example/lib/python3.10/site-packages (from cirq-ft==1.2.0->cirq) (5.3.1)\n",
      "Requirement already satisfied: ipywidgets in /Users/spchit/anaconda3/envs/braket-example/lib/python3.10/site-packages (from cirq-ft==1.2.0->cirq) (8.1.0)\n",
      "Requirement already satisfied: nbconvert in /Users/spchit/anaconda3/envs/braket-example/lib/python3.10/site-packages (from cirq-ft==1.2.0->cirq) (6.5.4)\n",
      "Requirement already satisfied: nbformat in /Users/spchit/anaconda3/envs/braket-example/lib/python3.10/site-packages (from cirq-ft==1.2.0->cirq) (5.7.0)\n",
      "Requirement already satisfied: google-api-core[grpc]>=1.14.0 in /Users/spchit/anaconda3/envs/braket-example/lib/python3.10/site-packages (from cirq-google==1.2.0->cirq) (2.11.1)\n",
      "Requirement already satisfied: proto-plus>=1.20.0 in /Users/spchit/anaconda3/envs/braket-example/lib/python3.10/site-packages (from cirq-google==1.2.0->cirq) (1.22.3)\n",
      "Requirement already satisfied: protobuf>=3.15.0 in /Users/spchit/anaconda3/envs/braket-example/lib/python3.10/site-packages (from cirq-google==1.2.0->cirq) (4.24.0)\n",
      "Requirement already satisfied: pyquil~=3.2.0 in /Users/spchit/anaconda3/envs/braket-example/lib/python3.10/site-packages (from cirq-rigetti==1.2.0->cirq) (3.2.1)\n",
      "Requirement already satisfied: googleapis-common-protos<2.0.dev0,>=1.56.2 in /Users/spchit/anaconda3/envs/braket-example/lib/python3.10/site-packages (from google-api-core[grpc]>=1.14.0->cirq-google==1.2.0->cirq) (1.60.0)\n",
      "Requirement already satisfied: google-auth<3.0.dev0,>=2.14.1 in /Users/spchit/anaconda3/envs/braket-example/lib/python3.10/site-packages (from google-api-core[grpc]>=1.14.0->cirq-google==1.2.0->cirq) (2.22.0)\n",
      "Requirement already satisfied: grpcio<2.0dev,>=1.33.2 in /Users/spchit/anaconda3/envs/braket-example/lib/python3.10/site-packages (from google-api-core[grpc]>=1.14.0->cirq-google==1.2.0->cirq) (1.57.0)\n",
      "Requirement already satisfied: grpcio-status<2.0.dev0,>=1.33.2 in /Users/spchit/anaconda3/envs/braket-example/lib/python3.10/site-packages (from google-api-core[grpc]>=1.14.0->cirq-google==1.2.0->cirq) (1.57.0)\n",
      "Requirement already satisfied: contourpy>=1.0.1 in /Users/spchit/anaconda3/envs/braket-example/lib/python3.10/site-packages (from matplotlib~=3.0->cirq-core==1.2.0->cirq) (1.1.0)\n",
      "Requirement already satisfied: cycler>=0.10 in /Users/spchit/anaconda3/envs/braket-example/lib/python3.10/site-packages (from matplotlib~=3.0->cirq-core==1.2.0->cirq) (0.11.0)\n",
      "Requirement already satisfied: fonttools>=4.22.0 in /Users/spchit/anaconda3/envs/braket-example/lib/python3.10/site-packages (from matplotlib~=3.0->cirq-core==1.2.0->cirq) (4.42.0)\n",
      "Requirement already satisfied: kiwisolver>=1.0.1 in /Users/spchit/anaconda3/envs/braket-example/lib/python3.10/site-packages (from matplotlib~=3.0->cirq-core==1.2.0->cirq) (1.4.4)\n",
      "Requirement already satisfied: packaging>=20.0 in /Users/spchit/anaconda3/envs/braket-example/lib/python3.10/site-packages (from matplotlib~=3.0->cirq-core==1.2.0->cirq) (23.0)\n",
      "Requirement already satisfied: pillow>=6.2.0 in /Users/spchit/anaconda3/envs/braket-example/lib/python3.10/site-packages (from matplotlib~=3.0->cirq-core==1.2.0->cirq) (10.0.0)\n",
      "Requirement already satisfied: pyparsing<3.1,>=2.3.1 in /Users/spchit/anaconda3/envs/braket-example/lib/python3.10/site-packages (from matplotlib~=3.0->cirq-core==1.2.0->cirq) (3.0.9)\n",
      "Requirement already satisfied: python-dateutil>=2.7 in /Users/spchit/anaconda3/envs/braket-example/lib/python3.10/site-packages (from matplotlib~=3.0->cirq-core==1.2.0->cirq) (2.8.2)\n",
      "Requirement already satisfied: lark<0.12.0,>=0.11.1 in /Users/spchit/anaconda3/envs/braket-example/lib/python3.10/site-packages (from pyquil~=3.2.0->cirq-rigetti==1.2.0->cirq) (0.11.3)\n",
      "Requirement already satisfied: qcs-api-client<0.22.0,>=0.20.13 in /Users/spchit/anaconda3/envs/braket-example/lib/python3.10/site-packages (from pyquil~=3.2.0->cirq-rigetti==1.2.0->cirq) (0.21.6)\n",
      "Requirement already satisfied: retry<0.10.0,>=0.9.2 in /Users/spchit/anaconda3/envs/braket-example/lib/python3.10/site-packages (from pyquil~=3.2.0->cirq-rigetti==1.2.0->cirq) (0.9.2)\n",
      "Requirement already satisfied: rpcq<4.0.0,>=3.10.0 in /Users/spchit/anaconda3/envs/braket-example/lib/python3.10/site-packages (from pyquil~=3.2.0->cirq-rigetti==1.2.0->cirq) (3.11.0)\n",
      "Requirement already satisfied: charset-normalizer<4,>=2 in /Users/spchit/anaconda3/envs/braket-example/lib/python3.10/site-packages (from requests~=2.18->cirq-aqt==1.2.0->cirq) (3.2.0)\n",
      "Requirement already satisfied: idna<4,>=2.5 in /Users/spchit/anaconda3/envs/braket-example/lib/python3.10/site-packages (from requests~=2.18->cirq-aqt==1.2.0->cirq) (3.4)\n",
      "Requirement already satisfied: urllib3<3,>=1.21.1 in /Users/spchit/anaconda3/envs/braket-example/lib/python3.10/site-packages (from requests~=2.18->cirq-aqt==1.2.0->cirq) (1.26.16)\n",
      "Requirement already satisfied: certifi>=2017.4.17 in /Users/spchit/anaconda3/envs/braket-example/lib/python3.10/site-packages (from requests~=2.18->cirq-aqt==1.2.0->cirq) (2023.7.22)\n"
     ]
    },
    {
     "name": "stdout",
     "output_type": "stream",
     "text": [
      "Requirement already satisfied: comm>=0.1.3 in /Users/spchit/anaconda3/envs/braket-example/lib/python3.10/site-packages (from ipywidgets->cirq-ft==1.2.0->cirq) (0.1.4)\n",
      "Requirement already satisfied: ipython>=6.1.0 in /Users/spchit/anaconda3/envs/braket-example/lib/python3.10/site-packages (from ipywidgets->cirq-ft==1.2.0->cirq) (8.12.2)\n",
      "Requirement already satisfied: traitlets>=4.3.1 in /Users/spchit/anaconda3/envs/braket-example/lib/python3.10/site-packages (from ipywidgets->cirq-ft==1.2.0->cirq) (5.7.1)\n",
      "Requirement already satisfied: widgetsnbextension~=4.0.7 in /Users/spchit/anaconda3/envs/braket-example/lib/python3.10/site-packages (from ipywidgets->cirq-ft==1.2.0->cirq) (4.0.8)\n",
      "Requirement already satisfied: jupyterlab-widgets~=3.0.7 in /Users/spchit/anaconda3/envs/braket-example/lib/python3.10/site-packages (from ipywidgets->cirq-ft==1.2.0->cirq) (3.0.8)\n",
      "Requirement already satisfied: lxml in /Users/spchit/anaconda3/envs/braket-example/lib/python3.10/site-packages (from nbconvert->cirq-ft==1.2.0->cirq) (4.9.2)\n",
      "Requirement already satisfied: beautifulsoup4 in /Users/spchit/anaconda3/envs/braket-example/lib/python3.10/site-packages (from nbconvert->cirq-ft==1.2.0->cirq) (4.12.2)\n",
      "Requirement already satisfied: bleach in /Users/spchit/anaconda3/envs/braket-example/lib/python3.10/site-packages (from nbconvert->cirq-ft==1.2.0->cirq) (4.1.0)\n",
      "Requirement already satisfied: defusedxml in /Users/spchit/anaconda3/envs/braket-example/lib/python3.10/site-packages (from nbconvert->cirq-ft==1.2.0->cirq) (0.7.1)\n",
      "Requirement already satisfied: entrypoints>=0.2.2 in /Users/spchit/anaconda3/envs/braket-example/lib/python3.10/site-packages (from nbconvert->cirq-ft==1.2.0->cirq) (0.4)\n",
      "Requirement already satisfied: jinja2>=3.0 in /Users/spchit/anaconda3/envs/braket-example/lib/python3.10/site-packages (from nbconvert->cirq-ft==1.2.0->cirq) (3.1.2)\n",
      "Requirement already satisfied: jupyter-core>=4.7 in /Users/spchit/anaconda3/envs/braket-example/lib/python3.10/site-packages (from nbconvert->cirq-ft==1.2.0->cirq) (5.3.0)\n",
      "Requirement already satisfied: jupyterlab-pygments in /Users/spchit/anaconda3/envs/braket-example/lib/python3.10/site-packages (from nbconvert->cirq-ft==1.2.0->cirq) (0.1.2)\n",
      "Requirement already satisfied: MarkupSafe>=2.0 in /Users/spchit/anaconda3/envs/braket-example/lib/python3.10/site-packages (from nbconvert->cirq-ft==1.2.0->cirq) (2.1.1)\n",
      "Requirement already satisfied: mistune<2,>=0.8.1 in /Users/spchit/anaconda3/envs/braket-example/lib/python3.10/site-packages (from nbconvert->cirq-ft==1.2.0->cirq) (0.8.4)\n",
      "Requirement already satisfied: nbclient>=0.5.0 in /Users/spchit/anaconda3/envs/braket-example/lib/python3.10/site-packages (from nbconvert->cirq-ft==1.2.0->cirq) (0.5.13)\n",
      "Requirement already satisfied: pandocfilters>=1.4.1 in /Users/spchit/anaconda3/envs/braket-example/lib/python3.10/site-packages (from nbconvert->cirq-ft==1.2.0->cirq) (1.5.0)\n",
      "Requirement already satisfied: pygments>=2.4.1 in /Users/spchit/anaconda3/envs/braket-example/lib/python3.10/site-packages (from nbconvert->cirq-ft==1.2.0->cirq) (2.15.1)\n",
      "Requirement already satisfied: tinycss2 in /Users/spchit/anaconda3/envs/braket-example/lib/python3.10/site-packages (from nbconvert->cirq-ft==1.2.0->cirq) (1.2.1)\n",
      "Requirement already satisfied: fastjsonschema in /Users/spchit/anaconda3/envs/braket-example/lib/python3.10/site-packages (from nbformat->cirq-ft==1.2.0->cirq) (2.16.2)\n",
      "Requirement already satisfied: jsonschema>=2.6 in /Users/spchit/anaconda3/envs/braket-example/lib/python3.10/site-packages (from nbformat->cirq-ft==1.2.0->cirq) (4.17.3)\n",
      "Requirement already satisfied: pytz>=2020.1 in /Users/spchit/anaconda3/envs/braket-example/lib/python3.10/site-packages (from pandas->cirq-core==1.2.0->cirq) (2023.3)\n",
      "Requirement already satisfied: tzdata>=2022.1 in /Users/spchit/anaconda3/envs/braket-example/lib/python3.10/site-packages (from pandas->cirq-core==1.2.0->cirq) (2023.3)\n",
      "Requirement already satisfied: mpmath>=0.19 in /Users/spchit/anaconda3/envs/braket-example/lib/python3.10/site-packages (from sympy->cirq-core==1.2.0->cirq) (1.3.0)\n",
      "Requirement already satisfied: pyasn1-modules>=0.2.1 in /Users/spchit/anaconda3/envs/braket-example/lib/python3.10/site-packages (from google-auth<3.0.dev0,>=2.14.1->google-api-core[grpc]>=1.14.0->cirq-google==1.2.0->cirq) (0.3.0)\n",
      "Requirement already satisfied: rsa<5,>=3.1.4 in /Users/spchit/anaconda3/envs/braket-example/lib/python3.10/site-packages (from google-auth<3.0.dev0,>=2.14.1->google-api-core[grpc]>=1.14.0->cirq-google==1.2.0->cirq) (4.9)\n",
      "Requirement already satisfied: six>=1.9.0 in /Users/spchit/anaconda3/envs/braket-example/lib/python3.10/site-packages (from google-auth<3.0.dev0,>=2.14.1->google-api-core[grpc]>=1.14.0->cirq-google==1.2.0->cirq) (1.16.0)\n",
      "Requirement already satisfied: backcall in /Users/spchit/anaconda3/envs/braket-example/lib/python3.10/site-packages (from ipython>=6.1.0->ipywidgets->cirq-ft==1.2.0->cirq) (0.2.0)\n",
      "Requirement already satisfied: decorator in /Users/spchit/anaconda3/envs/braket-example/lib/python3.10/site-packages (from ipython>=6.1.0->ipywidgets->cirq-ft==1.2.0->cirq) (5.1.1)\n",
      "Requirement already satisfied: jedi>=0.16 in /Users/spchit/anaconda3/envs/braket-example/lib/python3.10/site-packages (from ipython>=6.1.0->ipywidgets->cirq-ft==1.2.0->cirq) (0.18.1)\n",
      "Requirement already satisfied: matplotlib-inline in /Users/spchit/anaconda3/envs/braket-example/lib/python3.10/site-packages (from ipython>=6.1.0->ipywidgets->cirq-ft==1.2.0->cirq) (0.1.6)\n",
      "Requirement already satisfied: pickleshare in /Users/spchit/anaconda3/envs/braket-example/lib/python3.10/site-packages (from ipython>=6.1.0->ipywidgets->cirq-ft==1.2.0->cirq) (0.7.5)\n",
      "Requirement already satisfied: prompt-toolkit!=3.0.37,<3.1.0,>=3.0.30 in /Users/spchit/anaconda3/envs/braket-example/lib/python3.10/site-packages (from ipython>=6.1.0->ipywidgets->cirq-ft==1.2.0->cirq) (3.0.36)\n",
      "Requirement already satisfied: stack-data in /Users/spchit/anaconda3/envs/braket-example/lib/python3.10/site-packages (from ipython>=6.1.0->ipywidgets->cirq-ft==1.2.0->cirq) (0.2.0)\n",
      "Requirement already satisfied: pexpect>4.3 in /Users/spchit/anaconda3/envs/braket-example/lib/python3.10/site-packages (from ipython>=6.1.0->ipywidgets->cirq-ft==1.2.0->cirq) (4.8.0)\n",
      "Requirement already satisfied: appnope in /Users/spchit/anaconda3/envs/braket-example/lib/python3.10/site-packages (from ipython>=6.1.0->ipywidgets->cirq-ft==1.2.0->cirq) (0.1.2)\n",
      "Requirement already satisfied: pyrsistent!=0.17.0,!=0.17.1,!=0.17.2,>=0.14.0 in /Users/spchit/anaconda3/envs/braket-example/lib/python3.10/site-packages (from jsonschema>=2.6->nbformat->cirq-ft==1.2.0->cirq) (0.18.0)\n",
      "Requirement already satisfied: platformdirs>=2.5 in /Users/spchit/anaconda3/envs/braket-example/lib/python3.10/site-packages (from jupyter-core>=4.7->nbconvert->cirq-ft==1.2.0->cirq) (2.5.2)\n",
      "Requirement already satisfied: jupyter-client>=6.1.5 in /Users/spchit/anaconda3/envs/braket-example/lib/python3.10/site-packages (from nbclient>=0.5.0->nbconvert->cirq-ft==1.2.0->cirq) (7.4.9)\n",
      "Requirement already satisfied: nest-asyncio in /Users/spchit/anaconda3/envs/braket-example/lib/python3.10/site-packages (from nbclient>=0.5.0->nbconvert->cirq-ft==1.2.0->cirq) (1.5.6)\n",
      "Requirement already satisfied: PyJWT<3.0.0,>=2.4.0 in /Users/spchit/anaconda3/envs/braket-example/lib/python3.10/site-packages (from qcs-api-client<0.22.0,>=0.20.13->pyquil~=3.2.0->cirq-rigetti==1.2.0->cirq) (2.8.0)\n",
      "Requirement already satisfied: httpx<0.24.0,>=0.23.0 in /Users/spchit/anaconda3/envs/braket-example/lib/python3.10/site-packages (from qcs-api-client<0.22.0,>=0.20.13->pyquil~=3.2.0->cirq-rigetti==1.2.0->cirq) (0.23.3)\n",
      "Requirement already satisfied: iso8601<2.0.0,>=1.0.2 in /Users/spchit/anaconda3/envs/braket-example/lib/python3.10/site-packages (from qcs-api-client<0.22.0,>=0.20.13->pyquil~=3.2.0->cirq-rigetti==1.2.0->cirq) (1.1.0)\n",
      "Requirement already satisfied: pydantic<2.0.0,>=1.7.2 in /Users/spchit/anaconda3/envs/braket-example/lib/python3.10/site-packages (from qcs-api-client<0.22.0,>=0.20.13->pyquil~=3.2.0->cirq-rigetti==1.2.0->cirq) (1.10.12)\n",
      "Requirement already satisfied: retrying<2.0.0,>=1.3.3 in /Users/spchit/anaconda3/envs/braket-example/lib/python3.10/site-packages (from qcs-api-client<0.22.0,>=0.20.13->pyquil~=3.2.0->cirq-rigetti==1.2.0->cirq) (1.3.4)\n",
      "Requirement already satisfied: rfc3339<7.0,>=6.2 in /Users/spchit/anaconda3/envs/braket-example/lib/python3.10/site-packages (from qcs-api-client<0.22.0,>=0.20.13->pyquil~=3.2.0->cirq-rigetti==1.2.0->cirq) (6.2)\n",
      "Requirement already satisfied: toml<0.11.0,>=0.10.2 in /Users/spchit/anaconda3/envs/braket-example/lib/python3.10/site-packages (from qcs-api-client<0.22.0,>=0.20.13->pyquil~=3.2.0->cirq-rigetti==1.2.0->cirq) (0.10.2)\n",
      "Requirement already satisfied: py<2.0.0,>=1.4.26 in /Users/spchit/anaconda3/envs/braket-example/lib/python3.10/site-packages (from retry<0.10.0,>=0.9.2->pyquil~=3.2.0->cirq-rigetti==1.2.0->cirq) (1.11.0)\n",
      "Requirement already satisfied: msgpack<2.0,>=0.6 in /Users/spchit/anaconda3/envs/braket-example/lib/python3.10/site-packages (from rpcq<4.0.0,>=3.10.0->pyquil~=3.2.0->cirq-rigetti==1.2.0->cirq) (1.0.5)\n",
      "Requirement already satisfied: python-rapidjson in /Users/spchit/anaconda3/envs/braket-example/lib/python3.10/site-packages (from rpcq<4.0.0,>=3.10.0->pyquil~=3.2.0->cirq-rigetti==1.2.0->cirq) (1.10)\n",
      "Requirement already satisfied: pyzmq>=17 in /Users/spchit/anaconda3/envs/braket-example/lib/python3.10/site-packages (from rpcq<4.0.0,>=3.10.0->pyquil~=3.2.0->cirq-rigetti==1.2.0->cirq) (23.2.0)\n",
      "Requirement already satisfied: ruamel.yaml in /Users/spchit/anaconda3/envs/braket-example/lib/python3.10/site-packages (from rpcq<4.0.0,>=3.10.0->pyquil~=3.2.0->cirq-rigetti==1.2.0->cirq) (0.17.32)\n"
     ]
    },
    {
     "name": "stdout",
     "output_type": "stream",
     "text": [
      "Requirement already satisfied: soupsieve>1.2 in /Users/spchit/anaconda3/envs/braket-example/lib/python3.10/site-packages (from beautifulsoup4->nbconvert->cirq-ft==1.2.0->cirq) (2.4)\n",
      "Requirement already satisfied: webencodings in /Users/spchit/anaconda3/envs/braket-example/lib/python3.10/site-packages (from bleach->nbconvert->cirq-ft==1.2.0->cirq) (0.5.1)\n",
      "Requirement already satisfied: httpcore<0.17.0,>=0.15.0 in /Users/spchit/anaconda3/envs/braket-example/lib/python3.10/site-packages (from httpx<0.24.0,>=0.23.0->qcs-api-client<0.22.0,>=0.20.13->pyquil~=3.2.0->cirq-rigetti==1.2.0->cirq) (0.16.3)\n",
      "Requirement already satisfied: rfc3986[idna2008]<2,>=1.3 in /Users/spchit/anaconda3/envs/braket-example/lib/python3.10/site-packages (from httpx<0.24.0,>=0.23.0->qcs-api-client<0.22.0,>=0.20.13->pyquil~=3.2.0->cirq-rigetti==1.2.0->cirq) (1.5.0)\n",
      "Requirement already satisfied: sniffio in /Users/spchit/anaconda3/envs/braket-example/lib/python3.10/site-packages (from httpx<0.24.0,>=0.23.0->qcs-api-client<0.22.0,>=0.20.13->pyquil~=3.2.0->cirq-rigetti==1.2.0->cirq) (1.2.0)\n",
      "Requirement already satisfied: parso<0.9.0,>=0.8.0 in /Users/spchit/anaconda3/envs/braket-example/lib/python3.10/site-packages (from jedi>=0.16->ipython>=6.1.0->ipywidgets->cirq-ft==1.2.0->cirq) (0.8.3)\n",
      "Requirement already satisfied: tornado>=6.2 in /Users/spchit/anaconda3/envs/braket-example/lib/python3.10/site-packages (from jupyter-client>=6.1.5->nbclient>=0.5.0->nbconvert->cirq-ft==1.2.0->cirq) (6.3.2)\n",
      "Requirement already satisfied: ptyprocess>=0.5 in /Users/spchit/anaconda3/envs/braket-example/lib/python3.10/site-packages (from pexpect>4.3->ipython>=6.1.0->ipywidgets->cirq-ft==1.2.0->cirq) (0.7.0)\n",
      "Requirement already satisfied: wcwidth in /Users/spchit/anaconda3/envs/braket-example/lib/python3.10/site-packages (from prompt-toolkit!=3.0.37,<3.1.0,>=3.0.30->ipython>=6.1.0->ipywidgets->cirq-ft==1.2.0->cirq) (0.2.5)\n",
      "Requirement already satisfied: pyasn1<0.6.0,>=0.4.6 in /Users/spchit/anaconda3/envs/braket-example/lib/python3.10/site-packages (from pyasn1-modules>=0.2.1->google-auth<3.0.dev0,>=2.14.1->google-api-core[grpc]>=1.14.0->cirq-google==1.2.0->cirq) (0.5.0)\n",
      "Requirement already satisfied: ruamel.yaml.clib>=0.2.7 in /Users/spchit/anaconda3/envs/braket-example/lib/python3.10/site-packages (from ruamel.yaml->rpcq<4.0.0,>=3.10.0->pyquil~=3.2.0->cirq-rigetti==1.2.0->cirq) (0.2.7)\n",
      "Requirement already satisfied: executing in /Users/spchit/anaconda3/envs/braket-example/lib/python3.10/site-packages (from stack-data->ipython>=6.1.0->ipywidgets->cirq-ft==1.2.0->cirq) (0.8.3)\n",
      "Requirement already satisfied: asttokens in /Users/spchit/anaconda3/envs/braket-example/lib/python3.10/site-packages (from stack-data->ipython>=6.1.0->ipywidgets->cirq-ft==1.2.0->cirq) (2.0.5)\n",
      "Requirement already satisfied: pure-eval in /Users/spchit/anaconda3/envs/braket-example/lib/python3.10/site-packages (from stack-data->ipython>=6.1.0->ipywidgets->cirq-ft==1.2.0->cirq) (0.2.2)\n",
      "Requirement already satisfied: h11<0.15,>=0.13 in /Users/spchit/anaconda3/envs/braket-example/lib/python3.10/site-packages (from httpcore<0.17.0,>=0.15.0->httpx<0.24.0,>=0.23.0->qcs-api-client<0.22.0,>=0.20.13->pyquil~=3.2.0->cirq-rigetti==1.2.0->cirq) (0.14.0)\n",
      "Requirement already satisfied: anyio<5.0,>=3.0 in /Users/spchit/anaconda3/envs/braket-example/lib/python3.10/site-packages (from httpcore<0.17.0,>=0.15.0->httpx<0.24.0,>=0.23.0->qcs-api-client<0.22.0,>=0.20.13->pyquil~=3.2.0->cirq-rigetti==1.2.0->cirq) (3.5.0)\n"
     ]
    }
   ],
   "source": [
    "!pip install cirq"
   ]
  },
  {
   "cell_type": "code",
   "execution_count": 2,
   "metadata": {
    "ExecuteTime": {
     "end_time": "2023-07-07T03:48:50.900842Z",
     "start_time": "2023-07-07T03:48:50.898189Z"
    }
   },
   "outputs": [],
   "source": [
    "from typing import List, Tuple, Optional\n",
    "\n",
    "import cirq\n",
    "import numpy as np\n",
    "from braket.ir.jaqcd.program_v1 import Results\n",
    "from cirq import Circuit as CirqCircuit\n",
    "\n",
    "from translations import (\n",
    "    CIRQ_GATES,\n",
    "    CIRQ_NOISE_GATES,\n",
    "    get_cirq_qubits,\n",
    ")\n",
    "from braket.default_simulator.openqasm.program_context import AbstractProgramContext\n",
    "from braket.default_simulator.openqasm.interpreter import Interpreter"
   ]
  },
  {
   "cell_type": "markdown",
   "metadata": {},
   "source": [
    "## Create a translations.py-like File for Gate Mapping\n",
    "\n",
    "Map gates to Cirq gates"
   ]
  },
  {
   "cell_type": "markdown",
   "metadata": {},
   "source": [
    "## Define ProgramContext\n",
    "\n",
    "Inherit AbstractProgramContext and define the abstract methods\n",
    "\n",
    "- The `AbstractProgramContext` class represents the context or state of an interpreter for a program. It provides a framework for managing symbols, variables, gates, subroutines, qubit mappings, and the circuit.\n",
    "\n",
    "\n",
    "- The AbstractProgramContext class is an abstract base class (ABC) that defines the common structure and functionality expected in a program context. \n",
    "\n",
    "- It serves as a blueprint for creating concrete program contexts by defining a set of abstract methods and attributes that must be implemented by the subclasses. \n",
    "\n",
    "- Key attributes of the AbstractProgramContext include the symbol table, variable table, gate table, subroutine table, qubit mapping table, and the program circuit. \n",
    "\n",
    "- The circuit attribute represents the intermediate representation (IR) of the program that is built and handed off to the simulator or executor. \n",
    "\n",
    "- Various other methods, such as add_gate, get_gate_definition, is_user_defined_gate, add_subroutine, and get_subroutine_definition, enable gate and subroutine management within the program. \n",
    "\n",
    "- The AbstractProgramContext defines abstract methods for adding results, phase instructions, gate instructions, custom unitaries, and noise instructions to the program. "
   ]
  },
  {
   "cell_type": "code",
   "execution_count": 3,
   "metadata": {
    "ExecuteTime": {
     "end_time": "2023-07-07T03:48:54.578358Z",
     "start_time": "2023-07-07T03:48:54.574551Z"
    }
   },
   "outputs": [],
   "source": [
    "class CirqProgramContext(AbstractProgramContext):\n",
    "    def __init__(self, circuit: Optional[CirqCircuit] = None):\n",
    "        \"\"\"\n",
    "        Args:\n",
    "            circuit (Optional[Circuit]): A partially-built circuit to continue building with this\n",
    "                context. Default: None.\n",
    "        \"\"\"\n",
    "        super().__init__()\n",
    "        self._circuit = circuit or CirqCircuit()\n",
    "\n",
    "    @property\n",
    "    def circuit(self) -> CirqCircuit:\n",
    "        return self._circuit\n",
    "\n",
    "    def is_builtin_gate(self, name: str) -> bool:\n",
    "        \"\"\"Whether the gate is currently in scope as a built-in Braket gate.\n",
    "\n",
    "        Args:\n",
    "            name (str): name of the built-in Braket gate\n",
    "\n",
    "        Returns:\n",
    "            bool: return TRUE if it is a built-in gate else FALSE.\n",
    "        \"\"\"\n",
    "        user_defined_gate = self.is_user_defined_gate(name)\n",
    "        return name in CIRQ_GATES and not user_defined_gate\n",
    "\n",
    "    def add_gate_instruction(\n",
    "            self, gate_name: str, target: Tuple[int], params, ctrl_modifiers: List[int], power: int\n",
    "    ):\n",
    "        \"\"\"Add Braket gate to the circuit.\n",
    "\n",
    "        Args:\n",
    "            gate_name (str): name of the gate.\n",
    "            target (Tuple[int]): control_qubits + target_qubits.\n",
    "            ctrl_modifiers (List[int]): Quantum state on which to control the\n",
    "                operation. Must be a binary sequence of same length as number of qubits in\n",
    "                `control_qubits` in target. For example \"0101\", [0, 1, 0, 1], 5 all represent\n",
    "                controlling on qubits 0 and 2 being in the \\\\|0⟩ state and qubits 1 and 3 being\n",
    "                in the \\\\|1⟩ state.\n",
    "            power(float): Integer or fractional power to raise the gate to.\n",
    "        \"\"\"\n",
    "        qubits = get_cirq_qubits(target)\n",
    "        target_cirq_qubits = qubits[len(ctrl_modifiers):]\n",
    "        control_qubits = qubits[: len(ctrl_modifiers)]\n",
    "\n",
    "        if params:\n",
    "            gate = CIRQ_GATES[gate_name](*params).on(*target_cirq_qubits)\n",
    "        else:\n",
    "            gate = CIRQ_GATES[gate_name].on(*target_cirq_qubits)\n",
    "        gate = gate.controlled_by(*control_qubits, control_values=ctrl_modifiers)\n",
    "        gate = gate ** power\n",
    "\n",
    "        self._circuit.append(gate)\n",
    "\n",
    "    def add_custom_unitary(\n",
    "            self,\n",
    "            unitary: np.ndarray,\n",
    "            target: Tuple[int],\n",
    "    ) -> None:\n",
    "        \"\"\"Add a custom Unitary instruction to the circuit\n",
    "\n",
    "        Args:\n",
    "            unitary (np.ndarray): unitary matrix\n",
    "            target (Tuple[int]): control_qubits + target_qubits\n",
    "        \"\"\"\n",
    "        qubits = get_cirq_qubits(target)\n",
    "        instruction = cirq.MatrixGate(unitary).on(*qubits)\n",
    "        self._circuit.append(instruction)\n",
    "\n",
    "    def add_noise_instruction(self, noise_instruction: str, target: List[int], probabilities: List[float]):\n",
    "        \"\"\"Method to add a noise instruction to the circuit\n",
    "\n",
    "        Args:\n",
    "            noise_instruction (str): The name of the noise operation\n",
    "            target (List[int]): The target qubit or qubits to which the noise operation is applied.\n",
    "            probabilities (List[float]): The probabilities associated with each possible outcome\n",
    "                of the noise operation.\n",
    "        \"\"\"\n",
    "        qubits = get_cirq_qubits(target)\n",
    "        instruction = CIRQ_NOISE_GATES[noise_instruction](*probabilities).on(*qubits)\n",
    "        self._circuit.append(instruction)\n",
    "\n",
    "    def add_result(self, result: Results) -> None:\n",
    "        \"\"\"Add a result type to the circuit\"\"\"\n",
    "        raise NotImplementedError\n",
    "        \n",
    "    def add_phase_instruction(self, target: Tuple[int], phase_value: int):\n",
    "        raise NotImplementedError"
   ]
  },
  {
   "cell_type": "markdown",
   "metadata": {},
   "source": []
  },
  {
   "cell_type": "markdown",
   "metadata": {},
   "source": [
    "## Basic gates example\n",
    "This section showcases an example of basic gates. An OpenQASM program is defined, and a Circ circuit is built using the `Interpreter` and `CirqProgramContext` classes."
   ]
  },
  {
   "cell_type": "code",
   "execution_count": 4,
   "metadata": {
    "ExecuteTime": {
     "end_time": "2023-07-07T03:48:55.554815Z",
     "start_time": "2023-07-07T03:48:55.534707Z"
    }
   },
   "outputs": [
    {
     "name": "stdout",
     "output_type": "stream",
     "text": [
      "0: ───H───M───\n"
     ]
    },
    {
     "name": "stderr",
     "output_type": "stream",
     "text": [
      "/var/folders/tb/2yh3yjmn3196046lsp7n2m5r0000gr/T/ipykernel_2558/2448392670.py:46: DeprecationWarning: The truth value of an empty array is ambiguous. Returning False, but in future this will result in an error. Use `array.size > 0` to check that an array is not empty.\n",
      "  if params:\n"
     ]
    }
   ],
   "source": [
    "openqasm = \"\"\"\n",
    "            OPENQASM 3.0;\n",
    "            bit[1] b;\n",
    "            qubit[1] q;\n",
    "            h q[0];\n",
    "           \"\"\"\n",
    "\n",
    "basic_cirq_circuit = Interpreter(CirqProgramContext()).build_circuit(\n",
    "        source=openqasm,\n",
    "    )\n",
    "\n",
    "basic_cirq_circuit.append(cirq.measure(*basic_cirq_circuit.all_qubits()))\n",
    "print(basic_cirq_circuit)\n"
   ]
  },
  {
   "cell_type": "markdown",
   "metadata": {},
   "source": [
    "## Running basic circuit on simulator\n",
    "\n",
    "The simulator runs the circuit with a specified number of repetitions, and the results are displayed in a state histogram plot"
   ]
  },
  {
   "cell_type": "code",
   "execution_count": 5,
   "metadata": {
    "ExecuteTime": {
     "end_time": "2023-07-07T03:48:56.676178Z",
     "start_time": "2023-07-07T03:48:56.476357Z"
    }
   },
   "outputs": [
    {
     "name": "stdout",
     "output_type": "stream",
     "text": [
      "q(0)=0010111011\n"
     ]
    },
    {
     "name": "stderr",
     "output_type": "stream",
     "text": [
      "/Users/spchit/workspace/amazon-braket-sdk-python/venv/lib/python3.9/site-packages/cirq/vis/state_histogram.py:103: UserWarning: Matplotlib is currently using module://matplotlib_inline.backend_inline, which is a non-GUI backend, so cannot show the figure.\n",
      "  fig.show()\n"
     ]
    },
    {
     "data": {
      "text/plain": [
       "<Axes: title={'center': 'Result State Histogram'}, xlabel='qubit state', ylabel='result count'>"
      ]
     },
     "execution_count": 5,
     "metadata": {},
     "output_type": "execute_result"
    },
    {
     "data": {
      "image/png": "[encoded data removed]",
      "text/plain": [
       "<Figure size 640x480 with 1 Axes>"
      ]
     },
     "metadata": {},
     "output_type": "display_data"
    }
   ],
   "source": [
    "from cirq import plot_state_histogram as plt_hist\n",
    "\n",
    "simulator = cirq.Simulator()\n",
    "\n",
    "result = simulator.run(basic_cirq_circuit, repetitions=10)\n",
    "\n",
    "print(result)\n",
    "plt_hist(result)"
   ]
  },
  {
   "cell_type": "markdown",
   "metadata": {},
   "source": [
    "## Noise Gate example"
   ]
  },
  {
   "cell_type": "code",
   "execution_count": 6,
   "metadata": {
    "ExecuteTime": {
     "end_time": "2023-06-26T20:07:42.385150Z",
     "start_time": "2023-06-26T20:07:42.373892Z"
    }
   },
   "outputs": [
    {
     "name": "stdout",
     "output_type": "stream",
     "text": [
      "0: ───X───BF(0.1)───M───\n"
     ]
    },
    {
     "name": "stderr",
     "output_type": "stream",
     "text": [
      "/var/folders/tb/2yh3yjmn3196046lsp7n2m5r0000gr/T/ipykernel_2558/2448392670.py:46: DeprecationWarning: The truth value of an empty array is ambiguous. Returning False, but in future this will result in an error. Use `array.size > 0` to check that an array is not empty.\n",
      "  if params:\n"
     ]
    }
   ],
   "source": [
    "openqasm = \"\"\"\n",
    "            OPENQASM 3.0;\n",
    "            bit[1] b;\n",
    "            qubit[1] q;\n",
    "            x q[0];\n",
    "            #pragma braket noise bit_flip(0.1) q[0]\n",
    "            b[0] = measure q[0];\n",
    "            \"\"\"\n",
    "noise_cirq_circuit = Interpreter(CirqProgramContext()).build_circuit(\n",
    "        source=openqasm,\n",
    "    )\n",
    "noise_cirq_circuit.append(cirq.measure(*basic_cirq_circuit.all_qubits()))\n",
    "print(noise_cirq_circuit)"
   ]
  },
  {
   "cell_type": "markdown",
   "metadata": {},
   "source": [
    "## Running noise circuits on cirq simulator"
   ]
  },
  {
   "cell_type": "code",
   "execution_count": 7,
   "metadata": {
    "ExecuteTime": {
     "end_time": "2023-06-26T20:12:53.255542Z",
     "start_time": "2023-06-26T20:12:53.167327Z"
    }
   },
   "outputs": [
    {
     "name": "stdout",
     "output_type": "stream",
     "text": [
      "q(0)=1011111110101011111101111111111111011111111111111110111111101110111111011011111111111111111111111111\n"
     ]
    },
    {
     "name": "stderr",
     "output_type": "stream",
     "text": [
      "/Users/spchit/workspace/amazon-braket-sdk-python/venv/lib/python3.9/site-packages/cirq/vis/state_histogram.py:103: UserWarning: Matplotlib is currently using module://matplotlib_inline.backend_inline, which is a non-GUI backend, so cannot show the figure.\n",
      "  fig.show()\n"
     ]
    },
    {
     "data": {
      "text/plain": [
       "<Axes: title={'center': 'Result State Histogram'}, xlabel='qubit state', ylabel='result count'>"
      ]
     },
     "execution_count": 7,
     "metadata": {},
     "output_type": "execute_result"
    },
    {
     "data": {
      "image/png": "[encoded data removed]",
      "text/plain": [
       "<Figure size 640x480 with 1 Axes>"
      ]
     },
     "metadata": {},
     "output_type": "display_data"
    }
   ],
   "source": [
    "from cirq import plot_state_histogram as plt_hist\n",
    "\n",
    "result = simulator.run(noise_cirq_circuit, repetitions=100)\n",
    "\n",
    "print(result)\n",
    "plt_hist(result)"
   ]
  },
  {
   "cell_type": "markdown",
   "metadata": {},
   "source": [
    "## Instructions to add a cirq as one of the local simulators in Braket Simulators.\n",
    "\n",
    "This section provides instructions for adding Cirq as a local simulator in Braket Simulators. It includes defining a `CirqSimulator` class, and implementing necessary methods for initialization, circuit execution, and result generation."
   ]
  },
  {
   "cell_type": "code",
   "execution_count": 8,
   "metadata": {},
   "outputs": [],
   "source": [
    "import sys\n",
    "import uuid\n",
    "\n",
    "import cirq\n",
    "from braket.device_schema.simulators import (\n",
    "    GateModelSimulatorDeviceCapabilities,\n",
    "    GateModelSimulatorDeviceParameters,\n",
    ")\n",
    "from braket.ir.openqasm import Program as OpenQASMProgram\n",
    "from braket.task_result import GateModelTaskResult, TaskMetadata, AdditionalMetadata\n",
    "from cirq import Simulator\n",
    "\n",
    "\n",
    "from braket.default_simulator.openqasm.interpreter import Interpreter\n",
    "from braket.default_simulator.simulator import OpenQASMSimulator\n",
    "from braket.default_simulator.local_execution_manager import LocalExecutionManager\n",
    "\n",
    "\n",
    "class CirqSimulator(OpenQASMSimulator):\n",
    "    DEVICE_ID = \"cirq\"\n",
    "\n",
    "    def initialize_simulation(self):\n",
    "        \"\"\"\n",
    "        Initialize cirq simulation.\n",
    "\n",
    "\n",
    "        Returns:\n",
    "            cirq.Simulator: Initialized simulation.\n",
    "        \"\"\"\n",
    "        return Simulator()\n",
    "\n",
    "    def run(self, circuit_ir: OpenQASMProgram, shots, *args, **kwargs):\n",
    "        circuit = self.parse_program(circuit_ir).circuit\n",
    "        circuit.append(cirq.measure(*circuit.all_qubits()))\n",
    "        simulation = self.initialize_simulation()\n",
    "        result = simulation.run(circuit, repetitions=shots)\n",
    "        return self._create_results_obj(circuit_ir, result)\n",
    "    \n",
    "    def execution_manager(self, *args, **kwargs) -> LocalExecutionManager:\n",
    "        return LocalExecutionManager(self, *args, **kwargs)\n",
    "    \n",
    "    def create_program_context(self) -> CirqProgramContext:\n",
    "        return CirqProgramContext()\n",
    "\n",
    "    def _get_measured_qubits(self, result):\n",
    "        measured_qubits = set()\n",
    "        for key in result.measurements.keys():\n",
    "            measured_qubits.update([qubit[qubit.index(\"(\") + 1 : -1] for qubit in key.split(\",\")])\n",
    "        return list(measured_qubits)\n",
    "\n",
    "    def _create_results_obj(\n",
    "        self,\n",
    "        circuit_ir: OpenQASMProgram,\n",
    "        result: cirq.Result,\n",
    "    ) -> GateModelTaskResult:\n",
    "        return GateModelTaskResult.construct(\n",
    "            taskMetadata=TaskMetadata(\n",
    "                id=str(uuid.uuid4()),\n",
    "                shots=result.repetitions,\n",
    "                deviceId=self.DEVICE_ID,\n",
    "            ),\n",
    "            additionalMetadata=AdditionalMetadata(\n",
    "                action=circuit_ir,\n",
    "            ),\n",
    "            measurements=list(list(result.measurements.values())[0]),\n",
    "            measuredQubits=self._get_measured_qubits(result),\n",
    "        )\n",
    "\n",
    "    @property\n",
    "    def properties(self):\n",
    "        max_shots = sys.maxsize\n",
    "        return GateModelSimulatorDeviceCapabilities.parse_obj(\n",
    "            {\n",
    "                \"service\": {\n",
    "                    \"executionWindows\": [\n",
    "                        {\n",
    "                            \"executionDay\": \"Everyday\",\n",
    "                            \"windowStartHour\": \"00:00\",\n",
    "                            \"windowEndHour\": \"23:59:59\",\n",
    "                        }\n",
    "                    ],\n",
    "                    \"shotsRange\": [0, max_shots],\n",
    "                },\n",
    "                \"action\": {\n",
    "                    \"braket.ir.openqasm.program\": {\n",
    "                        \"actionType\": \"braket.ir.openqasm.program\",\n",
    "                        \"version\": [\"1\"],\n",
    "                        \"supportedOperations\": [\n",
    "                            # builtin Braket gates\n",
    "                            \"ccnot\",\n",
    "                            \"cnot\",\n",
    "                            \"cphaseshift\",\n",
    "                            \"cswap\",\n",
    "                            \"h\",\n",
    "                            \"i\",\n",
    "                            \"iswap\",\n",
    "                            \"rx\",\n",
    "                            \"ry\",\n",
    "                            \"rz\",\n",
    "                            \"s\",\n",
    "                            \"swap\",\n",
    "                            \"t\",\n",
    "                            \"x\",\n",
    "                            \"y\",\n",
    "                            \"z\",\n",
    "                        ],\n",
    "                        \"supportedModifiers\": [\n",
    "                            {\n",
    "                                \"name\": \"ctrl\",\n",
    "                            },\n",
    "                            {\n",
    "                                \"name\": \"negctrl\",\n",
    "                            },\n",
    "                            {\n",
    "                                \"name\": \"pow\",\n",
    "                                \"exponent_types\": [\"int\", \"float\"],\n",
    "                            },\n",
    "                            {\n",
    "                                \"name\": \"inv\",\n",
    "                            },\n",
    "                        ],\n",
    "                        \"supportedPragmas\": [\n",
    "                            \"braket_unitary_matrix\",\n",
    "                            \"braket_result_type_state_vector\",\n",
    "                            \"braket_result_type_density_matrix\",\n",
    "                            \"braket_result_type_sample\",\n",
    "                            \"braket_result_type_expectation\",\n",
    "                            \"braket_result_type_variance\",\n",
    "                            \"braket_result_type_probability\",\n",
    "                            \"braket_result_type_amplitude\",\n",
    "                            \"braket_noise_bit_flip\",\n",
    "                            \"braket_noise_depolarizing\",\n",
    "                            \"braket_noise_generalized_amplitude_damping\",\n",
    "                            \"braket_noise_phase_flip\",\n",
    "                            \"braket_noise_phase_damping\",\n",
    "                        ],\n",
    "                        \"forbiddenPragmas\": [\n",
    "                            \"braket_noise_amplitude_damping\",\n",
    "                            \"braket_noise_kraus\",\n",
    "                            \"braket_noise_pauli_channel\",\n",
    "                            \"braket_noise_two_qubit_dephasing\",\n",
    "                            \"braket_noise_two_qubit_depolarizing\",\n",
    "                            \"braket_result_type_adjoint_gradient\",\n",
    "                        ],\n",
    "                        \"supportPhysicalQubits\": False,\n",
    "                        \"supportsPartialVerbatimBox\": False,\n",
    "                        \"requiresContiguousQubitIndices\": True,\n",
    "                        \"requiresAllQubitsMeasurement\": True,\n",
    "                        \"supportsUnassignedMeasurements\": True,\n",
    "                        \"disabledQubitRewiringSupported\": False,\n",
    "                    },\n",
    "                },\n",
    "                \"paradigm\": {\"qubitCount\": 20},\n",
    "                \"deviceParameters\": GateModelSimulatorDeviceParameters.schema(),\n",
    "            }\n",
    "        )"
   ]
  },
  {
   "cell_type": "markdown",
   "metadata": {},
   "source": [
    "### Running a braket circuit on the local simulator defined above"
   ]
  },
  {
   "cell_type": "code",
   "execution_count": 9,
   "metadata": {},
   "outputs": [
    {
     "name": "stdout",
     "output_type": "stream",
     "text": [
      "Result GateModelQuantumTaskResult(task_metadata=TaskMetadata(braketSchemaHeader=BraketSchemaHeader(name='braket.task_result.task_metadata', version='1'), id='c51d37e0-315c-4e66-87d3-910329f76cf6', shots=10, deviceId='cirq', deviceParameters=None, createdAt=None, endedAt=None, status=None, failureReason=None), additional_metadata=AdditionalMetadata(action=Program(braketSchemaHeader=BraketSchemaHeader(name='braket.ir.openqasm.program', version='1'), source='OPENQASM 3.0;\\nbit[1] b;\\nqubit[1] q;\\nh q[0];\\nb[0] = measure q[0];', inputs={}), dwaveMetadata=None, ionqMetadata=None, rigettiMetadata=None, oqcMetadata=None, xanaduMetadata=None, queraMetadata=None, simulatorMetadata=None), result_types=[], values=[], measurements=array([[0],\n",
      "       [1],\n",
      "       [1],\n",
      "       [1],\n",
      "       [1],\n",
      "       [1],\n",
      "       [1],\n",
      "       [0],\n",
      "       [0],\n",
      "       [1]]), measured_qubits=['0'], measurement_counts=Counter({'1': 7, '0': 3}), measurement_probabilities={'0': 0.3, '1': 0.7}, measurements_copied_from_device=True, measurement_counts_copied_from_device=False, measurement_probabilities_copied_from_device=False, _result_types_indices={})\n"
     ]
    },
    {
     "name": "stderr",
     "output_type": "stream",
     "text": [
      "/var/folders/tb/2yh3yjmn3196046lsp7n2m5r0000gr/T/ipykernel_2558/2448392670.py:46: DeprecationWarning: The truth value of an empty array is ambiguous. Returning False, but in future this will result in an error. Use `array.size > 0` to check that an array is not empty.\n",
      "  if params:\n"
     ]
    }
   ],
   "source": [
    "from braket.circuits import Circuit\n",
    "from braket.circuits.serialization import IRType\n",
    "from braket.devices import LocalSimulator\n",
    "\n",
    "dev = LocalSimulator(CirqSimulator())\n",
    "braket_circuit = Circuit().h(0)\n",
    "openqasm_program = braket_circuit.to_ir(IRType.OPENQASM)\n",
    "result = dev.run(openqasm_program, shots=10).result()\n",
    "print(\"Result\", result)"
   ]
  },
  {
   "cell_type": "markdown",
   "metadata": {},
   "source": [
    "## Add Cirq Ionq as device using the program context and task execution manager"
   ]
  },
  {
   "cell_type": "code",
   "execution_count": 10,
   "metadata": {
    "collapsed": true
   },
   "outputs": [
    {
     "name": "stdout",
     "output_type": "stream",
     "text": [
      "Requirement already satisfied: cirq_ionq in /Users/spchit/anaconda3/envs/braket-example/lib/python3.10/site-packages (1.2.0)\n",
      "Requirement already satisfied: requests~=2.18 in /Users/spchit/anaconda3/envs/braket-example/lib/python3.10/site-packages (from cirq_ionq) (2.31.0)\n",
      "Requirement already satisfied: cirq-core==1.2.0 in /Users/spchit/anaconda3/envs/braket-example/lib/python3.10/site-packages (from cirq_ionq) (1.2.0)\n",
      "Requirement already satisfied: duet~=0.2.8 in /Users/spchit/anaconda3/envs/braket-example/lib/python3.10/site-packages (from cirq-core==1.2.0->cirq_ionq) (0.2.9)\n",
      "Requirement already satisfied: matplotlib~=3.0 in /Users/spchit/anaconda3/envs/braket-example/lib/python3.10/site-packages (from cirq-core==1.2.0->cirq_ionq) (3.7.2)\n",
      "Requirement already satisfied: networkx>=2.4 in /Users/spchit/anaconda3/envs/braket-example/lib/python3.10/site-packages (from cirq-core==1.2.0->cirq_ionq) (2.8.8)\n",
      "Requirement already satisfied: numpy~=1.16 in /Users/spchit/anaconda3/envs/braket-example/lib/python3.10/site-packages (from cirq-core==1.2.0->cirq_ionq) (1.25.2)\n",
      "Requirement already satisfied: pandas in /Users/spchit/anaconda3/envs/braket-example/lib/python3.10/site-packages (from cirq-core==1.2.0->cirq_ionq) (2.0.3)\n",
      "Requirement already satisfied: sortedcontainers~=2.0 in /Users/spchit/anaconda3/envs/braket-example/lib/python3.10/site-packages (from cirq-core==1.2.0->cirq_ionq) (2.4.0)\n",
      "Requirement already satisfied: scipy in /Users/spchit/anaconda3/envs/braket-example/lib/python3.10/site-packages (from cirq-core==1.2.0->cirq_ionq) (1.11.1)\n",
      "Requirement already satisfied: sympy in /Users/spchit/anaconda3/envs/braket-example/lib/python3.10/site-packages (from cirq-core==1.2.0->cirq_ionq) (1.12)\n",
      "Requirement already satisfied: typing-extensions>=4.2 in /Users/spchit/anaconda3/envs/braket-example/lib/python3.10/site-packages (from cirq-core==1.2.0->cirq_ionq) (4.7.1)\n",
      "Requirement already satisfied: tqdm in /Users/spchit/anaconda3/envs/braket-example/lib/python3.10/site-packages (from cirq-core==1.2.0->cirq_ionq) (4.66.1)\n",
      "Requirement already satisfied: charset-normalizer<4,>=2 in /Users/spchit/anaconda3/envs/braket-example/lib/python3.10/site-packages (from requests~=2.18->cirq_ionq) (3.2.0)\n",
      "Requirement already satisfied: idna<4,>=2.5 in /Users/spchit/anaconda3/envs/braket-example/lib/python3.10/site-packages (from requests~=2.18->cirq_ionq) (3.4)\n",
      "Requirement already satisfied: urllib3<3,>=1.21.1 in /Users/spchit/anaconda3/envs/braket-example/lib/python3.10/site-packages (from requests~=2.18->cirq_ionq) (1.26.16)\n",
      "Requirement already satisfied: certifi>=2017.4.17 in /Users/spchit/anaconda3/envs/braket-example/lib/python3.10/site-packages (from requests~=2.18->cirq_ionq) (2023.7.22)\n",
      "Requirement already satisfied: contourpy>=1.0.1 in /Users/spchit/anaconda3/envs/braket-example/lib/python3.10/site-packages (from matplotlib~=3.0->cirq-core==1.2.0->cirq_ionq) (1.1.0)\n",
      "Requirement already satisfied: cycler>=0.10 in /Users/spchit/anaconda3/envs/braket-example/lib/python3.10/site-packages (from matplotlib~=3.0->cirq-core==1.2.0->cirq_ionq) (0.11.0)\n",
      "Requirement already satisfied: fonttools>=4.22.0 in /Users/spchit/anaconda3/envs/braket-example/lib/python3.10/site-packages (from matplotlib~=3.0->cirq-core==1.2.0->cirq_ionq) (4.42.0)\n",
      "Requirement already satisfied: kiwisolver>=1.0.1 in /Users/spchit/anaconda3/envs/braket-example/lib/python3.10/site-packages (from matplotlib~=3.0->cirq-core==1.2.0->cirq_ionq) (1.4.4)\n",
      "Requirement already satisfied: packaging>=20.0 in /Users/spchit/anaconda3/envs/braket-example/lib/python3.10/site-packages (from matplotlib~=3.0->cirq-core==1.2.0->cirq_ionq) (23.0)\n",
      "Requirement already satisfied: pillow>=6.2.0 in /Users/spchit/anaconda3/envs/braket-example/lib/python3.10/site-packages (from matplotlib~=3.0->cirq-core==1.2.0->cirq_ionq) (10.0.0)\n",
      "Requirement already satisfied: pyparsing<3.1,>=2.3.1 in /Users/spchit/anaconda3/envs/braket-example/lib/python3.10/site-packages (from matplotlib~=3.0->cirq-core==1.2.0->cirq_ionq) (3.0.9)\n",
      "Requirement already satisfied: python-dateutil>=2.7 in /Users/spchit/anaconda3/envs/braket-example/lib/python3.10/site-packages (from matplotlib~=3.0->cirq-core==1.2.0->cirq_ionq) (2.8.2)\n",
      "Requirement already satisfied: pytz>=2020.1 in /Users/spchit/anaconda3/envs/braket-example/lib/python3.10/site-packages (from pandas->cirq-core==1.2.0->cirq_ionq) (2023.3)\n",
      "Requirement already satisfied: tzdata>=2022.1 in /Users/spchit/anaconda3/envs/braket-example/lib/python3.10/site-packages (from pandas->cirq-core==1.2.0->cirq_ionq) (2023.3)\n",
      "Requirement already satisfied: mpmath>=0.19 in /Users/spchit/anaconda3/envs/braket-example/lib/python3.10/site-packages (from sympy->cirq-core==1.2.0->cirq_ionq) (1.3.0)\n",
      "Requirement already satisfied: six>=1.5 in /Users/spchit/anaconda3/envs/braket-example/lib/python3.10/site-packages (from python-dateutil>=2.7->matplotlib~=3.0->cirq-core==1.2.0->cirq_ionq) (1.16.0)\n"
     ]
    }
   ],
   "source": [
    "!pip install cirq_ionq"
   ]
  },
  {
   "cell_type": "code",
   "execution_count": 12,
   "metadata": {},
   "outputs": [],
   "source": [
    "from typing import Union\n",
    "from braket.simulator.quantum_task import ExecutionManager\n",
    "import cirq_ionq\n",
    "\n",
    "class CirqIonqExecutionManager(ExecutionManager):\n",
    "    \"\"\"Execution manager for running Cirq programs on IonQ devices.\n",
    "    \n",
    "    This class provides functionality to manage the execution of Cirq programs on IonQ quantum devices.\n",
    "    It handles circuit creation, execution, and result retrieval, as well as providing methods to\n",
    "    interact with the executed task.\n",
    "    \n",
    "    Args:\n",
    "        device (IonQDevice): An instance of the IonQ quantum device on which to run the program.\n",
    "        program (str): The OpenQASM program to be executed on the device.\n",
    "        shots (int): The number of times the circuit should be executed.\n",
    "        *args: Additional positional arguments passed to the device creation function.\n",
    "        **kwargs: Additional keyword arguments passed to the device creation function.\n",
    "    \"\"\"\n",
    "\n",
    "    def __init__(self, device, program, shots ,*args, **kwargs):\n",
    "        \"\"\"Initialize the execution manager with the provided device, program, and shot count.\"\"\"\n",
    "        circuit = device.parse_program(program).circuit\n",
    "        circuit.append(cirq.measure(*circuit.all_qubits()))\n",
    "        self.job = device.create(circuit, repetitions=shots, *args, **kwargs)\n",
    "        self.program = program\n",
    "        self.device = device\n",
    "\n",
    "    def result(\n",
    "            self,\n",
    "    ) -> GateModelTaskResult:\n",
    "        \"\"\"Retrieve the results of the quantum execution.\n",
    "    \n",
    "        Returns:\n",
    "            GateModelTaskResult: The results of the quantum execution, including metadata and measurements.\n",
    "        \"\"\"\n",
    "        result = self.job.results().to_cirq_result()\n",
    "        return self._create_results_obj(self.program, result)\n",
    "\n",
    "    def cancel(self) -> None:\n",
    "        \"\"\"Cancel the quantum task.\n",
    "        \n",
    "        Cancels the ongoing quantum execution on the IonQ device.\n",
    "        \"\"\"\n",
    "        self.job.cancel()\n",
    "\n",
    "    def state(self) -> str:\n",
    "        \"\"\"Get the current state of the quantum task.\n",
    "        \n",
    "        Returns:\n",
    "            str: The current state of the quantum task, e.g. 'completed', 'canceled', 'failed', 'deleted', 'ready', 'submitted', 'running'.\n",
    "        \"\"\"\n",
    "        return self.job.status()\n",
    "\n",
    "    \n",
    "    def _get_measured_qubits(self, result):\n",
    "        measured_qubits = set()\n",
    "        for key in result.measurements.keys():\n",
    "            measured_qubits.update([qubit[qubit.index(\"(\") + 1 : -1] for qubit in key.split(\",\")])\n",
    "        return list(measured_qubits)\n",
    "\n",
    "    def _create_results_obj(\n",
    "        self,\n",
    "        circuit_ir: OpenQASMProgram,\n",
    "        result: cirq.Result,\n",
    "    ) -> GateModelTaskResult:\n",
    "        \"\"\"Create a task result object from the execution results.\n",
    "        \n",
    "        Args:\n",
    "            circuit_ir (OpenQASMProgram): The original OpenQASM program executed.\n",
    "            result (cirq.Result): The execution result containing measurements.\n",
    "            \n",
    "        Returns:\n",
    "            GateModelTaskResult: A constructed task result object containing metadata and measurements.\n",
    "        \"\"\"\n",
    "        return GateModelTaskResult.construct(\n",
    "            taskMetadata=TaskMetadata(\n",
    "                id=str(uuid.uuid4()),\n",
    "                shots=result.repetitions,\n",
    "                deviceId=self.device.DEVICE_ID,\n",
    "            ),\n",
    "            additionalMetadata=AdditionalMetadata(\n",
    "                action=circuit_ir,\n",
    "            ),\n",
    "            measurements=list(list(result.measurements.values())[0]),\n",
    "            measuredQubits=self._get_measured_qubits(result),\n",
    "        )"
   ]
  },
  {
   "cell_type": "code",
   "execution_count": 13,
   "metadata": {},
   "outputs": [],
   "source": [
    "import sys\n",
    "import uuid\n",
    "import os\n",
    "\n",
    "import cirq\n",
    "from braket.device_schema.simulators import (\n",
    "    GateModelSimulatorDeviceCapabilities,\n",
    "    GateModelSimulatorDeviceParameters,\n",
    ")\n",
    "from braket.ir.openqasm import Program as OpenQASMProgram\n",
    "from braket.task_result import GateModelTaskResult, TaskMetadata, AdditionalMetadata\n",
    "from cirq import Simulator\n",
    "\n",
    "\n",
    "from braket.default_simulator.openqasm.interpreter import Interpreter\n",
    "from braket.default_simulator.simulator import OpenQASMSimulator\n",
    "from braket.default_simulator.local_execution_manager import LocalExecutionManager\n",
    "\n",
    "\n",
    "class CirqIonqDevice(OpenQASMSimulator):\n",
    "    DEVICE_ID = \"CirqIonqDevice\"\n",
    "    SERVICE = cirq_ionq.Service(api_key=os.environ.get('CIRQ_IONQ_APIKEY'))\n",
    "    def create(self, circuit, *args, **kwargs):\n",
    "        return self.SERVICE.create_job(circuit, *args, **kwargs)\n",
    "\n",
    "    def run(self):\n",
    "        # Since it runs on quantum computer\n",
    "        pass\n",
    "\n",
    "    def execution_manager(self, *args, **kwargs) -> LocalExecutionManager:\n",
    "        return CirqIonqExecutionManager(self, *args, **kwargs)\n",
    "\n",
    "    def create_program_context(self) -> CirqProgramContext:\n",
    "        return CirqProgramContext()\n",
    "\n",
    "    @property\n",
    "    def properties(self):\n",
    "        max_shots = sys.maxsize\n",
    "        return GateModelSimulatorDeviceCapabilities.parse_obj(\n",
    "            {\n",
    "                \"service\": {\n",
    "                    \"executionWindows\": [\n",
    "                        {\n",
    "                            \"executionDay\": \"Everyday\",\n",
    "                            \"windowStartHour\": \"00:00\",\n",
    "                            \"windowEndHour\": \"23:59:59\",\n",
    "                        }\n",
    "                    ],\n",
    "                    \"shotsRange\": [0, max_shots],\n",
    "                },\n",
    "                \"action\": {\n",
    "                    \"braket.ir.openqasm.program\": {\n",
    "                        \"actionType\": \"braket.ir.openqasm.program\",\n",
    "                        \"version\": [\"1\"],\n",
    "                        \"supportedOperations\": [\n",
    "                            # builtin Braket gates\n",
    "                            \"ccnot\",\n",
    "                            \"cnot\",\n",
    "                            \"cphaseshift\",\n",
    "                            \"cswap\",\n",
    "                            \"h\",\n",
    "                            \"i\",\n",
    "                            \"iswap\",\n",
    "                            \"rx\",\n",
    "                            \"ry\",\n",
    "                            \"rz\",\n",
    "                            \"s\",\n",
    "                            \"swap\",\n",
    "                            \"t\",\n",
    "                            \"x\",\n",
    "                            \"y\",\n",
    "                            \"z\",\n",
    "                        ],\n",
    "                        \"supportedModifiers\": [\n",
    "                            {\n",
    "                                \"name\": \"ctrl\",\n",
    "                            },\n",
    "                            {\n",
    "                                \"name\": \"negctrl\",\n",
    "                            },\n",
    "                            {\n",
    "                                \"name\": \"pow\",\n",
    "                                \"exponent_types\": [\"int\", \"float\"],\n",
    "                            },\n",
    "                            {\n",
    "                                \"name\": \"inv\",\n",
    "                            },\n",
    "                        ],\n",
    "                        \"supportedPragmas\": [\n",
    "                            \"braket_unitary_matrix\",\n",
    "                            \"braket_result_type_state_vector\",\n",
    "                            \"braket_result_type_density_matrix\",\n",
    "                            \"braket_result_type_sample\",\n",
    "                            \"braket_result_type_expectation\",\n",
    "                            \"braket_result_type_variance\",\n",
    "                            \"braket_result_type_probability\",\n",
    "                            \"braket_result_type_amplitude\",\n",
    "                            \"braket_noise_bit_flip\",\n",
    "                            \"braket_noise_depolarizing\",\n",
    "                            \"braket_noise_generalized_amplitude_damping\",\n",
    "                            \"braket_noise_phase_flip\",\n",
    "                            \"braket_noise_phase_damping\",\n",
    "                        ],\n",
    "                        \"forbiddenPragmas\": [\n",
    "                            \"braket_noise_amplitude_damping\",\n",
    "                            \"braket_noise_kraus\",\n",
    "                            \"braket_noise_pauli_channel\",\n",
    "                            \"braket_noise_two_qubit_dephasing\",\n",
    "                            \"braket_noise_two_qubit_depolarizing\",\n",
    "                            \"braket_result_type_adjoint_gradient\",\n",
    "                        ],\n",
    "                        \"supportPhysicalQubits\": False,\n",
    "                        \"supportsPartialVerbatimBox\": False,\n",
    "                        \"requiresContiguousQubitIndices\": True,\n",
    "                        \"requiresAllQubitsMeasurement\": True,\n",
    "                        \"supportsUnassignedMeasurements\": True,\n",
    "                        \"disabledQubitRewiringSupported\": False,\n",
    "                    },\n",
    "                },\n",
    "                \"paradigm\": {\"qubitCount\": 20},\n",
    "                \"deviceParameters\": GateModelSimulatorDeviceParameters.schema(),\n",
    "            }\n",
    "        )"
   ]
  },
  {
   "cell_type": "markdown",
   "metadata": {},
   "source": [
    "### Quantum Program Execution Using Braket and Cirq IonQ\n",
    "\n",
    "This code demonstrates how to create and execute a quantum program using the Braket library in conjunction with Cirq IonQ. Here is a breakdown of the steps:\n",
    "\n",
    "1. **Importing Dependencies**: The necessary classes and functions from the Braket library are imported, including `Program`  for defining quantum programs, `BraketSchemaHeader` for schema information, `LocalSimulator` for running simulations locally and `CirqIonqDevice` for interfacing with Cirq IonQ devices.\n",
    "\n",
    "2. **Creating a Local Simulator**: An instance of the `LocalSimulator` is created and then the `CirqIonqDevice` is specified as the device to be used for running the quantum program.\n",
    "\n",
    "3. **Defining the Quantum Program**: A `Program` is defined using the OpenQASM 3.0 syntax. This program consists of a single qubit (denoted as `q`) that undergoes an X-gate (`x q[0]`) and a Hadamard gate (`h q[0]`). The measurement outcome is stored in a classical bit (`b[0] = measure q[0]`).\n",
    "\n",
    "4. **Running the Quantum Program**: The defined quantum program is executed on the local simulator (`sim.run()`). The `shots` parameter specifies the number of times the circuit is executed (100 shots in this case). The `target` parameter specifies the simulation target, which is the \"simulator\" in this example.\n",
    "\n",
    "5. **Result Handling**: The execution of the program results in a `task` object, which represents the execution task. Further actions can be taken on this task, such as retrieving the execution results or analyzing the outcomes.\n"
   ]
  },
  {
   "cell_type": "code",
   "execution_count": 14,
   "metadata": {},
   "outputs": [
    {
     "name": "stderr",
     "output_type": "stream",
     "text": [
      "/var/folders/tb/2yh3yjmn3196046lsp7n2m5r0000gr/T/ipykernel_2558/2448392670.py:46: DeprecationWarning: The truth value of an empty array is ambiguous. Returning False, but in future this will result in an error. Use `array.size > 0` to check that an array is not empty.\n",
      "  if params:\n"
     ]
    }
   ],
   "source": [
    "from braket.ir.openqasm import Program\n",
    "from braket.schema_common import BraketSchemaHeader\n",
    "\n",
    "\n",
    "sim = LocalSimulator(CirqIonqDevice())\n",
    "\n",
    "program = Program(braketSchemaHeader=BraketSchemaHeader(name='braket.ir.openqasm.program', version='1'), source=\"\"\"\n",
    "            OPENQASM 3.0;\n",
    "            bit[1] b;\n",
    "            qubit[1] q;\n",
    "            x q[0];\n",
    "            h q[0];\n",
    "            b[0] = measure q[0];\n",
    "            \"\"\", inputs={})\n",
    "task = sim.run(program,shots=100, target =\"simulator\")"
   ]
  },
  {
   "cell_type": "code",
   "execution_count": 15,
   "metadata": {
    "scrolled": true
   },
   "outputs": [
    {
     "name": "stdout",
     "output_type": "stream",
     "text": [
      "<braket.tasks.local_quantum_task.LocalQuantumTask object at 0x157e2abe0>\n",
      "ready\n"
     ]
    }
   ],
   "source": [
    "print(task)\n",
    "print(task.state())"
   ]
  },
  {
   "cell_type": "code",
   "execution_count": 16,
   "metadata": {},
   "outputs": [
    {
     "name": "stdout",
     "output_type": "stream",
     "text": [
      "GateModelQuantumTaskResult(task_metadata=TaskMetadata(braketSchemaHeader=BraketSchemaHeader(name='braket.task_result.task_metadata', version='1'), id='5d7b1b83-d29e-44a9-84ab-6d1a9ed6931f', shots=100, deviceId='CirqIonqDevice', deviceParameters=None, createdAt=None, endedAt=None, status=None, failureReason=None), additional_metadata=AdditionalMetadata(action=Program(braketSchemaHeader=BraketSchemaHeader(name='braket.ir.openqasm.program', version='1'), source='\\n            OPENQASM 3.0;\\n            bit[1] b;\\n            qubit[1] q;\\n            x q[0];\\n            h q[0];\\n            b[0] = measure q[0];\\n            ', inputs={}), dwaveMetadata=None, ionqMetadata=None, rigettiMetadata=None, oqcMetadata=None, xanaduMetadata=None, queraMetadata=None, simulatorMetadata=None), result_types=[], values=[], measurements=array([[0],\n",
      "       [0],\n",
      "       [1],\n",
      "       [1],\n",
      "       [0],\n",
      "       [0],\n",
      "       [0],\n",
      "       [0],\n",
      "       [1],\n",
      "       [0],\n",
      "       [1],\n",
      "       [1],\n",
      "       [0],\n",
      "       [1],\n",
      "       [1],\n",
      "       [0],\n",
      "       [1],\n",
      "       [0],\n",
      "       [1],\n",
      "       [0],\n",
      "       [0],\n",
      "       [0],\n",
      "       [1],\n",
      "       [1],\n",
      "       [1],\n",
      "       [1],\n",
      "       [0],\n",
      "       [0],\n",
      "       [0],\n",
      "       [1],\n",
      "       [1],\n",
      "       [1],\n",
      "       [1],\n",
      "       [1],\n",
      "       [1],\n",
      "       [1],\n",
      "       [1],\n",
      "       [1],\n",
      "       [1],\n",
      "       [0],\n",
      "       [0],\n",
      "       [1],\n",
      "       [0],\n",
      "       [1],\n",
      "       [1],\n",
      "       [0],\n",
      "       [1],\n",
      "       [0],\n",
      "       [0],\n",
      "       [0],\n",
      "       [1],\n",
      "       [1],\n",
      "       [1],\n",
      "       [1],\n",
      "       [1],\n",
      "       [0],\n",
      "       [1],\n",
      "       [1],\n",
      "       [1],\n",
      "       [1],\n",
      "       [0],\n",
      "       [0],\n",
      "       [1],\n",
      "       [1],\n",
      "       [1],\n",
      "       [1],\n",
      "       [1],\n",
      "       [1],\n",
      "       [0],\n",
      "       [1],\n",
      "       [0],\n",
      "       [0],\n",
      "       [0],\n",
      "       [0],\n",
      "       [0],\n",
      "       [1],\n",
      "       [1],\n",
      "       [1],\n",
      "       [0],\n",
      "       [0],\n",
      "       [1],\n",
      "       [1],\n",
      "       [0],\n",
      "       [1],\n",
      "       [0],\n",
      "       [1],\n",
      "       [0],\n",
      "       [0],\n",
      "       [1],\n",
      "       [1],\n",
      "       [0],\n",
      "       [1],\n",
      "       [0],\n",
      "       [1],\n",
      "       [1],\n",
      "       [1],\n",
      "       [0],\n",
      "       [0],\n",
      "       [1],\n",
      "       [1]]), measured_qubits=['0'], measurement_counts=Counter({'1': 58, '0': 42}), measurement_probabilities={'0': 0.42, '1': 0.58}, measurements_copied_from_device=True, measurement_counts_copied_from_device=False, measurement_probabilities_copied_from_device=False, _result_types_indices={})\n"
     ]
    }
   ],
   "source": [
    "print(task.result())"
   ]
  },
  {
   "cell_type": "code",
   "execution_count": null,
   "metadata": {},
   "outputs": [],
   "source": [
    "    "
   ]
  },
  {
   "cell_type": "code",
   "execution_count": null,
   "metadata": {},
   "outputs": [],
   "source": []
  }
 ],
 "metadata": {
  "kernelspec": {
   "display_name": "execution-kernel",
   "language": "python",
   "name": "execution-kernel"
  },
  "language_info": {
   "codemirror_mode": {
    "name": "ipython",
    "version": 3
   },
   "file_extension": ".py",
   "mimetype": "text/x-python",
   "name": "python",
   "nbconvert_exporter": "python",
   "pygments_lexer": "ipython3",
   "version": "3.9.6"
  }
 },
 "nbformat": 4,
 "nbformat_minor": 1
}
