{
 "cells": [
  {
   "cell_type": "markdown",
   "id": "f7b620f7",
   "metadata": {},
   "source": [
    "## Goal\n",
    "\n",
    "Here we want to know the parameter range, including \n",
    "\n",
    "1. The distance between a pair of atoms\n",
    "2. The maximum of Omega\n",
    "3. The maximum of abs value of Delta\n",
    "4. The slew rate of Omega, Delta, and phi\n",
    "\n",
    "that the local simulator can give reasonable result. And we will investigate what to suggest to customers if they want to go out of the range. "
   ]
  },
  {
   "cell_type": "code",
   "execution_count": 1,
   "id": "fbb91f3f",
   "metadata": {
    "execution": {
     "iopub.execute_input": "2023-02-05T18:05:46.804903Z",
     "iopub.status.busy": "2023-02-05T18:05:46.804533Z",
     "iopub.status.idle": "2023-02-05T18:05:49.027421Z",
     "shell.execute_reply": "2023-02-05T18:05:49.026708Z"
    }
   },
   "outputs": [],
   "source": [
    "import numpy as np\n",
    "import matplotlib.pyplot as plt\n",
    "import seaborn as sns\n",
    "import scipy\n",
    "import time\n",
    "\n",
    "\n",
    "from braket.ahs.hamiltonian import Hamiltonian\n",
    "from braket.ahs.atom_arrangement import AtomArrangement\n",
    "from braket.ahs.analog_hamiltonian_simulation import AnalogHamiltonianSimulation\n",
    "\n",
    "from braket.timings.time_series import TimeSeries\n",
    "from braket.ahs.driving_field import DrivingField\n",
    "\n",
    "from braket.devices import LocalSimulator\n",
    "device = LocalSimulator(\"braket_ahs\")\n",
    "\n",
    "from pprint import pprint as pp\n",
    "\n",
    "def get_counters_from_result(result):\n",
    "    post_sequences = [list(measurement.post_sequence) for measurement in result.measurements]\n",
    "    post_sequences = [\"\".join(['r' if site==0 else 'g' for site in post_sequence]) for post_sequence in post_sequences]\n",
    "\n",
    "    counters = {}\n",
    "    for post_sequence in post_sequences:\n",
    "        if post_sequence in counters:\n",
    "            counters[post_sequence] += 1\n",
    "        else:\n",
    "            counters[post_sequence] = 1\n",
    "    return counters\n"
   ]
  },
  {
   "cell_type": "code",
   "execution_count": 2,
   "id": "713aaaad",
   "metadata": {
    "execution": {
     "iopub.execute_input": "2023-02-05T18:05:49.030789Z",
     "iopub.status.busy": "2023-02-05T18:05:49.030408Z",
     "iopub.status.idle": "2023-02-05T18:05:49.035225Z",
     "shell.execute_reply": "2023-02-05T18:05:49.034628Z"
    }
   },
   "outputs": [],
   "source": [
    "num1 = 10 # number of data points for Omega\n",
    "\n",
    "Omega_slew_range = np.linspace(10, 300, num1) * 1e12 # The range of Omega\n",
    "\n",
    "\n",
    "t_max = 4e-6 # We fix the duration of the program\n",
    "C6 = 5.42e-24 # The interaction coefficient\n",
    "shots = 10_000 # We fix the number of shots\n",
    "# shots = 100 # We fix the number of shots\n",
    "steps = 100 # For time steps\n",
    "nsteps = 1000 # For scipy\n",
    "epsilon = 0.01 # threshold for the discrepancy of local sim and theory result\n",
    "\n",
    "def Rb(Omega, Delta):\n",
    "    return (C6/np.sqrt(Omega**2 + Delta**2))**(1/6)"
   ]
  },
  {
   "cell_type": "code",
   "execution_count": 3,
   "id": "1ced48e8",
   "metadata": {
    "execution": {
     "iopub.execute_input": "2023-02-05T18:05:49.037915Z",
     "iopub.status.busy": "2023-02-05T18:05:49.037648Z",
     "iopub.status.idle": "2023-02-05T18:05:49.124395Z",
     "shell.execute_reply": "2023-02-05T18:05:49.123768Z"
    }
   },
   "outputs": [],
   "source": [
    "def compare(programs, steps = steps, shots = shots, nsteps=nsteps):\n",
    "\n",
    "\n",
    "    results_sim = {}\n",
    "    results_theory = {}\n",
    "    diff = {}\n",
    "\n",
    "    total_time = 0\n",
    "    for key, program in programs.items():\n",
    "        \n",
    "        start_time = time.time()                \n",
    "        try:\n",
    "            result = device.run(program, steps = steps, shots = shots, nsteps=nsteps).result()\n",
    "        except:\n",
    "            print(f\"Error for {key}\")\n",
    "            continue\n",
    "        \n",
    "        total_time += time.time() - start_time        \n",
    "\n",
    "        print(f\"Result got for {key}\")\n",
    "        result_sim_temp = get_counters_from_result(result)\n",
    "        \n",
    "        results_sim[key] = {'g': 0, 'r': 0}\n",
    "        \n",
    "        \n",
    "        num_atoms = int(len(list(result_sim_temp.keys())[0]))\n",
    "                \n",
    "        for key2, val2 in result_sim_temp.items():\n",
    "            for i in range(num_atoms):\n",
    "                results_sim[key][key2[i]] += val2\n",
    "\n",
    "        # Get the theory result\n",
    "        values = programs[key].hamiltonian.amplitude.time_series.values()\n",
    "        Omega_area = values[1] * t_max/2\n",
    "        g_theory = round(np.cos(Omega_area/2)**2 * shots*num_atoms)\n",
    "        r_theory = round(np.sin(Omega_area/2)**2 * shots*num_atoms)\n",
    "        \n",
    "        \n",
    "        results_theory[key] = {\n",
    "            'g': g_theory,\n",
    "            'r': r_theory\n",
    "        }\n",
    "\n",
    "        diff[key] = {}\n",
    "\n",
    "        \n",
    "        for state in ['g', 'r']:\n",
    "            diff[key][state] = abs(results_theory[key][state]-results_sim[key][state])/(shots*num_atoms)\n",
    "            \n",
    "    # average runtime per program\n",
    "    avg_time = total_time/len(programs)                        \n",
    "    return results_sim, results_theory, diff, avg_time\n",
    "\n",
    "\n",
    "def visualize_diff(diff, state=\"g\"):\n",
    "    \n",
    "    plt.plot(list(diff.keys()), [item[state]*100 for item in list(diff.values())], 'o-')\n",
    "    plt.xlabel(\"Omega slew rate (Hz)\")\n",
    "    plt.ylabel(\"differece in percentage\")    \n",
    "    \n",
    "    "
   ]
  },
  {
   "cell_type": "markdown",
   "id": "9d3ad5c7",
   "metadata": {},
   "source": [
    "## Task 5: Triangular Omega pulses for a pair of atoms\n",
    "This is for testing the robustness of the scipy solver\n",
    "\n",
    "\n",
    "## Conclusion\n",
    "\n",
    "1. With default parameters, the error rate could be as worst as 1.6%!\n",
    "\n",
    "2. Increasing the number of `steps` will lead to some failures! The successful runs have error rate 0.02%\n",
    "\n",
    "3. Increasing the `nsteps` by 10 times does not change the result\n",
    "\n"
   ]
  },
  {
   "cell_type": "code",
   "execution_count": 4,
   "id": "e5be053d",
   "metadata": {
    "execution": {
     "iopub.execute_input": "2023-02-05T18:05:49.127366Z",
     "iopub.status.busy": "2023-02-05T18:05:49.126928Z",
     "iopub.status.idle": "2023-02-05T18:05:49.132954Z",
     "shell.execute_reply": "2023-02-05T18:05:49.132380Z"
    }
   },
   "outputs": [],
   "source": [
    "programs = {}\n",
    "a = 1e-4\n",
    "for Omega_slew in Omega_slew_range:\n",
    "        \n",
    "    register = AtomArrangement()\n",
    "    \n",
    "    for i in range(10):\n",
    "        register.add([0, i*a])\n",
    "\n",
    "    Omega_global = TimeSeries()\n",
    "    Omega_global.put(0.0, 0).put(t_max/2, Omega_slew * t_max/2).put(t_max, 0)\n",
    "    \n",
    "    # e.g. all-zero phase and detuning\n",
    "    phi = TimeSeries().put(0.0, 0.0).put(t_max, 0.0)  # (time [s], value [rad])\n",
    "    Delta_global = TimeSeries().put(0.0, 0.0).put(t_max, 0.0)  # (time [s], value [rad/s])\n",
    "\n",
    "    drive = DrivingField(\n",
    "        amplitude=Omega_global,\n",
    "        phase=phi,\n",
    "        detuning=Delta_global\n",
    "    )            \n",
    "\n",
    "    program = AnalogHamiltonianSimulation(\n",
    "        hamiltonian=drive,\n",
    "        register=register\n",
    "    )\n",
    "\n",
    "    programs[Omega_slew] = program\n"
   ]
  },
  {
   "cell_type": "code",
   "execution_count": 5,
   "id": "3930fa4e",
   "metadata": {
    "execution": {
     "iopub.execute_input": "2023-02-05T18:05:49.135615Z",
     "iopub.status.busy": "2023-02-05T18:05:49.135286Z",
     "iopub.status.idle": "2023-02-05T18:05:49.138032Z",
     "shell.execute_reply": "2023-02-05T18:05:49.137462Z"
    }
   },
   "outputs": [],
   "source": [
    "# programs"
   ]
  },
  {
   "cell_type": "code",
   "execution_count": 6,
   "id": "3a4916e4",
   "metadata": {
    "execution": {
     "iopub.execute_input": "2023-02-05T18:05:49.140665Z",
     "iopub.status.busy": "2023-02-05T18:05:49.140333Z",
     "iopub.status.idle": "2023-02-05T18:11:13.629928Z",
     "shell.execute_reply": "2023-02-05T18:11:13.629008Z"
    },
    "scrolled": true
   },
   "outputs": [
    {
     "name": "stderr",
     "output_type": "stream",
     "text": [
      "/home/maolinml/.local/lib/python3.7/site-packages/braket/analog_hamiltonian_simulator/rydberg/validators/atom_arrangement.py:70: UserWarning: Arrangement is too tall. Sites [Decimal('0'), Decimal('0.0')] and [Decimal('0'), Decimal('0.0009000000000000001')] have y-separation bigger than the typical scale (0.0001 meters). The coordinates of the atoms should be specified in SI units.\n",
      "  f\"Arrangement is too tall. Sites {sorted_sites[0]} and {sorted_sites[-1]} \"\n"
     ]
    },
    {
     "name": "stdout",
     "output_type": "stream",
     "text": [
      "Result got for 10000000000000.0\n"
     ]
    },
    {
     "name": "stderr",
     "output_type": "stream",
     "text": [
      "/home/maolinml/.local/lib/python3.7/site-packages/braket/analog_hamiltonian_simulator/rydberg/validators/field_validator_util.py:23: UserWarning: Value 1 (84444444.44444443) in amplitude time series outside the typical range [0, 25000000.0]. The values should  be specified in SI units.\n",
      "  f\"Value {i} ({value}) in {name} time series outside the typical range \"\n"
     ]
    },
    {
     "name": "stdout",
     "output_type": "stream",
     "text": [
      "Result got for 42222222222222.22\n"
     ]
    },
    {
     "name": "stderr",
     "output_type": "stream",
     "text": [
      "/home/maolinml/.local/lib/python3.7/site-packages/braket/analog_hamiltonian_simulator/rydberg/validators/field_validator_util.py:23: UserWarning: Value 1 (148888888.88888887) in amplitude time series outside the typical range [0, 25000000.0]. The values should  be specified in SI units.\n",
      "  f\"Value {i} ({value}) in {name} time series outside the typical range \"\n"
     ]
    },
    {
     "name": "stdout",
     "output_type": "stream",
     "text": [
      "Result got for 74444444444444.44\n"
     ]
    },
    {
     "name": "stderr",
     "output_type": "stream",
     "text": [
      "/home/maolinml/.local/lib/python3.7/site-packages/braket/analog_hamiltonian_simulator/rydberg/validators/field_validator_util.py:23: UserWarning: Value 1 (213333333.3333333) in amplitude time series outside the typical range [0, 25000000.0]. The values should  be specified in SI units.\n",
      "  f\"Value {i} ({value}) in {name} time series outside the typical range \"\n"
     ]
    },
    {
     "name": "stdout",
     "output_type": "stream",
     "text": [
      "Result got for 106666666666666.66\n"
     ]
    },
    {
     "name": "stderr",
     "output_type": "stream",
     "text": [
      "/home/maolinml/.local/lib/python3.7/site-packages/braket/analog_hamiltonian_simulator/rydberg/validators/field_validator_util.py:23: UserWarning: Value 1 (277777777.7777778) in amplitude time series outside the typical range [0, 25000000.0]. The values should  be specified in SI units.\n",
      "  f\"Value {i} ({value}) in {name} time series outside the typical range \"\n"
     ]
    },
    {
     "name": "stdout",
     "output_type": "stream",
     "text": [
      "Result got for 138888888888888.89\n"
     ]
    },
    {
     "name": "stderr",
     "output_type": "stream",
     "text": [
      "/home/maolinml/.local/lib/python3.7/site-packages/braket/analog_hamiltonian_simulator/rydberg/validators/field_validator_util.py:23: UserWarning: Value 1 (342222222.2222222) in amplitude time series outside the typical range [0, 25000000.0]. The values should  be specified in SI units.\n",
      "  f\"Value {i} ({value}) in {name} time series outside the typical range \"\n"
     ]
    },
    {
     "name": "stdout",
     "output_type": "stream",
     "text": [
      "Result got for 171111111111111.12\n"
     ]
    },
    {
     "name": "stderr",
     "output_type": "stream",
     "text": [
      "/home/maolinml/.local/lib/python3.7/site-packages/braket/analog_hamiltonian_simulator/rydberg/validators/field_validator_util.py:23: UserWarning: Value 1 (406666666.6666666) in amplitude time series outside the typical range [0, 25000000.0]. The values should  be specified in SI units.\n",
      "  f\"Value {i} ({value}) in {name} time series outside the typical range \"\n"
     ]
    },
    {
     "name": "stdout",
     "output_type": "stream",
     "text": [
      "Result got for 203333333333333.3\n"
     ]
    },
    {
     "name": "stderr",
     "output_type": "stream",
     "text": [
      "/home/maolinml/.local/lib/python3.7/site-packages/braket/analog_hamiltonian_simulator/rydberg/validators/field_validator_util.py:23: UserWarning: Value 1 (471111111.11111104) in amplitude time series outside the typical range [0, 25000000.0]. The values should  be specified in SI units.\n",
      "  f\"Value {i} ({value}) in {name} time series outside the typical range \"\n"
     ]
    },
    {
     "name": "stdout",
     "output_type": "stream",
     "text": [
      "Result got for 235555555555555.53\n"
     ]
    },
    {
     "name": "stderr",
     "output_type": "stream",
     "text": [
      "/home/maolinml/.local/lib/python3.7/site-packages/braket/analog_hamiltonian_simulator/rydberg/validators/field_validator_util.py:23: UserWarning: Value 1 (535555555.5555555) in amplitude time series outside the typical range [0, 25000000.0]. The values should  be specified in SI units.\n",
      "  f\"Value {i} ({value}) in {name} time series outside the typical range \"\n"
     ]
    },
    {
     "name": "stdout",
     "output_type": "stream",
     "text": [
      "Result got for 267777777777777.78\n"
     ]
    },
    {
     "name": "stderr",
     "output_type": "stream",
     "text": [
      "/home/maolinml/.local/lib/python3.7/site-packages/braket/analog_hamiltonian_simulator/rydberg/validators/field_validator_util.py:23: UserWarning: Value 1 (600000000.0) in amplitude time series outside the typical range [0, 25000000.0]. The values should  be specified in SI units.\n",
      "  f\"Value {i} ({value}) in {name} time series outside the typical range \"\n"
     ]
    },
    {
     "name": "stdout",
     "output_type": "stream",
     "text": [
      "Result got for 300000000000000.0\n"
     ]
    }
   ],
   "source": [
    "results_sim, results_theory, diff, avg_time = compare(programs)"
   ]
  },
  {
   "cell_type": "code",
   "execution_count": 7,
   "id": "f48a468f",
   "metadata": {
    "execution": {
     "iopub.execute_input": "2023-02-05T18:11:13.633227Z",
     "iopub.status.busy": "2023-02-05T18:11:13.632845Z",
     "iopub.status.idle": "2023-02-05T18:11:13.637061Z",
     "shell.execute_reply": "2023-02-05T18:11:13.636364Z"
    }
   },
   "outputs": [
    {
     "name": "stdout",
     "output_type": "stream",
     "text": [
      "The average runtime per program = 32.44790670871735 seconds\n"
     ]
    }
   ],
   "source": [
    "print(f\"The average runtime per program = {avg_time} seconds\")"
   ]
  },
  {
   "cell_type": "code",
   "execution_count": 8,
   "id": "2ab2ca56",
   "metadata": {
    "execution": {
     "iopub.execute_input": "2023-02-05T18:11:13.640144Z",
     "iopub.status.busy": "2023-02-05T18:11:13.639620Z",
     "iopub.status.idle": "2023-02-05T18:11:13.646967Z",
     "shell.execute_reply": "2023-02-05T18:11:13.646338Z"
    },
    "scrolled": true
   },
   "outputs": [
    {
     "data": {
      "text/plain": [
       "{10000000000000.0: {'g': 192, 'r': 808},\n",
       " 42222222222222.22: {'g': 854, 'r': 146},\n",
       " 74444444444444.44: {'g': 134, 'r': 866},\n",
       " 106666666666666.66: {'g': 893, 'r': 107},\n",
       " 138888888888888.89: {'g': 80, 'r': 920},\n",
       " 171111111111111.12: {'g': 944, 'r': 56},\n",
       " 203333333333333.3: {'g': 54, 'r': 946},\n",
       " 235555555555555.53: {'g': 978, 'r': 22},\n",
       " 267777777777777.78: {'g': 26, 'r': 974},\n",
       " 300000000000000.0: {'g': 989, 'r': 11}}"
      ]
     },
     "execution_count": 8,
     "metadata": {},
     "output_type": "execute_result"
    }
   ],
   "source": [
    "results_sim"
   ]
  },
  {
   "cell_type": "code",
   "execution_count": 9,
   "id": "d1f8e9ce",
   "metadata": {
    "execution": {
     "iopub.execute_input": "2023-02-05T18:11:13.649744Z",
     "iopub.status.busy": "2023-02-05T18:11:13.649339Z",
     "iopub.status.idle": "2023-02-05T18:11:13.654223Z",
     "shell.execute_reply": "2023-02-05T18:11:13.653585Z"
    },
    "scrolled": true
   },
   "outputs": [
    {
     "data": {
      "text/plain": [
       "{10000000000000.0: {'g': 167, 'r': 833},\n",
       " 42222222222222.22: {'g': 863, 'r': 137},\n",
       " 74444444444444.44: {'g': 109, 'r': 891},\n",
       " 106666666666666.66: {'g': 915, 'r': 85},\n",
       " 138888888888888.89: {'g': 63, 'r': 937},\n",
       " 171111111111111.12: {'g': 956, 'r': 44},\n",
       " 203333333333333.3: {'g': 28, 'r': 972},\n",
       " 235555555555555.53: {'g': 984, 'r': 16},\n",
       " 267777777777777.78: {'g': 7, 'r': 993},\n",
       " 300000000000000.0: {'g': 998, 'r': 2}}"
      ]
     },
     "execution_count": 9,
     "metadata": {},
     "output_type": "execute_result"
    }
   ],
   "source": [
    "results_theory"
   ]
  },
  {
   "cell_type": "code",
   "execution_count": 10,
   "id": "54b23994",
   "metadata": {
    "execution": {
     "iopub.execute_input": "2023-02-05T18:11:13.656965Z",
     "iopub.status.busy": "2023-02-05T18:11:13.656579Z",
     "iopub.status.idle": "2023-02-05T18:11:13.661259Z",
     "shell.execute_reply": "2023-02-05T18:11:13.660633Z"
    }
   },
   "outputs": [
    {
     "data": {
      "text/plain": [
       "{10000000000000.0: {'g': 0.025, 'r': 0.025},\n",
       " 42222222222222.22: {'g': 0.009, 'r': 0.009},\n",
       " 74444444444444.44: {'g': 0.025, 'r': 0.025},\n",
       " 106666666666666.66: {'g': 0.022, 'r': 0.022},\n",
       " 138888888888888.89: {'g': 0.017, 'r': 0.017},\n",
       " 171111111111111.12: {'g': 0.012, 'r': 0.012},\n",
       " 203333333333333.3: {'g': 0.026, 'r': 0.026},\n",
       " 235555555555555.53: {'g': 0.006, 'r': 0.006},\n",
       " 267777777777777.78: {'g': 0.019, 'r': 0.019},\n",
       " 300000000000000.0: {'g': 0.009, 'r': 0.009}}"
      ]
     },
     "execution_count": 10,
     "metadata": {},
     "output_type": "execute_result"
    }
   ],
   "source": [
    "diff"
   ]
  },
  {
   "cell_type": "code",
   "execution_count": 11,
   "id": "36107123",
   "metadata": {
    "execution": {
     "iopub.execute_input": "2023-02-05T18:11:13.664016Z",
     "iopub.status.busy": "2023-02-05T18:11:13.663638Z",
     "iopub.status.idle": "2023-02-05T18:11:13.840609Z",
     "shell.execute_reply": "2023-02-05T18:11:13.839867Z"
    }
   },
   "outputs": [
    {
     "data": {
      "image/png": "[encoded data removed]",
      "text/plain": [
       "<Figure size 1000x600 with 1 Axes>"
      ]
     },
     "metadata": {},
     "output_type": "display_data"
    }
   ],
   "source": [
    "plt.rcParams[\"figure.figsize\"] = (10,6)\n",
    "visualize_diff(diff)"
   ]
  },
  {
   "cell_type": "markdown",
   "id": "a89b24ba",
   "metadata": {},
   "source": [
    "### Rerun with larger number of time steps"
   ]
  },
  {
   "cell_type": "code",
   "execution_count": 12,
   "id": "b680c959",
   "metadata": {
    "execution": {
     "iopub.execute_input": "2023-02-05T18:11:13.843607Z",
     "iopub.status.busy": "2023-02-05T18:11:13.843189Z",
     "iopub.status.idle": "2023-02-05T18:22:25.449829Z",
     "shell.execute_reply": "2023-02-05T18:22:25.449059Z"
    },
    "scrolled": true
   },
   "outputs": [
    {
     "name": "stdout",
     "output_type": "stream",
     "text": [
      "Error for 10000000000000.0\n"
     ]
    },
    {
     "name": "stderr",
     "output_type": "stream",
     "text": [
      "capi_return is NULL\n",
      "Call-back cb_f_in_zvode__user__routines failed.\n"
     ]
    },
    {
     "name": "stdout",
     "output_type": "stream",
     "text": [
      "Error for 42222222222222.22\n"
     ]
    },
    {
     "name": "stderr",
     "output_type": "stream",
     "text": [
      "capi_return is NULL\n",
      "Call-back cb_f_in_zvode__user__routines failed.\n"
     ]
    },
    {
     "name": "stdout",
     "output_type": "stream",
     "text": [
      "Error for 74444444444444.44\n"
     ]
    },
    {
     "name": "stderr",
     "output_type": "stream",
     "text": [
      "capi_return is NULL\n",
      "Call-back cb_f_in_zvode__user__routines failed.\n"
     ]
    },
    {
     "name": "stdout",
     "output_type": "stream",
     "text": [
      "Error for 106666666666666.66\n"
     ]
    },
    {
     "name": "stderr",
     "output_type": "stream",
     "text": [
      "capi_return is NULL\n",
      "Call-back cb_f_in_zvode__user__routines failed.\n"
     ]
    },
    {
     "name": "stdout",
     "output_type": "stream",
     "text": [
      "Error for 138888888888888.89\n"
     ]
    },
    {
     "name": "stderr",
     "output_type": "stream",
     "text": [
      "capi_return is NULL\n",
      "Call-back cb_f_in_zvode__user__routines failed.\n"
     ]
    },
    {
     "name": "stdout",
     "output_type": "stream",
     "text": [
      "Result got for 171111111111111.12\n",
      "Error for 203333333333333.3\n"
     ]
    },
    {
     "name": "stderr",
     "output_type": "stream",
     "text": [
      "capi_return is NULL\n",
      "Call-back cb_f_in_zvode__user__routines failed.\n"
     ]
    },
    {
     "name": "stdout",
     "output_type": "stream",
     "text": [
      "Error for 235555555555555.53\n"
     ]
    },
    {
     "name": "stderr",
     "output_type": "stream",
     "text": [
      "capi_return is NULL\n",
      "Call-back cb_f_in_zvode__user__routines failed.\n"
     ]
    },
    {
     "name": "stdout",
     "output_type": "stream",
     "text": [
      "Result got for 267777777777777.78\n",
      "Result got for 300000000000000.0\n"
     ]
    }
   ],
   "source": [
    "results_sim, results_theory, diff, avg_time = compare(programs, steps = 10 * steps)"
   ]
  },
  {
   "cell_type": "code",
   "execution_count": 13,
   "id": "1bb0c00e",
   "metadata": {
    "execution": {
     "iopub.execute_input": "2023-02-05T18:22:25.452914Z",
     "iopub.status.busy": "2023-02-05T18:22:25.452599Z",
     "iopub.status.idle": "2023-02-05T18:22:25.456383Z",
     "shell.execute_reply": "2023-02-05T18:22:25.455774Z"
    }
   },
   "outputs": [
    {
     "name": "stdout",
     "output_type": "stream",
     "text": [
      "The average runtime per program = 26.058665108680724 seconds\n"
     ]
    }
   ],
   "source": [
    "print(f\"The average runtime per program = {avg_time} seconds\")"
   ]
  },
  {
   "cell_type": "code",
   "execution_count": 14,
   "id": "35197e64",
   "metadata": {
    "execution": {
     "iopub.execute_input": "2023-02-05T18:22:25.459202Z",
     "iopub.status.busy": "2023-02-05T18:22:25.458848Z",
     "iopub.status.idle": "2023-02-05T18:22:25.463172Z",
     "shell.execute_reply": "2023-02-05T18:22:25.462567Z"
    },
    "scrolled": true
   },
   "outputs": [
    {
     "data": {
      "text/plain": [
       "{171111111111111.12: {'g': 948, 'r': 52},\n",
       " 267777777777777.78: {'g': 8, 'r': 992},\n",
       " 300000000000000.0: {'g': 998, 'r': 2}}"
      ]
     },
     "execution_count": 14,
     "metadata": {},
     "output_type": "execute_result"
    }
   ],
   "source": [
    "results_sim"
   ]
  },
  {
   "cell_type": "code",
   "execution_count": 15,
   "id": "9b78f27d",
   "metadata": {
    "execution": {
     "iopub.execute_input": "2023-02-05T18:22:25.465929Z",
     "iopub.status.busy": "2023-02-05T18:22:25.465562Z",
     "iopub.status.idle": "2023-02-05T18:22:25.469698Z",
     "shell.execute_reply": "2023-02-05T18:22:25.469131Z"
    },
    "scrolled": true
   },
   "outputs": [
    {
     "data": {
      "text/plain": [
       "{171111111111111.12: {'g': 956, 'r': 44},\n",
       " 267777777777777.78: {'g': 7, 'r': 993},\n",
       " 300000000000000.0: {'g': 998, 'r': 2}}"
      ]
     },
     "execution_count": 15,
     "metadata": {},
     "output_type": "execute_result"
    }
   ],
   "source": [
    "results_theory"
   ]
  },
  {
   "cell_type": "code",
   "execution_count": 16,
   "id": "98c177e8",
   "metadata": {
    "execution": {
     "iopub.execute_input": "2023-02-05T18:22:25.472403Z",
     "iopub.status.busy": "2023-02-05T18:22:25.472053Z",
     "iopub.status.idle": "2023-02-05T18:22:25.475473Z",
     "shell.execute_reply": "2023-02-05T18:22:25.474882Z"
    },
    "scrolled": true
   },
   "outputs": [
    {
     "name": "stdout",
     "output_type": "stream",
     "text": [
      "{171111111111111.12: {'g': 0.008, 'r': 0.008},\n",
      " 267777777777777.78: {'g': 0.001, 'r': 0.001},\n",
      " 300000000000000.0: {'g': 0.0, 'r': 0.0}}\n"
     ]
    }
   ],
   "source": [
    "pp(diff)"
   ]
  },
  {
   "cell_type": "code",
   "execution_count": 17,
   "id": "81d4647e",
   "metadata": {
    "execution": {
     "iopub.execute_input": "2023-02-05T18:22:25.478194Z",
     "iopub.status.busy": "2023-02-05T18:22:25.477856Z",
     "iopub.status.idle": "2023-02-05T18:22:25.646329Z",
     "shell.execute_reply": "2023-02-05T18:22:25.645737Z"
    }
   },
   "outputs": [
    {
     "data": {
      "image/png": "[encoded data removed]",
      "text/plain": [
       "<Figure size 1000x600 with 1 Axes>"
      ]
     },
     "metadata": {},
     "output_type": "display_data"
    }
   ],
   "source": [
    "plt.rcParams[\"figure.figsize\"] = (10,6)\n",
    "visualize_diff(diff)"
   ]
  },
  {
   "cell_type": "markdown",
   "id": "e0c22e87",
   "metadata": {},
   "source": [
    "### Rerun with larger number of nsteps"
   ]
  },
  {
   "cell_type": "code",
   "execution_count": 18,
   "id": "f13f5291",
   "metadata": {
    "execution": {
     "iopub.execute_input": "2023-02-05T18:22:25.649047Z",
     "iopub.status.busy": "2023-02-05T18:22:25.648747Z",
     "iopub.status.idle": "2023-02-05T18:28:07.669333Z",
     "shell.execute_reply": "2023-02-05T18:28:07.668426Z"
    }
   },
   "outputs": [
    {
     "name": "stdout",
     "output_type": "stream",
     "text": [
      "Result got for 10000000000000.0\n",
      "Result got for 42222222222222.22\n",
      "Result got for 74444444444444.44\n",
      "Result got for 106666666666666.66\n",
      "Result got for 138888888888888.89\n",
      "Result got for 171111111111111.12\n",
      "Result got for 203333333333333.3\n",
      "Result got for 235555555555555.53\n",
      "Result got for 267777777777777.78\n",
      "Result got for 300000000000000.0\n"
     ]
    }
   ],
   "source": [
    "results_sim, results_theory, diff, avg_time = compare(programs, nsteps = 10 * nsteps)"
   ]
  },
  {
   "cell_type": "code",
   "execution_count": 19,
   "id": "b1180503",
   "metadata": {
    "execution": {
     "iopub.execute_input": "2023-02-05T18:28:07.672651Z",
     "iopub.status.busy": "2023-02-05T18:28:07.672253Z",
     "iopub.status.idle": "2023-02-05T18:28:07.676515Z",
     "shell.execute_reply": "2023-02-05T18:28:07.675807Z"
    }
   },
   "outputs": [
    {
     "name": "stdout",
     "output_type": "stream",
     "text": [
      "The average runtime per program = 34.20103306770325 seconds\n"
     ]
    }
   ],
   "source": [
    "print(f\"The average runtime per program = {avg_time} seconds\")"
   ]
  },
  {
   "cell_type": "code",
   "execution_count": 20,
   "id": "61f7b53b",
   "metadata": {
    "execution": {
     "iopub.execute_input": "2023-02-05T18:28:07.679454Z",
     "iopub.status.busy": "2023-02-05T18:28:07.679045Z",
     "iopub.status.idle": "2023-02-05T18:28:07.683001Z",
     "shell.execute_reply": "2023-02-05T18:28:07.682333Z"
    }
   },
   "outputs": [
    {
     "name": "stdout",
     "output_type": "stream",
     "text": [
      "{10000000000000.0: {'g': 0.023, 'r': 0.023},\n",
      " 42222222222222.22: {'g': 0.01, 'r': 0.01},\n",
      " 74444444444444.44: {'g': 0.012, 'r': 0.012},\n",
      " 106666666666666.66: {'g': 0.023, 'r': 0.023},\n",
      " 138888888888888.89: {'g': 0.017, 'r': 0.017},\n",
      " 171111111111111.12: {'g': 0.011, 'r': 0.011},\n",
      " 203333333333333.3: {'g': 0.013, 'r': 0.013},\n",
      " 235555555555555.53: {'g': 0.018, 'r': 0.018},\n",
      " 267777777777777.78: {'g': 0.024, 'r': 0.024},\n",
      " 300000000000000.0: {'g': 0.006, 'r': 0.006}}\n"
     ]
    }
   ],
   "source": [
    "pp(diff)"
   ]
  },
  {
   "cell_type": "code",
   "execution_count": 21,
   "id": "5c338e58",
   "metadata": {
    "execution": {
     "iopub.execute_input": "2023-02-05T18:28:07.685881Z",
     "iopub.status.busy": "2023-02-05T18:28:07.685464Z",
     "iopub.status.idle": "2023-02-05T18:28:07.841928Z",
     "shell.execute_reply": "2023-02-05T18:28:07.841266Z"
    }
   },
   "outputs": [
    {
     "data": {
      "image/png": "[encoded data removed]",
      "text/plain": [
       "<Figure size 1000x600 with 1 Axes>"
      ]
     },
     "metadata": {},
     "output_type": "display_data"
    }
   ],
   "source": [
    "plt.rcParams[\"figure.figsize\"] = (10,6)\n",
    "visualize_diff(diff)"
   ]
  },
  {
   "cell_type": "code",
   "execution_count": null,
   "id": "8d457269",
   "metadata": {},
   "outputs": [],
   "source": []
  }
 ],
 "metadata": {
  "kernelspec": {
   "display_name": "Python 3 (ipykernel)",
   "language": "python",
   "name": "python3"
  },
  "language_info": {
   "codemirror_mode": {
    "name": "ipython",
    "version": 3
   },
   "file_extension": ".py",
   "mimetype": "text/x-python",
   "name": "python",
   "nbconvert_exporter": "python",
   "pygments_lexer": "ipython3",
   "version": "3.7.16 (default, Dec 15 2022, 23:24:54) \n[GCC 7.3.1 20180712 (Red Hat 7.3.1-15)]"
  },
  "varInspector": {
   "cols": {
    "lenName": 16,
    "lenType": 16,
    "lenVar": 40
   },
   "kernels_config": {
    "python": {
     "delete_cmd_postfix": "",
     "delete_cmd_prefix": "del ",
     "library": "var_list.py",
     "varRefreshCmd": "print(var_dic_list())"
    },
    "r": {
     "delete_cmd_postfix": ") ",
     "delete_cmd_prefix": "rm(",
     "library": "var_list.r",
     "varRefreshCmd": "cat(var_dic_list()) "
    }
   },
   "types_to_exclude": [
    "module",
    "function",
    "builtin_function_or_method",
    "instance",
    "_Feature"
   ],
   "window_display": false
  },
  "vscode": {
   "interpreter": {
    "hash": "31f2aee4e71d21fbe5cf8b01ff0e069b9275f58929596ceb00d14d90e3e16cd6"
   }
  }
 },
 "nbformat": 4,
 "nbformat_minor": 5
}
