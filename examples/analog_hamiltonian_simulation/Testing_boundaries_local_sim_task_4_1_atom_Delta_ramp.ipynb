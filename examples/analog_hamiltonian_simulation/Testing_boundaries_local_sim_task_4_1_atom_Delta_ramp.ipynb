{
 "cells": [
  {
   "cell_type": "markdown",
   "id": "f7b620f7",
   "metadata": {},
   "source": [
    "## Goal\n",
    "\n",
    "Here we want to know the parameter range, including \n",
    "\n",
    "1. The distance between a pair of atoms\n",
    "2. The maximum of Omega\n",
    "3. The maximum of abs value of Delta\n",
    "4. The slew rate of Omega, Delta, and phi\n",
    "\n",
    "that the local simulator can give reasonable result. And we will investigate what to suggest to customers if they want to go out of the range. "
   ]
  },
  {
   "cell_type": "code",
   "execution_count": 1,
   "id": "fbb91f3f",
   "metadata": {},
   "outputs": [],
   "source": [
    "import numpy as np\n",
    "import matplotlib.pyplot as plt\n",
    "import seaborn as sns\n",
    "import scipy\n",
    "\n",
    "from braket.ahs.hamiltonian import Hamiltonian\n",
    "from braket.ahs.atom_arrangement import AtomArrangement\n",
    "from braket.ahs.analog_hamiltonian_simulation import AnalogHamiltonianSimulation\n",
    "\n",
    "from braket.timings.time_series import TimeSeries\n",
    "from braket.ahs.driving_field import DrivingField\n",
    "\n",
    "from braket.devices import LocalSimulator\n",
    "device = LocalSimulator(\"braket_ahs\")\n",
    "\n",
    "from ahs_utils import show_global_drive\n",
    "\n",
    "from pprint import pprint as pp\n",
    "\n",
    "def get_counters_from_result(result):\n",
    "    post_sequences = [list(measurement.post_sequence) for measurement in result.measurements]\n",
    "    post_sequences = [\"\".join(['r' if site==0 else 'g' for site in post_sequence]) for post_sequence in post_sequences]\n",
    "\n",
    "    counters = {}\n",
    "    for post_sequence in post_sequences:\n",
    "        if post_sequence in counters:\n",
    "            counters[post_sequence] += 1\n",
    "        else:\n",
    "            counters[post_sequence] = 1\n",
    "    return counters\n"
   ]
  },
  {
   "cell_type": "code",
   "execution_count": 2,
   "id": "713aaaad",
   "metadata": {},
   "outputs": [],
   "source": [
    "num1 = 10 # number of data points for Omega\n",
    "\n",
    "Delta_slew_range = np.linspace(10, 3000, num1) * 1e12 # The range of Omega\n",
    "\n",
    "\n",
    "t_max = 4e-6 # We fix the duration of the program\n",
    "C6 = 5.42e-24 # The interaction coefficient\n",
    "shots = 10_000 # We fix the number of shots\n",
    "steps = 100 # For time steps\n",
    "nsteps = 1000 # For scipy\n",
    "epsilon = 0.01 # threshold for the discrepancy of local sim and theory result\n",
    "\n",
    "def Rb(Omega, Delta):\n",
    "    return (C6/np.sqrt(Omega**2 + Delta**2))**(1/6)"
   ]
  },
  {
   "cell_type": "code",
   "execution_count": 3,
   "id": "1ced48e8",
   "metadata": {},
   "outputs": [],
   "source": [
    "def compare(programs, steps = steps, shots = shots, nsteps=nsteps):\n",
    "\n",
    "\n",
    "    results_sim = {}\n",
    "    results_theory = {}\n",
    "    diff = {}\n",
    "\n",
    "    for key, program in programs.items():\n",
    "        \n",
    "        try:\n",
    "            result = device.run(program, steps = steps, shots = shots, nsteps=nsteps).result()\n",
    "        except:\n",
    "            print(f\"Error for {key}\")\n",
    "            continue\n",
    "        \n",
    "        print(f\"Result got for {key}\")\n",
    "        result_sim_temp = get_counters_from_result(result)\n",
    "        \n",
    "        results_sim[key] = {'g': 0, 'r': 0}\n",
    "        \n",
    "        \n",
    "        num_atoms = int(len(list(result_sim_temp.keys())[0]))\n",
    "                \n",
    "        for key2, val2 in result_sim_temp.items():\n",
    "            for i in range(num_atoms):\n",
    "                results_sim[key][key2[i]] += val2\n",
    "\n",
    "        # Get the theory result\n",
    "        values = programs[key].hamiltonian.detuning.time_series.values()\n",
    "        Delta_area = values[2] * t_max/2\n",
    "        g_theory = round(np.cos(Delta_area/2)**2 * shots*num_atoms)\n",
    "        r_theory = round(np.sin(Delta_area/2)**2 * shots*num_atoms)\n",
    "# #         print(values)\n",
    "#         Z = np.array([\n",
    "#             [1, 0], \n",
    "#             [0, -1]])\n",
    "#         U = scipy.linalg.expm(-1j * Delta_area/2 * Z)\n",
    "\n",
    "#         g_theory = round(np.abs(U[0][0]+U[1][1])**2 * shots*num_atoms)\n",
    "#         r_theory = round(np.abs(U[0][0]-U[1][1])**2 * shots*num_atoms)\n",
    "        \n",
    "\n",
    "        results_theory[key] = {\n",
    "            'g': g_theory,\n",
    "            'r': r_theory\n",
    "        }\n",
    "\n",
    "        diff[key] = {}\n",
    "\n",
    "        \n",
    "        for state in ['g', 'r']:\n",
    "            diff[key][state] = abs(results_theory[key][state]-results_sim[key][state])/(shots*num_atoms)\n",
    "            \n",
    "    return results_sim, results_theory, diff\n",
    "\n",
    "def visualize_diff(diff, state=\"g\"):\n",
    "    \n",
    "    plt.plot(list(diff.keys()), [item[state]*100 for item in list(diff.values())], 'o-')\n",
    "    plt.xlabel(\"Delta slew rate (Hz)\")\n",
    "    plt.ylabel(\"differece in percentage\")    \n",
    "    \n",
    "    "
   ]
  },
  {
   "cell_type": "markdown",
   "id": "9d3ad5c7",
   "metadata": {},
   "source": [
    "## Task 3: Triangular pulses for a pair of atoms\n",
    "This is for testing the robustness of the numpy solver"
   ]
  },
  {
   "cell_type": "code",
   "execution_count": 4,
   "id": "e5be053d",
   "metadata": {},
   "outputs": [],
   "source": [
    "programs = {}\n",
    "Omega = 15800000.0\n",
    "t_Omega = np.pi/2/Omega\n",
    "for Delta_slew in Delta_slew_range:\n",
    "        \n",
    "    register = AtomArrangement()\n",
    "            \n",
    "    register.add([0, 0])\n",
    "\n",
    "    Omega_global = TimeSeries()\n",
    "    Omega_global.put(0.0, Omega).put(t_Omega, Omega)\n",
    "    \n",
    "    # e.g. all-zero phase and detuning\n",
    "    phi = TimeSeries().put(0.0, 0.0).put(t_Omega, 0.0)  # (time [s], value [rad])\n",
    "    Delta_global = TimeSeries().put(0.0, 0.0).put(t_Omega, 0.0)\n",
    "    \n",
    "    \n",
    "    Delta_global = Delta_global.put(t_Omega+t_max/2, Delta_slew * t_max/2).put(t_Omega+t_max, 0)  # (time [s], value [rad/s])\n",
    "    Omega_global = Omega_global.put(t_Omega+t_max, 0)\n",
    "    phi = phi.put(t_Omega+t_max, 0)\n",
    "\n",
    "    drive = DrivingField(\n",
    "        amplitude=Omega_global,\n",
    "        phase=phi,\n",
    "        detuning=Delta_global\n",
    "    )            \n",
    "    \n",
    "    program = AnalogHamiltonianSimulation(\n",
    "        hamiltonian=drive,\n",
    "        register=register\n",
    "    )\n",
    "\n",
    "    programs[Delta_slew] = program\n"
   ]
  },
  {
   "cell_type": "code",
   "execution_count": 5,
   "id": "3a4916e4",
   "metadata": {
    "scrolled": true
   },
   "outputs": [
    {
     "name": "stderr",
     "output_type": "stream",
     "text": [
      "/Users/maolinml/opt/anaconda3/lib/python3.9/site-packages/braket/analog_hamiltonian_simulator/rydberg/validators/times_series.py:39: UserWarning: Max time is 0.000004099417489037652 seconds which is bigger than the typical scale (0.000004 seconds). The time points should  be specified in SI units.\n",
      "  warnings.warn(\n"
     ]
    },
    {
     "name": "stdout",
     "output_type": "stream",
     "text": [
      "Result got for 10000000000000.0\n",
      "Result got for 342222222222222.25\n"
     ]
    },
    {
     "name": "stderr",
     "output_type": "stream",
     "text": [
      "/Users/maolinml/opt/anaconda3/lib/python3.9/site-packages/braket/analog_hamiltonian_simulator/rydberg/validators/field_validator_util.py:22: UserWarning: Value 2 (684444444.4444444) in detuning time series outside the typical range [-125000000.0, 125000000.0]. The values should  be specified in SI units.\n",
      "  warnings.warn(\n",
      "/Users/maolinml/opt/anaconda3/lib/python3.9/site-packages/braket/analog_hamiltonian_simulator/rydberg/validators/field_validator_util.py:22: UserWarning: Value 2 (1348888888.8888888) in detuning time series outside the typical range [-125000000.0, 125000000.0]. The values should  be specified in SI units.\n",
      "  warnings.warn(\n"
     ]
    },
    {
     "name": "stdout",
     "output_type": "stream",
     "text": [
      "Result got for 674444444444444.5\n",
      "Result got for 1006666666666666.8\n"
     ]
    },
    {
     "name": "stderr",
     "output_type": "stream",
     "text": [
      "/Users/maolinml/opt/anaconda3/lib/python3.9/site-packages/braket/analog_hamiltonian_simulator/rydberg/validators/field_validator_util.py:22: UserWarning: Value 2 (2013333333.3333335) in detuning time series outside the typical range [-125000000.0, 125000000.0]. The values should  be specified in SI units.\n",
      "  warnings.warn(\n",
      "/Users/maolinml/opt/anaconda3/lib/python3.9/site-packages/braket/analog_hamiltonian_simulator/rydberg/validators/field_validator_util.py:22: UserWarning: Value 2 (2677777777.7777777) in detuning time series outside the typical range [-125000000.0, 125000000.0]. The values should  be specified in SI units.\n",
      "  warnings.warn(\n"
     ]
    },
    {
     "name": "stdout",
     "output_type": "stream",
     "text": [
      "Result got for 1338888888888889.0\n"
     ]
    },
    {
     "name": "stderr",
     "output_type": "stream",
     "text": [
      "/Users/maolinml/opt/anaconda3/lib/python3.9/site-packages/braket/analog_hamiltonian_simulator/rydberg/validators/field_validator_util.py:22: UserWarning: Value 2 (3342222222.222222) in detuning time series outside the typical range [-125000000.0, 125000000.0]. The values should  be specified in SI units.\n",
      "  warnings.warn(\n",
      "/Users/maolinml/opt/anaconda3/lib/python3.9/site-packages/braket/analog_hamiltonian_simulator/rydberg/validators/field_validator_util.py:22: UserWarning: Value 2 (4006666666.666667) in detuning time series outside the typical range [-125000000.0, 125000000.0]. The values should  be specified in SI units.\n",
      "  warnings.warn(\n"
     ]
    },
    {
     "name": "stdout",
     "output_type": "stream",
     "text": [
      "Result got for 1671111111111111.0\n",
      "Result got for 2003333333333333.5\n"
     ]
    },
    {
     "name": "stderr",
     "output_type": "stream",
     "text": [
      "/Users/maolinml/opt/anaconda3/lib/python3.9/site-packages/braket/analog_hamiltonian_simulator/rydberg/validators/field_validator_util.py:22: UserWarning: Value 2 (4671111111.111111) in detuning time series outside the typical range [-125000000.0, 125000000.0]. The values should  be specified in SI units.\n",
      "  warnings.warn(\n"
     ]
    },
    {
     "name": "stdout",
     "output_type": "stream",
     "text": [
      "Result got for 2335555555555555.5\n",
      "Result got for 2667777777777778.0\n"
     ]
    },
    {
     "name": "stderr",
     "output_type": "stream",
     "text": [
      "/Users/maolinml/opt/anaconda3/lib/python3.9/site-packages/braket/analog_hamiltonian_simulator/rydberg/validators/field_validator_util.py:22: UserWarning: Value 2 (5335555555.555555) in detuning time series outside the typical range [-125000000.0, 125000000.0]. The values should  be specified in SI units.\n",
      "  warnings.warn(\n"
     ]
    },
    {
     "name": "stdout",
     "output_type": "stream",
     "text": [
      "Result got for 3000000000000000.0\n"
     ]
    },
    {
     "name": "stderr",
     "output_type": "stream",
     "text": [
      "/Users/maolinml/opt/anaconda3/lib/python3.9/site-packages/braket/analog_hamiltonian_simulator/rydberg/validators/field_validator_util.py:22: UserWarning: Value 2 (6000000000.0) in detuning time series outside the typical range [-125000000.0, 125000000.0]. The values should  be specified in SI units.\n",
      "  warnings.warn(\n"
     ]
    }
   ],
   "source": [
    "results_sim, results_theory, diff = compare(programs)"
   ]
  },
  {
   "cell_type": "code",
   "execution_count": 6,
   "id": "2ab2ca56",
   "metadata": {
    "scrolled": true
   },
   "outputs": [
    {
     "data": {
      "text/plain": [
       "{10000000000000.0: {'g': 6542, 'r': 3458},\n",
       " 342222222222222.25: {'g': 1970, 'r': 8030},\n",
       " 674444444444444.5: {'g': 1973, 'r': 8027},\n",
       " 1006666666666666.8: {'g': 1881, 'r': 8119},\n",
       " 1338888888888889.0: {'g': 2540, 'r': 7460},\n",
       " 1671111111111111.0: {'g': 2170, 'r': 7830},\n",
       " 2003333333333333.5: {'g': 2250, 'r': 7750},\n",
       " 2335555555555555.5: {'g': 2650, 'r': 7350},\n",
       " 2667777777777778.0: {'g': 2938, 'r': 7062},\n",
       " 3000000000000000.0: {'g': 3201, 'r': 6799}}"
      ]
     },
     "execution_count": 6,
     "metadata": {},
     "output_type": "execute_result"
    }
   ],
   "source": [
    "results_sim"
   ]
  },
  {
   "cell_type": "code",
   "execution_count": 7,
   "id": "d1f8e9ce",
   "metadata": {
    "scrolled": true
   },
   "outputs": [
    {
     "data": {
      "text/plain": [
       "{10000000000000.0: {'g': 1665, 'r': 8335},\n",
       " 342222222222222.25: {'g': 8317, 'r': 1683},\n",
       " 674444444444444.5: {'g': 1701, 'r': 8299},\n",
       " 1006666666666666.8: {'g': 8281, 'r': 1719},\n",
       " 1338888888888889.0: {'g': 1738, 'r': 8262},\n",
       " 1671111111111111.0: {'g': 8244, 'r': 1756},\n",
       " 2003333333333333.5: {'g': 1774, 'r': 8226},\n",
       " 2335555555555555.5: {'g': 8208, 'r': 1792},\n",
       " 2667777777777778.0: {'g': 1811, 'r': 8189},\n",
       " 3000000000000000.0: {'g': 8171, 'r': 1829}}"
      ]
     },
     "execution_count": 7,
     "metadata": {},
     "output_type": "execute_result"
    }
   ],
   "source": [
    "results_theory"
   ]
  },
  {
   "cell_type": "code",
   "execution_count": 8,
   "id": "54b23994",
   "metadata": {},
   "outputs": [
    {
     "data": {
      "text/plain": [
       "{10000000000000.0: {'g': 0.4877, 'r': 0.4877},\n",
       " 342222222222222.25: {'g': 0.6347, 'r': 0.6347},\n",
       " 674444444444444.5: {'g': 0.0272, 'r': 0.0272},\n",
       " 1006666666666666.8: {'g': 0.64, 'r': 0.64},\n",
       " 1338888888888889.0: {'g': 0.0802, 'r': 0.0802},\n",
       " 1671111111111111.0: {'g': 0.6074, 'r': 0.6074},\n",
       " 2003333333333333.5: {'g': 0.0476, 'r': 0.0476},\n",
       " 2335555555555555.5: {'g': 0.5558, 'r': 0.5558},\n",
       " 2667777777777778.0: {'g': 0.1127, 'r': 0.1127},\n",
       " 3000000000000000.0: {'g': 0.497, 'r': 0.497}}"
      ]
     },
     "execution_count": 8,
     "metadata": {},
     "output_type": "execute_result"
    }
   ],
   "source": [
    "diff"
   ]
  },
  {
   "cell_type": "code",
   "execution_count": 10,
   "id": "36107123",
   "metadata": {},
   "outputs": [
    {
     "data": {
      "image/png": "[encoded data removed]",
      "text/plain": [
       "<Figure size 720x432 with 1 Axes>"
      ]
     },
     "metadata": {
      "needs_background": "light"
     },
     "output_type": "display_data"
    }
   ],
   "source": [
    "plt.rcParams[\"figure.figsize\"] = (10,6)\n",
    "visualize_diff(results_theory)"
   ]
  },
  {
   "cell_type": "markdown",
   "id": "a89b24ba",
   "metadata": {},
   "source": [
    "### Rerun with larger number of time steps"
   ]
  },
  {
   "cell_type": "code",
   "execution_count": 137,
   "id": "b680c959",
   "metadata": {
    "scrolled": true
   },
   "outputs": [
    {
     "name": "stderr",
     "output_type": "stream",
     "text": [
      "/Users/maolinml/opt/anaconda3/lib/python3.9/site-packages/braket/analog_hamiltonian_simulator/rydberg/validators/times_series.py:39: UserWarning: Max time is 0.000004099417489037652 seconds which is bigger than the typical scale (0.000004 seconds). The time points should  be specified in SI units.\n",
      "  warnings.warn(\n"
     ]
    },
    {
     "name": "stdout",
     "output_type": "stream",
     "text": [
      "Result got for 10000000000000.0\n"
     ]
    },
    {
     "name": "stderr",
     "output_type": "stream",
     "text": [
      "/Users/maolinml/opt/anaconda3/lib/python3.9/site-packages/braket/analog_hamiltonian_simulator/rydberg/validators/field_validator_util.py:22: UserWarning: Value 2 (684444444.4444444) in detuning time series outside the typical range [-125000000.0, 125000000.0]. The values should  be specified in SI units.\n",
      "  warnings.warn(\n"
     ]
    },
    {
     "name": "stdout",
     "output_type": "stream",
     "text": [
      "Result got for 342222222222222.25\n"
     ]
    },
    {
     "name": "stderr",
     "output_type": "stream",
     "text": [
      "/Users/maolinml/opt/anaconda3/lib/python3.9/site-packages/braket/analog_hamiltonian_simulator/rydberg/validators/field_validator_util.py:22: UserWarning: Value 2 (1348888888.8888888) in detuning time series outside the typical range [-125000000.0, 125000000.0]. The values should  be specified in SI units.\n",
      "  warnings.warn(\n"
     ]
    },
    {
     "name": "stdout",
     "output_type": "stream",
     "text": [
      "Result got for 674444444444444.5\n"
     ]
    },
    {
     "name": "stderr",
     "output_type": "stream",
     "text": [
      "/Users/maolinml/opt/anaconda3/lib/python3.9/site-packages/braket/analog_hamiltonian_simulator/rydberg/validators/field_validator_util.py:22: UserWarning: Value 2 (2013333333.3333335) in detuning time series outside the typical range [-125000000.0, 125000000.0]. The values should  be specified in SI units.\n",
      "  warnings.warn(\n"
     ]
    },
    {
     "name": "stdout",
     "output_type": "stream",
     "text": [
      "Result got for 1006666666666666.8\n"
     ]
    },
    {
     "name": "stderr",
     "output_type": "stream",
     "text": [
      "/Users/maolinml/opt/anaconda3/lib/python3.9/site-packages/braket/analog_hamiltonian_simulator/rydberg/validators/field_validator_util.py:22: UserWarning: Value 2 (2677777777.7777777) in detuning time series outside the typical range [-125000000.0, 125000000.0]. The values should  be specified in SI units.\n",
      "  warnings.warn(\n"
     ]
    },
    {
     "name": "stdout",
     "output_type": "stream",
     "text": [
      "Result got for 1338888888888889.0\n"
     ]
    },
    {
     "name": "stderr",
     "output_type": "stream",
     "text": [
      "/Users/maolinml/opt/anaconda3/lib/python3.9/site-packages/braket/analog_hamiltonian_simulator/rydberg/validators/field_validator_util.py:22: UserWarning: Value 2 (3342222222.222222) in detuning time series outside the typical range [-125000000.0, 125000000.0]. The values should  be specified in SI units.\n",
      "  warnings.warn(\n"
     ]
    },
    {
     "name": "stdout",
     "output_type": "stream",
     "text": [
      "Result got for 1671111111111111.0\n"
     ]
    },
    {
     "name": "stderr",
     "output_type": "stream",
     "text": [
      "/Users/maolinml/opt/anaconda3/lib/python3.9/site-packages/braket/analog_hamiltonian_simulator/rydberg/validators/field_validator_util.py:22: UserWarning: Value 2 (4006666666.666667) in detuning time series outside the typical range [-125000000.0, 125000000.0]. The values should  be specified in SI units.\n",
      "  warnings.warn(\n"
     ]
    },
    {
     "name": "stdout",
     "output_type": "stream",
     "text": [
      "Result got for 2003333333333333.5\n"
     ]
    },
    {
     "name": "stderr",
     "output_type": "stream",
     "text": [
      "/Users/maolinml/opt/anaconda3/lib/python3.9/site-packages/braket/analog_hamiltonian_simulator/rydberg/validators/field_validator_util.py:22: UserWarning: Value 2 (4671111111.111111) in detuning time series outside the typical range [-125000000.0, 125000000.0]. The values should  be specified in SI units.\n",
      "  warnings.warn(\n"
     ]
    },
    {
     "name": "stdout",
     "output_type": "stream",
     "text": [
      "Result got for 2335555555555555.5\n"
     ]
    },
    {
     "name": "stderr",
     "output_type": "stream",
     "text": [
      "/Users/maolinml/opt/anaconda3/lib/python3.9/site-packages/braket/analog_hamiltonian_simulator/rydberg/validators/field_validator_util.py:22: UserWarning: Value 2 (5335555555.555555) in detuning time series outside the typical range [-125000000.0, 125000000.0]. The values should  be specified in SI units.\n",
      "  warnings.warn(\n"
     ]
    },
    {
     "name": "stdout",
     "output_type": "stream",
     "text": [
      "Result got for 2667777777777778.0\n"
     ]
    },
    {
     "name": "stderr",
     "output_type": "stream",
     "text": [
      "/Users/maolinml/opt/anaconda3/lib/python3.9/site-packages/braket/analog_hamiltonian_simulator/rydberg/validators/field_validator_util.py:22: UserWarning: Value 2 (6000000000.0) in detuning time series outside the typical range [-125000000.0, 125000000.0]. The values should  be specified in SI units.\n",
      "  warnings.warn(\n"
     ]
    },
    {
     "name": "stdout",
     "output_type": "stream",
     "text": [
      "Result got for 3000000000000000.0\n"
     ]
    }
   ],
   "source": [
    "results_sim, results_theory, diff = compare(programs, steps = 100 * steps)"
   ]
  },
  {
   "cell_type": "code",
   "execution_count": 146,
   "id": "35197e64",
   "metadata": {
    "scrolled": true
   },
   "outputs": [
    {
     "data": {
      "text/plain": [
       "{10000000000000.0: {'g': 6489, 'r': 3511},\n",
       " 342222222222222.25: {'g': 2409, 'r': 7591},\n",
       " 674444444444444.5: {'g': 2748, 'r': 7252},\n",
       " 1006666666666666.8: {'g': 3072, 'r': 6928},\n",
       " 1338888888888889.0: {'g': 3195, 'r': 6805},\n",
       " 1671111111111111.0: {'g': 3380, 'r': 6620},\n",
       " 2003333333333333.5: {'g': 3507, 'r': 6493},\n",
       " 2335555555555555.5: {'g': 3639, 'r': 6361},\n",
       " 2667777777777778.0: {'g': 3711, 'r': 6289},\n",
       " 3000000000000000.0: {'g': 3748, 'r': 6252}}"
      ]
     },
     "execution_count": 146,
     "metadata": {},
     "output_type": "execute_result"
    }
   ],
   "source": [
    "results_sim"
   ]
  },
  {
   "cell_type": "code",
   "execution_count": 147,
   "id": "9b78f27d",
   "metadata": {
    "scrolled": true
   },
   "outputs": [
    {
     "data": {
      "text/plain": [
       "{10000000000000.0: {'g': 8335, 'r': 1665},\n",
       " 342222222222222.25: {'g': 1683, 'r': 8317},\n",
       " 674444444444444.5: {'g': 8299, 'r': 1701},\n",
       " 1006666666666666.8: {'g': 1719, 'r': 8281},\n",
       " 1338888888888889.0: {'g': 8262, 'r': 1738},\n",
       " 1671111111111111.0: {'g': 1756, 'r': 8244},\n",
       " 2003333333333333.5: {'g': 8226, 'r': 1774},\n",
       " 2335555555555555.5: {'g': 1792, 'r': 8208},\n",
       " 2667777777777778.0: {'g': 8189, 'r': 1811},\n",
       " 3000000000000000.0: {'g': 1829, 'r': 8171}}"
      ]
     },
     "execution_count": 147,
     "metadata": {},
     "output_type": "execute_result"
    }
   ],
   "source": [
    "results_theory"
   ]
  },
  {
   "cell_type": "code",
   "execution_count": 144,
   "id": "98c177e8",
   "metadata": {
    "scrolled": true
   },
   "outputs": [
    {
     "name": "stdout",
     "output_type": "stream",
     "text": [
      "{10000000000000.0: {'g': 0.1846, 'r': 0.1846},\n",
      " 342222222222222.25: {'g': 0.0726, 'r': 0.0726},\n",
      " 674444444444444.5: {'g': 0.5551, 'r': 0.5551},\n",
      " 1006666666666666.8: {'g': 0.1353, 'r': 0.1353},\n",
      " 1338888888888889.0: {'g': 0.5067, 'r': 0.5067},\n",
      " 1671111111111111.0: {'g': 0.1624, 'r': 0.1624},\n",
      " 2003333333333333.5: {'g': 0.4719, 'r': 0.4719},\n",
      " 2335555555555555.5: {'g': 0.1847, 'r': 0.1847},\n",
      " 2667777777777778.0: {'g': 0.4478, 'r': 0.4478},\n",
      " 3000000000000000.0: {'g': 0.1919, 'r': 0.1919}}\n"
     ]
    }
   ],
   "source": [
    "pp(diff)"
   ]
  },
  {
   "cell_type": "code",
   "execution_count": 145,
   "id": "81d4647e",
   "metadata": {},
   "outputs": [
    {
     "data": {
      "image/png": "[encoded data removed]",
      "text/plain": [
       "<Figure size 720x432 with 1 Axes>"
      ]
     },
     "metadata": {
      "needs_background": "light"
     },
     "output_type": "display_data"
    }
   ],
   "source": [
    "plt.rcParams[\"figure.figsize\"] = (10,6)\n",
    "visualize_diff(results_sim)"
   ]
  },
  {
   "cell_type": "markdown",
   "id": "4f44641e",
   "metadata": {},
   "source": [
    "### Rerun with larger number of shots"
   ]
  },
  {
   "cell_type": "code",
   "execution_count": 64,
   "id": "69a5ffdd",
   "metadata": {},
   "outputs": [
    {
     "name": "stdout",
     "output_type": "stream",
     "text": [
      "Result got for 10000000000000.0\n",
      "Result got for 42222222222222.22\n",
      "Result got for 74444444444444.44\n",
      "Result got for 106666666666666.66\n",
      "Result got for 138888888888888.89\n",
      "Result got for 171111111111111.12\n",
      "Result got for 203333333333333.3\n",
      "Result got for 235555555555555.53\n",
      "Result got for 267777777777777.78\n",
      "Result got for 300000000000000.0\n"
     ]
    }
   ],
   "source": [
    "results_sim, results_theory, diff = compare(programs, shots = 10 * shots)"
   ]
  },
  {
   "cell_type": "code",
   "execution_count": 65,
   "id": "b9dc425f",
   "metadata": {},
   "outputs": [
    {
     "name": "stdout",
     "output_type": "stream",
     "text": [
      "{10000000000000.0: {'g': 2e-05, 'r': 2e-05},\n",
      " 42222222222222.22: {'g': 0.00829, 'r': 0.00829},\n",
      " 74444444444444.44: {'g': 0.17, 'r': 0.17},\n",
      " 106666666666666.66: {'g': 0.63558, 'r': 0.63558},\n",
      " 138888888888888.89: {'g': 0.89462, 'r': 0.89462},\n",
      " 171111111111111.12: {'g': 0.11756, 'r': 0.11756},\n",
      " 203333333333333.3: {'g': 0.01617, 'r': 0.01617},\n",
      " 235555555555555.53: {'g': 0.40692, 'r': 0.40692},\n",
      " 267777777777777.78: {'g': 0.61729, 'r': 0.61729},\n",
      " 300000000000000.0: {'g': 0.43753, 'r': 0.43753}}\n"
     ]
    }
   ],
   "source": [
    "pp(diff)"
   ]
  },
  {
   "cell_type": "code",
   "execution_count": 66,
   "id": "1b7187f4",
   "metadata": {},
   "outputs": [
    {
     "data": {
      "image/png": "[encoded data removed]",
      "text/plain": [
       "<Figure size 720x432 with 1 Axes>"
      ]
     },
     "metadata": {
      "needs_background": "light"
     },
     "output_type": "display_data"
    }
   ],
   "source": [
    "plt.rcParams[\"figure.figsize\"] = (10,6)\n",
    "visualize_diff(diff)"
   ]
  },
  {
   "cell_type": "markdown",
   "id": "312b7073",
   "metadata": {},
   "source": [
    "## Conclusion\n"
   ]
  },
  {
   "cell_type": "code",
   "execution_count": null,
   "id": "8d457269",
   "metadata": {},
   "outputs": [],
   "source": []
  }
 ],
 "metadata": {
  "kernelspec": {
   "display_name": "Python 3 (ipykernel)",
   "language": "python",
   "name": "python3"
  },
  "language_info": {
   "codemirror_mode": {
    "name": "ipython",
    "version": 3
   },
   "file_extension": ".py",
   "mimetype": "text/x-python",
   "name": "python",
   "nbconvert_exporter": "python",
   "pygments_lexer": "ipython3",
   "version": "3.9.7"
  },
  "varInspector": {
   "cols": {
    "lenName": 16,
    "lenType": 16,
    "lenVar": 40
   },
   "kernels_config": {
    "python": {
     "delete_cmd_postfix": "",
     "delete_cmd_prefix": "del ",
     "library": "var_list.py",
     "varRefreshCmd": "print(var_dic_list())"
    },
    "r": {
     "delete_cmd_postfix": ") ",
     "delete_cmd_prefix": "rm(",
     "library": "var_list.r",
     "varRefreshCmd": "cat(var_dic_list()) "
    }
   },
   "types_to_exclude": [
    "module",
    "function",
    "builtin_function_or_method",
    "instance",
    "_Feature"
   ],
   "window_display": false
  }
 },
 "nbformat": 4,
 "nbformat_minor": 5
}
