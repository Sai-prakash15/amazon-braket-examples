{
 "cells": [
  {
   "cell_type": "markdown",
   "id": "20e6ca17",
   "metadata": {},
   "source": [
    "# Running analog Hamiltonian simulation with local simulator\n",
    "\n",
    "We recommend to test and debug an analog Hamiltonian simulation (AHS) program on the local simulator before submitting it to a QPU. In this notebook, we introduce several features of the local simulator that will be useful to streamline this testing process.\n",
    "\n",
    "To begin, we import the necessary packages."
   ]
  },
  {
   "cell_type": "code",
   "execution_count": 5,
   "id": "d1173d71",
   "metadata": {},
   "outputs": [],
   "source": [
    "import numpy as np\n",
    "import matplotlib.pyplot as plt\n",
    "import time\n",
    "\n",
    "from braket.ahs.atom_arrangement import AtomArrangement\n",
    "from braket.ahs.analog_hamiltonian_simulation import AnalogHamiltonianSimulation\n",
    "from braket.devices import LocalSimulator\n",
    "\n",
    "from ahs_utils import show_register, show_global_drive, plot_avg_density_2D, get_drive, get_avg_density"
   ]
  },
  {
   "cell_type": "code",
   "execution_count": 57,
   "id": "272ef811",
   "metadata": {},
   "outputs": [
    {
     "name": "stdout",
     "output_type": "stream",
     "text": [
      "Rb_min, Rb_max, separation = 6.752082623437916e-06, 6.796303522169465e-06, 6.774193072803691e-06\n"
     ]
    }
   ],
   "source": [
    "detuning = 5.5e7\n",
    "amplitude = 1.57e7\n",
    "C6 = 5.42e-24\n",
    "Rb_min = (C6/np.sqrt((detuning)**2+(amplitude)**2))**(1/6)\n",
    "Rb_max = (C6/np.sqrt((detuning)**2))**(1/6)\n",
    "\n",
    "# separation = 5e-5 \n",
    "# separation = 5e-6 \n",
    "separation = (Rb_min+Rb_max)/2\n",
    "\n",
    "print(f\"Rb_min, Rb_max, separation = {Rb_min}, {Rb_max}, {separation}\")\n",
    "\n",
    "register = AtomArrangement()\n",
    "register.add((0, 0))\n",
    "register.add((0, separation))\n",
    "register.add((0, 2 * separation))\n",
    "\n",
    "def get_program(ramp_down_time):\n",
    "    if ramp_down_time>0.0:\n",
    "        time_points = [0, 2.5e-7, 2.75e-6, 2.75e-6+ramp_down_time]\n",
    "        amplitude_values = [0.0, amplitude, amplitude, 0.0]  # piecewise linear\n",
    "        detuning_values = [-detuning, -detuning, detuning, detuning]  # piecewise linear\n",
    "        phase_values = [0, 0, 0, 0]  # piecewise constant\n",
    "    else:\n",
    "        time_points = [0, 2.5e-7, 2.75e-6]\n",
    "        amplitude_values = [0.0, amplitude, amplitude]  # piecewise linear\n",
    "        detuning_values = [-detuning, -detuning, detuning]  # piecewise linear\n",
    "        phase_values = [0, 0, 0]  # piecewise constant    \n",
    "        \n",
    "    drive = get_drive(time_points, amplitude_values, detuning_values, phase_values)   \n",
    "    ahs_program = AnalogHamiltonianSimulation(\n",
    "        register=register, \n",
    "        hamiltonian=drive\n",
    "    )\n",
    "    \n",
    "    return ahs_program\n",
    "    "
   ]
  },
  {
   "cell_type": "code",
   "execution_count": 55,
   "id": "6b9432a0",
   "metadata": {},
   "outputs": [
    {
     "data": {
      "text/plain": [
       "6.774193072803691e-06"
      ]
     },
     "execution_count": 55,
     "metadata": {},
     "output_type": "execute_result"
    }
   ],
   "source": [
    "(Rb_min+Rb_max)/2"
   ]
  },
  {
   "cell_type": "code",
   "execution_count": 50,
   "id": "7e4945d3",
   "metadata": {},
   "outputs": [],
   "source": [
    "ramp_down_times = np.linspace(0, 2.75e-6, 100)\n",
    "programs = [get_program(ramp_down_time) for ramp_down_time in ramp_down_times]"
   ]
  },
  {
   "cell_type": "code",
   "execution_count": 51,
   "id": "a70c804e",
   "metadata": {},
   "outputs": [],
   "source": [
    "device = LocalSimulator(\"braket_ahs\")"
   ]
  },
  {
   "cell_type": "code",
   "execution_count": 52,
   "id": "4090118f",
   "metadata": {},
   "outputs": [
    {
     "name": "stderr",
     "output_type": "stream",
     "text": [
      "/Users/maolinml/opt/anaconda3/lib/python3.9/site-packages/braket/analog_hamiltonian_simulator/rydberg/validators/times_series.py:39: UserWarning: Max time is 0.000004027777777777778 seconds which is bigger than the typical scale (0.000004 seconds). The time points should  be specified in SI units.\n",
      "  warnings.warn(\n",
      "/Users/maolinml/opt/anaconda3/lib/python3.9/site-packages/braket/analog_hamiltonian_simulator/rydberg/validators/times_series.py:39: UserWarning: Max time is 0.000004055555555555555 seconds which is bigger than the typical scale (0.000004 seconds). The time points should  be specified in SI units.\n",
      "  warnings.warn(\n",
      "/Users/maolinml/opt/anaconda3/lib/python3.9/site-packages/braket/analog_hamiltonian_simulator/rydberg/validators/times_series.py:39: UserWarning: Max time is 0.000004083333333333334 seconds which is bigger than the typical scale (0.000004 seconds). The time points should  be specified in SI units.\n",
      "  warnings.warn(\n",
      "/Users/maolinml/opt/anaconda3/lib/python3.9/site-packages/braket/analog_hamiltonian_simulator/rydberg/validators/times_series.py:39: UserWarning: Max time is 0.000004111111111111111 seconds which is bigger than the typical scale (0.000004 seconds). The time points should  be specified in SI units.\n",
      "  warnings.warn(\n",
      "/Users/maolinml/opt/anaconda3/lib/python3.9/site-packages/braket/analog_hamiltonian_simulator/rydberg/validators/times_series.py:39: UserWarning: Max time is 0.000004138888888888889 seconds which is bigger than the typical scale (0.000004 seconds). The time points should  be specified in SI units.\n",
      "  warnings.warn(\n",
      "/Users/maolinml/opt/anaconda3/lib/python3.9/site-packages/braket/analog_hamiltonian_simulator/rydberg/validators/times_series.py:39: UserWarning: Max time is 0.000004166666666666667 seconds which is bigger than the typical scale (0.000004 seconds). The time points should  be specified in SI units.\n",
      "  warnings.warn(\n",
      "/Users/maolinml/opt/anaconda3/lib/python3.9/site-packages/braket/analog_hamiltonian_simulator/rydberg/validators/times_series.py:39: UserWarning: Max time is 0.000004194444444444444 seconds which is bigger than the typical scale (0.000004 seconds). The time points should  be specified in SI units.\n",
      "  warnings.warn(\n",
      "/Users/maolinml/opt/anaconda3/lib/python3.9/site-packages/braket/analog_hamiltonian_simulator/rydberg/validators/times_series.py:39: UserWarning: Max time is 0.000004222222222222222 seconds which is bigger than the typical scale (0.000004 seconds). The time points should  be specified in SI units.\n",
      "  warnings.warn(\n",
      "/Users/maolinml/opt/anaconda3/lib/python3.9/site-packages/braket/analog_hamiltonian_simulator/rydberg/validators/times_series.py:39: UserWarning: Max time is 0.00000425 seconds which is bigger than the typical scale (0.000004 seconds). The time points should  be specified in SI units.\n",
      "  warnings.warn(\n",
      "/Users/maolinml/opt/anaconda3/lib/python3.9/site-packages/braket/analog_hamiltonian_simulator/rydberg/validators/times_series.py:39: UserWarning: Max time is 0.000004277777777777778 seconds which is bigger than the typical scale (0.000004 seconds). The time points should  be specified in SI units.\n",
      "  warnings.warn(\n",
      "/Users/maolinml/opt/anaconda3/lib/python3.9/site-packages/braket/analog_hamiltonian_simulator/rydberg/validators/times_series.py:39: UserWarning: Max time is 0.000004305555555555556 seconds which is bigger than the typical scale (0.000004 seconds). The time points should  be specified in SI units.\n",
      "  warnings.warn(\n",
      "/Users/maolinml/opt/anaconda3/lib/python3.9/site-packages/braket/analog_hamiltonian_simulator/rydberg/validators/times_series.py:39: UserWarning: Max time is 0.000004333333333333333 seconds which is bigger than the typical scale (0.000004 seconds). The time points should  be specified in SI units.\n",
      "  warnings.warn(\n",
      "/Users/maolinml/opt/anaconda3/lib/python3.9/site-packages/braket/analog_hamiltonian_simulator/rydberg/validators/times_series.py:39: UserWarning: Max time is 0.000004361111111111111 seconds which is bigger than the typical scale (0.000004 seconds). The time points should  be specified in SI units.\n",
      "  warnings.warn(\n",
      "/Users/maolinml/opt/anaconda3/lib/python3.9/site-packages/braket/analog_hamiltonian_simulator/rydberg/validators/times_series.py:39: UserWarning: Max time is 0.000004388888888888889 seconds which is bigger than the typical scale (0.000004 seconds). The time points should  be specified in SI units.\n",
      "  warnings.warn(\n",
      "/Users/maolinml/opt/anaconda3/lib/python3.9/site-packages/braket/analog_hamiltonian_simulator/rydberg/validators/times_series.py:39: UserWarning: Max time is 0.000004416666666666666 seconds which is bigger than the typical scale (0.000004 seconds). The time points should  be specified in SI units.\n",
      "  warnings.warn(\n",
      "/Users/maolinml/opt/anaconda3/lib/python3.9/site-packages/braket/analog_hamiltonian_simulator/rydberg/validators/times_series.py:39: UserWarning: Max time is 0.000004444444444444444 seconds which is bigger than the typical scale (0.000004 seconds). The time points should  be specified in SI units.\n",
      "  warnings.warn(\n",
      "/Users/maolinml/opt/anaconda3/lib/python3.9/site-packages/braket/analog_hamiltonian_simulator/rydberg/validators/times_series.py:39: UserWarning: Max time is 0.000004472222222222222 seconds which is bigger than the typical scale (0.000004 seconds). The time points should  be specified in SI units.\n",
      "  warnings.warn(\n",
      "/Users/maolinml/opt/anaconda3/lib/python3.9/site-packages/braket/analog_hamiltonian_simulator/rydberg/validators/times_series.py:39: UserWarning: Max time is 0.0000045 seconds which is bigger than the typical scale (0.000004 seconds). The time points should  be specified in SI units.\n",
      "  warnings.warn(\n",
      "/Users/maolinml/opt/anaconda3/lib/python3.9/site-packages/braket/analog_hamiltonian_simulator/rydberg/validators/times_series.py:39: UserWarning: Max time is 0.000004527777777777778 seconds which is bigger than the typical scale (0.000004 seconds). The time points should  be specified in SI units.\n",
      "  warnings.warn(\n",
      "/Users/maolinml/opt/anaconda3/lib/python3.9/site-packages/braket/analog_hamiltonian_simulator/rydberg/validators/times_series.py:39: UserWarning: Max time is 0.000004555555555555555 seconds which is bigger than the typical scale (0.000004 seconds). The time points should  be specified in SI units.\n",
      "  warnings.warn(\n",
      "/Users/maolinml/opt/anaconda3/lib/python3.9/site-packages/braket/analog_hamiltonian_simulator/rydberg/validators/times_series.py:39: UserWarning: Max time is 0.000004583333333333333 seconds which is bigger than the typical scale (0.000004 seconds). The time points should  be specified in SI units.\n",
      "  warnings.warn(\n",
      "/Users/maolinml/opt/anaconda3/lib/python3.9/site-packages/braket/analog_hamiltonian_simulator/rydberg/validators/times_series.py:39: UserWarning: Max time is 0.000004611111111111111 seconds which is bigger than the typical scale (0.000004 seconds). The time points should  be specified in SI units.\n",
      "  warnings.warn(\n",
      "/Users/maolinml/opt/anaconda3/lib/python3.9/site-packages/braket/analog_hamiltonian_simulator/rydberg/validators/times_series.py:39: UserWarning: Max time is 0.000004638888888888888 seconds which is bigger than the typical scale (0.000004 seconds). The time points should  be specified in SI units.\n",
      "  warnings.warn(\n",
      "/Users/maolinml/opt/anaconda3/lib/python3.9/site-packages/braket/analog_hamiltonian_simulator/rydberg/validators/times_series.py:39: UserWarning: Max time is 0.000004666666666666667 seconds which is bigger than the typical scale (0.000004 seconds). The time points should  be specified in SI units.\n",
      "  warnings.warn(\n",
      "/Users/maolinml/opt/anaconda3/lib/python3.9/site-packages/braket/analog_hamiltonian_simulator/rydberg/validators/times_series.py:39: UserWarning: Max time is 0.000004694444444444444 seconds which is bigger than the typical scale (0.000004 seconds). The time points should  be specified in SI units.\n",
      "  warnings.warn(\n",
      "/Users/maolinml/opt/anaconda3/lib/python3.9/site-packages/braket/analog_hamiltonian_simulator/rydberg/validators/times_series.py:39: UserWarning: Max time is 0.000004722222222222222 seconds which is bigger than the typical scale (0.000004 seconds). The time points should  be specified in SI units.\n",
      "  warnings.warn(\n",
      "/Users/maolinml/opt/anaconda3/lib/python3.9/site-packages/braket/analog_hamiltonian_simulator/rydberg/validators/times_series.py:39: UserWarning: Max time is 0.00000475 seconds which is bigger than the typical scale (0.000004 seconds). The time points should  be specified in SI units.\n",
      "  warnings.warn(\n"
     ]
    },
    {
     "name": "stderr",
     "output_type": "stream",
     "text": [
      "/Users/maolinml/opt/anaconda3/lib/python3.9/site-packages/braket/analog_hamiltonian_simulator/rydberg/validators/times_series.py:39: UserWarning: Max time is 0.000004777777777777777 seconds which is bigger than the typical scale (0.000004 seconds). The time points should  be specified in SI units.\n",
      "  warnings.warn(\n",
      "/Users/maolinml/opt/anaconda3/lib/python3.9/site-packages/braket/analog_hamiltonian_simulator/rydberg/validators/times_series.py:39: UserWarning: Max time is 0.000004805555555555555 seconds which is bigger than the typical scale (0.000004 seconds). The time points should  be specified in SI units.\n",
      "  warnings.warn(\n",
      "/Users/maolinml/opt/anaconda3/lib/python3.9/site-packages/braket/analog_hamiltonian_simulator/rydberg/validators/times_series.py:39: UserWarning: Max time is 0.000004833333333333333 seconds which is bigger than the typical scale (0.000004 seconds). The time points should  be specified in SI units.\n",
      "  warnings.warn(\n",
      "/Users/maolinml/opt/anaconda3/lib/python3.9/site-packages/braket/analog_hamiltonian_simulator/rydberg/validators/times_series.py:39: UserWarning: Max time is 0.0000048611111111111105 seconds which is bigger than the typical scale (0.000004 seconds). The time points should  be specified in SI units.\n",
      "  warnings.warn(\n",
      "/Users/maolinml/opt/anaconda3/lib/python3.9/site-packages/braket/analog_hamiltonian_simulator/rydberg/validators/times_series.py:39: UserWarning: Max time is 0.000004888888888888889 seconds which is bigger than the typical scale (0.000004 seconds). The time points should  be specified in SI units.\n",
      "  warnings.warn(\n",
      "/Users/maolinml/opt/anaconda3/lib/python3.9/site-packages/braket/analog_hamiltonian_simulator/rydberg/validators/times_series.py:39: UserWarning: Max time is 0.0000049166666666666665 seconds which is bigger than the typical scale (0.000004 seconds). The time points should  be specified in SI units.\n",
      "  warnings.warn(\n",
      "/Users/maolinml/opt/anaconda3/lib/python3.9/site-packages/braket/analog_hamiltonian_simulator/rydberg/validators/times_series.py:39: UserWarning: Max time is 0.0000049444444444444444 seconds which is bigger than the typical scale (0.000004 seconds). The time points should  be specified in SI units.\n",
      "  warnings.warn(\n",
      "/Users/maolinml/opt/anaconda3/lib/python3.9/site-packages/braket/analog_hamiltonian_simulator/rydberg/validators/times_series.py:39: UserWarning: Max time is 0.0000049722222222222224 seconds which is bigger than the typical scale (0.000004 seconds). The time points should  be specified in SI units.\n",
      "  warnings.warn(\n",
      "/Users/maolinml/opt/anaconda3/lib/python3.9/site-packages/braket/analog_hamiltonian_simulator/rydberg/validators/times_series.py:39: UserWarning: Max time is 0.0000049999999999999996 seconds which is bigger than the typical scale (0.000004 seconds). The time points should  be specified in SI units.\n",
      "  warnings.warn(\n",
      "/Users/maolinml/opt/anaconda3/lib/python3.9/site-packages/braket/analog_hamiltonian_simulator/rydberg/validators/times_series.py:39: UserWarning: Max time is 0.0000050277777777777775 seconds which is bigger than the typical scale (0.000004 seconds). The time points should  be specified in SI units.\n",
      "  warnings.warn(\n",
      "/Users/maolinml/opt/anaconda3/lib/python3.9/site-packages/braket/analog_hamiltonian_simulator/rydberg/validators/times_series.py:39: UserWarning: Max time is 0.0000050555555555555555 seconds which is bigger than the typical scale (0.000004 seconds). The time points should  be specified in SI units.\n",
      "  warnings.warn(\n",
      "/Users/maolinml/opt/anaconda3/lib/python3.9/site-packages/braket/analog_hamiltonian_simulator/rydberg/validators/times_series.py:39: UserWarning: Max time is 0.000005083333333333333 seconds which is bigger than the typical scale (0.000004 seconds). The time points should  be specified in SI units.\n",
      "  warnings.warn(\n",
      "/Users/maolinml/opt/anaconda3/lib/python3.9/site-packages/braket/analog_hamiltonian_simulator/rydberg/validators/times_series.py:39: UserWarning: Max time is 0.0000051111111111111115 seconds which is bigger than the typical scale (0.000004 seconds). The time points should  be specified in SI units.\n",
      "  warnings.warn(\n",
      "/Users/maolinml/opt/anaconda3/lib/python3.9/site-packages/braket/analog_hamiltonian_simulator/rydberg/validators/times_series.py:39: UserWarning: Max time is 0.000005138888888888889 seconds which is bigger than the typical scale (0.000004 seconds). The time points should  be specified in SI units.\n",
      "  warnings.warn(\n",
      "/Users/maolinml/opt/anaconda3/lib/python3.9/site-packages/braket/analog_hamiltonian_simulator/rydberg/validators/times_series.py:39: UserWarning: Max time is 0.000005166666666666667 seconds which is bigger than the typical scale (0.000004 seconds). The time points should  be specified in SI units.\n",
      "  warnings.warn(\n",
      "/Users/maolinml/opt/anaconda3/lib/python3.9/site-packages/braket/analog_hamiltonian_simulator/rydberg/validators/times_series.py:39: UserWarning: Max time is 0.000005194444444444445 seconds which is bigger than the typical scale (0.000004 seconds). The time points should  be specified in SI units.\n",
      "  warnings.warn(\n",
      "/Users/maolinml/opt/anaconda3/lib/python3.9/site-packages/braket/analog_hamiltonian_simulator/rydberg/validators/times_series.py:39: UserWarning: Max time is 0.000005222222222222222 seconds which is bigger than the typical scale (0.000004 seconds). The time points should  be specified in SI units.\n",
      "  warnings.warn(\n",
      "/Users/maolinml/opt/anaconda3/lib/python3.9/site-packages/braket/analog_hamiltonian_simulator/rydberg/validators/times_series.py:39: UserWarning: Max time is 0.00000525 seconds which is bigger than the typical scale (0.000004 seconds). The time points should  be specified in SI units.\n",
      "  warnings.warn(\n",
      "/Users/maolinml/opt/anaconda3/lib/python3.9/site-packages/braket/analog_hamiltonian_simulator/rydberg/validators/times_series.py:39: UserWarning: Max time is 0.000005277777777777778 seconds which is bigger than the typical scale (0.000004 seconds). The time points should  be specified in SI units.\n",
      "  warnings.warn(\n",
      "/Users/maolinml/opt/anaconda3/lib/python3.9/site-packages/braket/analog_hamiltonian_simulator/rydberg/validators/times_series.py:39: UserWarning: Max time is 0.000005305555555555555 seconds which is bigger than the typical scale (0.000004 seconds). The time points should  be specified in SI units.\n",
      "  warnings.warn(\n",
      "/Users/maolinml/opt/anaconda3/lib/python3.9/site-packages/braket/analog_hamiltonian_simulator/rydberg/validators/times_series.py:39: UserWarning: Max time is 0.000005333333333333334 seconds which is bigger than the typical scale (0.000004 seconds). The time points should  be specified in SI units.\n",
      "  warnings.warn(\n",
      "/Users/maolinml/opt/anaconda3/lib/python3.9/site-packages/braket/analog_hamiltonian_simulator/rydberg/validators/times_series.py:39: UserWarning: Max time is 0.000005361111111111111 seconds which is bigger than the typical scale (0.000004 seconds). The time points should  be specified in SI units.\n",
      "  warnings.warn(\n",
      "/Users/maolinml/opt/anaconda3/lib/python3.9/site-packages/braket/analog_hamiltonian_simulator/rydberg/validators/times_series.py:39: UserWarning: Max time is 0.000005388888888888889 seconds which is bigger than the typical scale (0.000004 seconds). The time points should  be specified in SI units.\n",
      "  warnings.warn(\n",
      "/Users/maolinml/opt/anaconda3/lib/python3.9/site-packages/braket/analog_hamiltonian_simulator/rydberg/validators/times_series.py:39: UserWarning: Max time is 0.000005416666666666667 seconds which is bigger than the typical scale (0.000004 seconds). The time points should  be specified in SI units.\n",
      "  warnings.warn(\n",
      "/Users/maolinml/opt/anaconda3/lib/python3.9/site-packages/braket/analog_hamiltonian_simulator/rydberg/validators/times_series.py:39: UserWarning: Max time is 0.000005444444444444444 seconds which is bigger than the typical scale (0.000004 seconds). The time points should  be specified in SI units.\n",
      "  warnings.warn(\n",
      "/Users/maolinml/opt/anaconda3/lib/python3.9/site-packages/braket/analog_hamiltonian_simulator/rydberg/validators/times_series.py:39: UserWarning: Max time is 0.000005472222222222223 seconds which is bigger than the typical scale (0.000004 seconds). The time points should  be specified in SI units.\n",
      "  warnings.warn(\n",
      "/Users/maolinml/opt/anaconda3/lib/python3.9/site-packages/braket/analog_hamiltonian_simulator/rydberg/validators/times_series.py:39: UserWarning: Max time is 0.0000055 seconds which is bigger than the typical scale (0.000004 seconds). The time points should  be specified in SI units.\n",
      "  warnings.warn(\n"
     ]
    }
   ],
   "source": [
    "results = [device.run(program, shots=1000).result() for program in programs]"
   ]
  },
  {
   "cell_type": "code",
   "execution_count": 53,
   "id": "5e7bb681",
   "metadata": {},
   "outputs": [],
   "source": [
    "avg_dens = [get_avg_density(result) for result in results]"
   ]
  },
  {
   "cell_type": "code",
   "execution_count": 54,
   "id": "7b626c55",
   "metadata": {},
   "outputs": [
    {
     "data": {
      "text/plain": [
       "<matplotlib.legend.Legend at 0x7f7b68ea27f0>"
      ]
     },
     "execution_count": 54,
     "metadata": {},
     "output_type": "execute_result"
    },
    {
     "data": {
      "image/png": "[encoded data removed]",
      "text/plain": [
       "<Figure size 432x288 with 1 Axes>"
      ]
     },
     "metadata": {
      "needs_background": "light"
     },
     "output_type": "display_data"
    }
   ],
   "source": [
    "plt.plot(ramp_down_times, [avg_den[0] for avg_den in avg_dens], 'x-', label='atom 0')\n",
    "plt.plot(ramp_down_times, [avg_den[1] for avg_den in avg_dens], '-.', label='atom 1')\n",
    "plt.plot(ramp_down_times, [avg_den[2] for avg_den in avg_dens], 'o-', label='atom 2')\n",
    "plt.xlabel(\"Ramp down time (mu second)\")\n",
    "plt.ylabel(\"Rydberg densities\")\n",
    "plt.legend()"
   ]
  },
  {
   "cell_type": "markdown",
   "id": "0f8623ff",
   "metadata": {},
   "source": [
    "## Run AHS program in the blockade subspace\n",
    "\n",
    "The above simulation is performed using the *full* Hamiltonian with size $2^{9}\\times 2^{9}$. However, because of Rydberg blockade, if neighboring atoms are within each other's Rydberg blockade radius $R_b$, they are very unlikely to be excited to the Rydberg states simultaneously. Given that (see [this notebook](https://github.com/aws/amazon-braket-examples/blob/main/examples/analog_hamiltonian_simulation/00_Introduction_of_Analog_Hamiltonian_Simulation_with_Rydberg_Atoms.ipynb))\n",
    "\\begin{align}\n",
    "R_b = \\left[\\frac{C_6}{\\sqrt{\\Delta^2+\\Omega^2}}\\right]^{1/6},\n",
    "\\end{align}\n",
    "\n",
    "we have 6.752 $\\mu m$ < $R_b$ < 6.796 $\\mu m$ throughout the program, which is always larger than $6.7~ \\mu m$, the distances between neighboring atoms. Hence we can approximate the full Hamiltonian of the system with a smaller *effective* Hamiltonian. We can take advantage of this fact to speed up the simulation by setting the parameter `blockade_radius` as shown below."
   ]
  },
  {
   "cell_type": "code",
   "execution_count": null,
   "id": "0e1b6a24",
   "metadata": {},
   "outputs": [],
   "source": []
  }
 ],
 "metadata": {
  "kernelspec": {
   "display_name": "Python 3 (ipykernel)",
   "language": "python",
   "name": "python3"
  },
  "language_info": {
   "codemirror_mode": {
    "name": "ipython",
    "version": 3
   },
   "file_extension": ".py",
   "mimetype": "text/x-python",
   "name": "python",
   "nbconvert_exporter": "python",
   "pygments_lexer": "ipython3",
   "version": "3.9.7"
  },
  "varInspector": {
   "cols": {
    "lenName": 16,
    "lenType": 16,
    "lenVar": 40
   },
   "kernels_config": {
    "python": {
     "delete_cmd_postfix": "",
     "delete_cmd_prefix": "del ",
     "library": "var_list.py",
     "varRefreshCmd": "print(var_dic_list())"
    },
    "r": {
     "delete_cmd_postfix": ") ",
     "delete_cmd_prefix": "rm(",
     "library": "var_list.r",
     "varRefreshCmd": "cat(var_dic_list()) "
    }
   },
   "types_to_exclude": [
    "module",
    "function",
    "builtin_function_or_method",
    "instance",
    "_Feature"
   ],
   "window_display": false
  }
 },
 "nbformat": 4,
 "nbformat_minor": 5
}
