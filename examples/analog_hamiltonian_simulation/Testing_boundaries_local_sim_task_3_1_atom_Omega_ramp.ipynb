{
 "cells": [
  {
   "cell_type": "markdown",
   "id": "f7b620f7",
   "metadata": {},
   "source": [
    "## Goal\n",
    "\n",
    "Here we want to know the parameter range, including \n",
    "\n",
    "1. The distance between a pair of atoms\n",
    "2. The maximum of Omega\n",
    "3. The maximum of abs value of Delta\n",
    "4. The slew rate of Omega, Delta, and phi\n",
    "\n",
    "that the local simulator can give reasonable result. And we will investigate what to suggest to customers if they want to go out of the range. "
   ]
  },
  {
   "cell_type": "code",
   "execution_count": 1,
   "id": "fbb91f3f",
   "metadata": {},
   "outputs": [],
   "source": [
    "import numpy as np\n",
    "import matplotlib.pyplot as plt\n",
    "import seaborn as sns\n",
    "import scipy\n",
    "import time\n",
    "\n",
    "from braket.ahs.hamiltonian import Hamiltonian\n",
    "from braket.ahs.atom_arrangement import AtomArrangement\n",
    "from braket.ahs.analog_hamiltonian_simulation import AnalogHamiltonianSimulation\n",
    "\n",
    "from braket.timings.time_series import TimeSeries\n",
    "from braket.ahs.driving_field import DrivingField\n",
    "\n",
    "from braket.devices import LocalSimulator\n",
    "device = LocalSimulator(\"braket_ahs\")\n",
    "\n",
    "from pprint import pprint as pp\n",
    "\n",
    "def get_counters_from_result(result):\n",
    "    post_sequences = [list(measurement.post_sequence) for measurement in result.measurements]\n",
    "    post_sequences = [\"\".join(['r' if site==0 else 'g' for site in post_sequence]) for post_sequence in post_sequences]\n",
    "\n",
    "    counters = {}\n",
    "    for post_sequence in post_sequences:\n",
    "        if post_sequence in counters:\n",
    "            counters[post_sequence] += 1\n",
    "        else:\n",
    "            counters[post_sequence] = 1\n",
    "    return counters\n"
   ]
  },
  {
   "cell_type": "code",
   "execution_count": 2,
   "id": "713aaaad",
   "metadata": {},
   "outputs": [],
   "source": [
    "num1 = 10 # number of data points for Omega\n",
    "\n",
    "Omega_slew_range = np.linspace(10, 300, num1) * 1e12 # The range of Omega\n",
    "\n",
    "\n",
    "t_max = 4e-6 # We fix the duration of the program\n",
    "C6 = 5.42e-24 # The interaction coefficient\n",
    "shots = 10_000 # We fix the number of shots\n",
    "# shots = 100 # We fix the number of shots\n",
    "steps = 100 # For time steps\n",
    "nsteps = 1000 # For scipy\n",
    "epsilon = 0.01 # threshold for the discrepancy of local sim and theory result\n",
    "\n",
    "def Rb(Omega, Delta):\n",
    "    return (C6/np.sqrt(Omega**2 + Delta**2))**(1/6)"
   ]
  },
  {
   "cell_type": "code",
   "execution_count": 3,
   "id": "1ced48e8",
   "metadata": {},
   "outputs": [],
   "source": [
    "def compare(programs, steps = steps, shots = shots, nsteps=nsteps):\n",
    "\n",
    "\n",
    "    results_sim = {}\n",
    "    results_theory = {}\n",
    "    diff = {}\n",
    "\n",
    "    total_time = 0\n",
    "    for key, program in programs.items():\n",
    "        \n",
    "        start_time = time.time()                \n",
    "        try:\n",
    "            result = device.run(program, steps = steps, shots = shots, nsteps=nsteps).result()\n",
    "        except:\n",
    "            print(f\"Error for {key}\")\n",
    "            continue\n",
    "        \n",
    "        total_time += time.time() - start_time        \n",
    "        \n",
    "        print(f\"Result got for {key}\")\n",
    "        result_sim_temp = get_counters_from_result(result)\n",
    "        \n",
    "        results_sim[key] = {'g': 0, 'r': 0}\n",
    "        \n",
    "        \n",
    "        num_atoms = int(len(list(result_sim_temp.keys())[0]))\n",
    "                \n",
    "        for key2, val2 in result_sim_temp.items():\n",
    "            for i in range(num_atoms):\n",
    "                results_sim[key][key2[i]] += val2\n",
    "\n",
    "        # Get the theory result\n",
    "        values = programs[key].hamiltonian.amplitude.time_series.values()\n",
    "        Omega_area = values[1] * t_max/2\n",
    "        g_theory = round(np.cos(Omega_area/2)**2 * shots*num_atoms)\n",
    "        r_theory = round(np.sin(Omega_area/2)**2 * shots*num_atoms)\n",
    "        \n",
    "        \n",
    "        results_theory[key] = {\n",
    "            'g': g_theory,\n",
    "            'r': r_theory\n",
    "        }\n",
    "\n",
    "        diff[key] = {}\n",
    "\n",
    "        \n",
    "        for state in ['g', 'r']:\n",
    "            diff[key][state] = abs(results_theory[key][state]-results_sim[key][state])/(shots*num_atoms)\n",
    "            \n",
    "    # average runtime per program\n",
    "    avg_time = total_time/len(programs)                        \n",
    "    return results_sim, results_theory, diff, avg_time\n",
    "\n",
    "def visualize_diff(diff, state=\"g\"):\n",
    "    \n",
    "    plt.plot(list(diff.keys()), [item[state]*100 for item in list(diff.values())], 'o-')\n",
    "    plt.xlabel(\"Omega slew rate (Hz)\")\n",
    "    plt.ylabel(\"differece in percentage\")    \n",
    "    \n",
    "    "
   ]
  },
  {
   "cell_type": "markdown",
   "id": "9d3ad5c7",
   "metadata": {},
   "source": [
    "## Task 3: Triangular Omega pulses for an atom\n",
    "This is for testing the robustness of the numpy solver\n",
    "\n",
    "\n",
    "## Conclusion\n",
    "\n",
    "1. With default parameters, the error rate could be as worst as 89%!\n",
    "\n",
    "2. Increasing the number of `shots` does not help\n",
    "\n",
    "3. Increasing the time steps by 10 times does help to reduce the error rate down to 0.2%!\n",
    "\n"
   ]
  },
  {
   "cell_type": "code",
   "execution_count": 4,
   "id": "e5be053d",
   "metadata": {},
   "outputs": [],
   "source": [
    "programs = {}\n",
    "\n",
    "for Omega_slew in Omega_slew_range:\n",
    "        \n",
    "    register = AtomArrangement()\n",
    "            \n",
    "    register.add([0, 0])\n",
    "\n",
    "    Omega_global = TimeSeries()\n",
    "    Omega_global.put(0.0, 0).put(t_max/2, Omega_slew * t_max/2).put(t_max, 0)\n",
    "    \n",
    "    # e.g. all-zero phase and detuning\n",
    "    phi = TimeSeries().put(0.0, 0.0).put(t_max, 0.0)  # (time [s], value [rad])\n",
    "    Delta_global = TimeSeries().put(0.0, 0.0).put(t_max, 0.0)  # (time [s], value [rad/s])\n",
    "\n",
    "    drive = DrivingField(\n",
    "        amplitude=Omega_global,\n",
    "        phase=phi,\n",
    "        detuning=Delta_global\n",
    "    )            \n",
    "\n",
    "    program = AnalogHamiltonianSimulation(\n",
    "        hamiltonian=drive,\n",
    "        register=register\n",
    "    )\n",
    "\n",
    "    programs[Omega_slew] = program\n"
   ]
  },
  {
   "cell_type": "code",
   "execution_count": 5,
   "id": "3930fa4e",
   "metadata": {},
   "outputs": [],
   "source": [
    "# programs"
   ]
  },
  {
   "cell_type": "code",
   "execution_count": 6,
   "id": "3a4916e4",
   "metadata": {
    "scrolled": true
   },
   "outputs": [
    {
     "name": "stdout",
     "output_type": "stream",
     "text": [
      "Result got for 10000000000000.0\n"
     ]
    },
    {
     "name": "stderr",
     "output_type": "stream",
     "text": [
      "/Users/maolinml/opt/anaconda3/lib/python3.9/site-packages/braket/analog_hamiltonian_simulator/rydberg/validators/field_validator_util.py:22: UserWarning: Value 1 (84444444.44444443) in amplitude time series outside the typical range [0, 25000000.0]. The values should  be specified in SI units.\n",
      "  warnings.warn(\n",
      "/Users/maolinml/opt/anaconda3/lib/python3.9/site-packages/braket/analog_hamiltonian_simulator/rydberg/validators/field_validator_util.py:22: UserWarning: Value 1 (148888888.88888887) in amplitude time series outside the typical range [0, 25000000.0]. The values should  be specified in SI units.\n",
      "  warnings.warn(\n"
     ]
    },
    {
     "name": "stdout",
     "output_type": "stream",
     "text": [
      "Result got for 42222222222222.22\n",
      "Result got for 74444444444444.44\n"
     ]
    },
    {
     "name": "stderr",
     "output_type": "stream",
     "text": [
      "/Users/maolinml/opt/anaconda3/lib/python3.9/site-packages/braket/analog_hamiltonian_simulator/rydberg/validators/field_validator_util.py:22: UserWarning: Value 1 (213333333.3333333) in amplitude time series outside the typical range [0, 25000000.0]. The values should  be specified in SI units.\n",
      "  warnings.warn(\n",
      "/Users/maolinml/opt/anaconda3/lib/python3.9/site-packages/braket/analog_hamiltonian_simulator/rydberg/validators/field_validator_util.py:22: UserWarning: Value 1 (277777777.7777778) in amplitude time series outside the typical range [0, 25000000.0]. The values should  be specified in SI units.\n",
      "  warnings.warn(\n"
     ]
    },
    {
     "name": "stdout",
     "output_type": "stream",
     "text": [
      "Result got for 106666666666666.66\n",
      "Result got for 138888888888888.89\n",
      "Result got for 171111111111111.12\n"
     ]
    },
    {
     "name": "stderr",
     "output_type": "stream",
     "text": [
      "/Users/maolinml/opt/anaconda3/lib/python3.9/site-packages/braket/analog_hamiltonian_simulator/rydberg/validators/field_validator_util.py:22: UserWarning: Value 1 (342222222.2222222) in amplitude time series outside the typical range [0, 25000000.0]. The values should  be specified in SI units.\n",
      "  warnings.warn(\n",
      "/Users/maolinml/opt/anaconda3/lib/python3.9/site-packages/braket/analog_hamiltonian_simulator/rydberg/validators/field_validator_util.py:22: UserWarning: Value 1 (406666666.6666666) in amplitude time series outside the typical range [0, 25000000.0]. The values should  be specified in SI units.\n",
      "  warnings.warn(\n"
     ]
    },
    {
     "name": "stdout",
     "output_type": "stream",
     "text": [
      "Result got for 203333333333333.3\n",
      "Result got for 235555555555555.53\n"
     ]
    },
    {
     "name": "stderr",
     "output_type": "stream",
     "text": [
      "/Users/maolinml/opt/anaconda3/lib/python3.9/site-packages/braket/analog_hamiltonian_simulator/rydberg/validators/field_validator_util.py:22: UserWarning: Value 1 (471111111.11111104) in amplitude time series outside the typical range [0, 25000000.0]. The values should  be specified in SI units.\n",
      "  warnings.warn(\n",
      "/Users/maolinml/opt/anaconda3/lib/python3.9/site-packages/braket/analog_hamiltonian_simulator/rydberg/validators/field_validator_util.py:22: UserWarning: Value 1 (535555555.5555555) in amplitude time series outside the typical range [0, 25000000.0]. The values should  be specified in SI units.\n",
      "  warnings.warn(\n"
     ]
    },
    {
     "name": "stdout",
     "output_type": "stream",
     "text": [
      "Result got for 267777777777777.78\n",
      "Result got for 300000000000000.0\n"
     ]
    },
    {
     "name": "stderr",
     "output_type": "stream",
     "text": [
      "/Users/maolinml/opt/anaconda3/lib/python3.9/site-packages/braket/analog_hamiltonian_simulator/rydberg/validators/field_validator_util.py:22: UserWarning: Value 1 (600000000.0) in amplitude time series outside the typical range [0, 25000000.0]. The values should  be specified in SI units.\n",
      "  warnings.warn(\n"
     ]
    }
   ],
   "source": [
    "results_sim, results_theory, diff, avg_time = compare(programs)"
   ]
  },
  {
   "cell_type": "code",
   "execution_count": 7,
   "id": "93c7ca74",
   "metadata": {},
   "outputs": [
    {
     "name": "stdout",
     "output_type": "stream",
     "text": [
      "The average runtime per program = 0.22718393802642822 seconds\n"
     ]
    }
   ],
   "source": [
    "print(f\"The average runtime per program = {avg_time} seconds\")"
   ]
  },
  {
   "cell_type": "code",
   "execution_count": 8,
   "id": "2ab2ca56",
   "metadata": {
    "scrolled": true
   },
   "outputs": [
    {
     "data": {
      "text/plain": [
       "{10000000000000.0: {'g': 1688, 'r': 8312},\n",
       " 42222222222222.22: {'g': 8559, 'r': 1441},\n",
       " 74444444444444.44: {'g': 2720, 'r': 7280},\n",
       " 106666666666666.66: {'g': 2752, 'r': 7248},\n",
       " 138888888888888.89: {'g': 9562, 'r': 438},\n",
       " 171111111111111.12: {'g': 8334, 'r': 1666},\n",
       " 203333333333333.3: {'g': 119, 'r': 9881},\n",
       " 235555555555555.53: {'g': 5726, 'r': 4274},\n",
       " 267777777777777.78: {'g': 6282, 'r': 3718},\n",
       " 300000000000000.0: {'g': 5620, 'r': 4380}}"
      ]
     },
     "execution_count": 8,
     "metadata": {},
     "output_type": "execute_result"
    }
   ],
   "source": [
    "results_sim"
   ]
  },
  {
   "cell_type": "code",
   "execution_count": 9,
   "id": "d1f8e9ce",
   "metadata": {
    "scrolled": true
   },
   "outputs": [
    {
     "data": {
      "text/plain": [
       "{10000000000000.0: {'g': 1665, 'r': 8335},\n",
       " 42222222222222.22: {'g': 8634, 'r': 1366},\n",
       " 74444444444444.44: {'g': 1092, 'r': 8908},\n",
       " 106666666666666.66: {'g': 9155, 'r': 845},\n",
       " 138888888888888.89: {'g': 627, 'r': 9373},\n",
       " 171111111111111.12: {'g': 9560, 'r': 440},\n",
       " 203333333333333.3: {'g': 285, 'r': 9715},\n",
       " 235555555555555.53: {'g': 9838, 'r': 162},\n",
       " 267777777777777.78: {'g': 74, 'r': 9926},\n",
       " 300000000000000.0: {'g': 9980, 'r': 20}}"
      ]
     },
     "execution_count": 9,
     "metadata": {},
     "output_type": "execute_result"
    }
   ],
   "source": [
    "results_theory"
   ]
  },
  {
   "cell_type": "code",
   "execution_count": 10,
   "id": "54b23994",
   "metadata": {},
   "outputs": [
    {
     "data": {
      "text/plain": [
       "{10000000000000.0: {'g': 0.0023, 'r': 0.0023},\n",
       " 42222222222222.22: {'g': 0.0075, 'r': 0.0075},\n",
       " 74444444444444.44: {'g': 0.1628, 'r': 0.1628},\n",
       " 106666666666666.66: {'g': 0.6403, 'r': 0.6403},\n",
       " 138888888888888.89: {'g': 0.8935, 'r': 0.8935},\n",
       " 171111111111111.12: {'g': 0.1226, 'r': 0.1226},\n",
       " 203333333333333.3: {'g': 0.0166, 'r': 0.0166},\n",
       " 235555555555555.53: {'g': 0.4112, 'r': 0.4112},\n",
       " 267777777777777.78: {'g': 0.6208, 'r': 0.6208},\n",
       " 300000000000000.0: {'g': 0.436, 'r': 0.436}}"
      ]
     },
     "execution_count": 10,
     "metadata": {},
     "output_type": "execute_result"
    }
   ],
   "source": [
    "diff"
   ]
  },
  {
   "cell_type": "code",
   "execution_count": 11,
   "id": "36107123",
   "metadata": {},
   "outputs": [
    {
     "data": {
      "image/png": "[encoded data removed]",
      "text/plain": [
       "<Figure size 720x432 with 1 Axes>"
      ]
     },
     "metadata": {
      "needs_background": "light"
     },
     "output_type": "display_data"
    }
   ],
   "source": [
    "plt.rcParams[\"figure.figsize\"] = (10,6)\n",
    "visualize_diff(diff)"
   ]
  },
  {
   "cell_type": "markdown",
   "id": "a89b24ba",
   "metadata": {},
   "source": [
    "### Rerun with larger number of time steps"
   ]
  },
  {
   "cell_type": "code",
   "execution_count": 12,
   "id": "b680c959",
   "metadata": {
    "scrolled": true
   },
   "outputs": [
    {
     "name": "stdout",
     "output_type": "stream",
     "text": [
      "Result got for 10000000000000.0\n",
      "Result got for 42222222222222.22\n",
      "Result got for 74444444444444.44\n",
      "Result got for 106666666666666.66\n",
      "Result got for 138888888888888.89\n",
      "Result got for 171111111111111.12\n",
      "Result got for 203333333333333.3\n",
      "Result got for 235555555555555.53\n",
      "Result got for 267777777777777.78\n",
      "Result got for 300000000000000.0\n"
     ]
    }
   ],
   "source": [
    "results_sim, results_theory, diff, avg_time = compare(programs, steps = 10 * steps)"
   ]
  },
  {
   "cell_type": "code",
   "execution_count": 13,
   "id": "d795054c",
   "metadata": {},
   "outputs": [
    {
     "name": "stdout",
     "output_type": "stream",
     "text": [
      "The average runtime per program = 1.3169008255004884 seconds\n"
     ]
    }
   ],
   "source": [
    "print(f\"The average runtime per program = {avg_time} seconds\")"
   ]
  },
  {
   "cell_type": "code",
   "execution_count": 14,
   "id": "35197e64",
   "metadata": {
    "scrolled": true
   },
   "outputs": [
    {
     "data": {
      "text/plain": [
       "{10000000000000.0: {'g': 1565, 'r': 8435},\n",
       " 42222222222222.22: {'g': 8594, 'r': 1406},\n",
       " 74444444444444.44: {'g': 1082, 'r': 8918},\n",
       " 106666666666666.66: {'g': 9188, 'r': 812},\n",
       " 138888888888888.89: {'g': 637, 'r': 9363},\n",
       " 171111111111111.12: {'g': 9592, 'r': 408},\n",
       " 203333333333333.3: {'g': 305, 'r': 9695},\n",
       " 235555555555555.53: {'g': 9832, 'r': 168},\n",
       " 267777777777777.78: {'g': 77, 'r': 9923},\n",
       " 300000000000000.0: {'g': 9984, 'r': 16}}"
      ]
     },
     "execution_count": 14,
     "metadata": {},
     "output_type": "execute_result"
    }
   ],
   "source": [
    "results_sim"
   ]
  },
  {
   "cell_type": "code",
   "execution_count": 15,
   "id": "9b78f27d",
   "metadata": {
    "scrolled": true
   },
   "outputs": [
    {
     "data": {
      "text/plain": [
       "{10000000000000.0: {'g': 1665, 'r': 8335},\n",
       " 42222222222222.22: {'g': 8634, 'r': 1366},\n",
       " 74444444444444.44: {'g': 1092, 'r': 8908},\n",
       " 106666666666666.66: {'g': 9155, 'r': 845},\n",
       " 138888888888888.89: {'g': 627, 'r': 9373},\n",
       " 171111111111111.12: {'g': 9560, 'r': 440},\n",
       " 203333333333333.3: {'g': 285, 'r': 9715},\n",
       " 235555555555555.53: {'g': 9838, 'r': 162},\n",
       " 267777777777777.78: {'g': 74, 'r': 9926},\n",
       " 300000000000000.0: {'g': 9980, 'r': 20}}"
      ]
     },
     "execution_count": 15,
     "metadata": {},
     "output_type": "execute_result"
    }
   ],
   "source": [
    "results_theory"
   ]
  },
  {
   "cell_type": "code",
   "execution_count": 16,
   "id": "98c177e8",
   "metadata": {
    "scrolled": true
   },
   "outputs": [
    {
     "name": "stdout",
     "output_type": "stream",
     "text": [
      "{10000000000000.0: {'g': 0.01, 'r': 0.01},\n",
      " 42222222222222.22: {'g': 0.004, 'r': 0.004},\n",
      " 74444444444444.44: {'g': 0.001, 'r': 0.001},\n",
      " 106666666666666.66: {'g': 0.0033, 'r': 0.0033},\n",
      " 138888888888888.89: {'g': 0.001, 'r': 0.001},\n",
      " 171111111111111.12: {'g': 0.0032, 'r': 0.0032},\n",
      " 203333333333333.3: {'g': 0.002, 'r': 0.002},\n",
      " 235555555555555.53: {'g': 0.0006, 'r': 0.0006},\n",
      " 267777777777777.78: {'g': 0.0003, 'r': 0.0003},\n",
      " 300000000000000.0: {'g': 0.0004, 'r': 0.0004}}\n"
     ]
    }
   ],
   "source": [
    "pp(diff)"
   ]
  },
  {
   "cell_type": "code",
   "execution_count": 17,
   "id": "81d4647e",
   "metadata": {},
   "outputs": [
    {
     "data": {
      "image/png": "[encoded data removed]",
      "text/plain": [
       "<Figure size 720x432 with 1 Axes>"
      ]
     },
     "metadata": {
      "needs_background": "light"
     },
     "output_type": "display_data"
    }
   ],
   "source": [
    "plt.rcParams[\"figure.figsize\"] = (10,6)\n",
    "visualize_diff(diff)"
   ]
  },
  {
   "cell_type": "markdown",
   "id": "2cc2ba56",
   "metadata": {},
   "source": [
    "### Rerun with larger number of shots"
   ]
  },
  {
   "cell_type": "code",
   "execution_count": 18,
   "id": "59dab667",
   "metadata": {},
   "outputs": [
    {
     "name": "stdout",
     "output_type": "stream",
     "text": [
      "Result got for 10000000000000.0\n",
      "Result got for 42222222222222.22\n",
      "Result got for 74444444444444.44\n",
      "Result got for 106666666666666.66\n",
      "Result got for 138888888888888.89\n",
      "Result got for 171111111111111.12\n",
      "Result got for 203333333333333.3\n",
      "Result got for 235555555555555.53\n",
      "Result got for 267777777777777.78\n",
      "Result got for 300000000000000.0\n"
     ]
    }
   ],
   "source": [
    "results_sim, results_theory, diff, avg_time = compare(programs, shots = 10 * shots)"
   ]
  },
  {
   "cell_type": "code",
   "execution_count": 19,
   "id": "c4e2d45e",
   "metadata": {},
   "outputs": [
    {
     "name": "stdout",
     "output_type": "stream",
     "text": [
      "The average runtime per program = 0.9701425075531006 seconds\n"
     ]
    }
   ],
   "source": [
    "print(f\"The average runtime per program = {avg_time} seconds\")"
   ]
  },
  {
   "cell_type": "code",
   "execution_count": 20,
   "id": "2973c129",
   "metadata": {},
   "outputs": [
    {
     "name": "stdout",
     "output_type": "stream",
     "text": [
      "{10000000000000.0: {'g': 0.00204, 'r': 0.00204},\n",
      " 42222222222222.22: {'g': 0.00836, 'r': 0.00836},\n",
      " 74444444444444.44: {'g': 0.16894, 'r': 0.16894},\n",
      " 106666666666666.66: {'g': 0.63552, 'r': 0.63552},\n",
      " 138888888888888.89: {'g': 0.89437, 'r': 0.89437},\n",
      " 171111111111111.12: {'g': 0.11786, 'r': 0.11786},\n",
      " 203333333333333.3: {'g': 0.01518, 'r': 0.01518},\n",
      " 235555555555555.53: {'g': 0.40219, 'r': 0.40219},\n",
      " 267777777777777.78: {'g': 0.61582, 'r': 0.61582},\n",
      " 300000000000000.0: {'g': 0.43977, 'r': 0.43977}}\n"
     ]
    }
   ],
   "source": [
    "pp(diff)"
   ]
  },
  {
   "cell_type": "code",
   "execution_count": 21,
   "id": "52390b02",
   "metadata": {},
   "outputs": [
    {
     "data": {
      "image/png": "[encoded data removed]",
      "text/plain": [
       "<Figure size 720x432 with 1 Axes>"
      ]
     },
     "metadata": {
      "needs_background": "light"
     },
     "output_type": "display_data"
    }
   ],
   "source": [
    "plt.rcParams[\"figure.figsize\"] = (10,6)\n",
    "visualize_diff(diff)"
   ]
  },
  {
   "cell_type": "markdown",
   "id": "312b7073",
   "metadata": {},
   "source": [
    "## Conclusion\n"
   ]
  },
  {
   "cell_type": "code",
   "execution_count": null,
   "id": "8d457269",
   "metadata": {},
   "outputs": [],
   "source": []
  }
 ],
 "metadata": {
  "kernelspec": {
   "display_name": "Python 3 (ipykernel)",
   "language": "python",
   "name": "python3"
  },
  "language_info": {
   "codemirror_mode": {
    "name": "ipython",
    "version": 3
   },
   "file_extension": ".py",
   "mimetype": "text/x-python",
   "name": "python",
   "nbconvert_exporter": "python",
   "pygments_lexer": "ipython3",
   "version": "3.9.7"
  },
  "varInspector": {
   "cols": {
    "lenName": 16,
    "lenType": 16,
    "lenVar": 40
   },
   "kernels_config": {
    "python": {
     "delete_cmd_postfix": "",
     "delete_cmd_prefix": "del ",
     "library": "var_list.py",
     "varRefreshCmd": "print(var_dic_list())"
    },
    "r": {
     "delete_cmd_postfix": ") ",
     "delete_cmd_prefix": "rm(",
     "library": "var_list.r",
     "varRefreshCmd": "cat(var_dic_list()) "
    }
   },
   "types_to_exclude": [
    "module",
    "function",
    "builtin_function_or_method",
    "instance",
    "_Feature"
   ],
   "window_display": false
  }
 },
 "nbformat": 4,
 "nbformat_minor": 5
}
