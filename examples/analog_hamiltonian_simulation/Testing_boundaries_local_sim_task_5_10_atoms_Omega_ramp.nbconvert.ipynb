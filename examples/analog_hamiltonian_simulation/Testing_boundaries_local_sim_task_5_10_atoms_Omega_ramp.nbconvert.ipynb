{
 "cells": [
  {
   "cell_type": "markdown",
   "id": "f7b620f7",
   "metadata": {},
   "source": [
    "## Goal\n",
    "\n",
    "Here we want to know the parameter range, including \n",
    "\n",
    "1. The distance between a pair of atoms\n",
    "2. The maximum of Omega\n",
    "3. The maximum of abs value of Delta\n",
    "4. The slew rate of Omega, Delta, and phi\n",
    "\n",
    "that the local simulator can give reasonable result. And we will investigate what to suggest to customers if they want to go out of the range. "
   ]
  },
  {
   "cell_type": "code",
   "execution_count": 1,
   "id": "fbb91f3f",
   "metadata": {
    "execution": {
     "iopub.execute_input": "2023-02-06T19:17:14.921687Z",
     "iopub.status.busy": "2023-02-06T19:17:14.921179Z",
     "iopub.status.idle": "2023-02-06T19:17:17.172370Z",
     "shell.execute_reply": "2023-02-06T19:17:17.171498Z"
    }
   },
   "outputs": [],
   "source": [
    "import numpy as np\n",
    "import matplotlib.pyplot as plt\n",
    "import seaborn as sns\n",
    "import scipy\n",
    "import time\n",
    "\n",
    "\n",
    "from braket.ahs.hamiltonian import Hamiltonian\n",
    "from braket.ahs.atom_arrangement import AtomArrangement\n",
    "from braket.ahs.analog_hamiltonian_simulation import AnalogHamiltonianSimulation\n",
    "\n",
    "from braket.timings.time_series import TimeSeries\n",
    "from braket.ahs.driving_field import DrivingField\n",
    "\n",
    "from braket.devices import LocalSimulator\n",
    "device = LocalSimulator(\"braket_ahs\")\n",
    "\n",
    "from pprint import pprint as pp\n",
    "\n",
    "def get_counters_from_result(result):\n",
    "    post_sequences = [list(measurement.post_sequence) for measurement in result.measurements]\n",
    "    post_sequences = [\"\".join(['r' if site==0 else 'g' for site in post_sequence]) for post_sequence in post_sequences]\n",
    "\n",
    "    counters = {}\n",
    "    for post_sequence in post_sequences:\n",
    "        if post_sequence in counters:\n",
    "            counters[post_sequence] += 1\n",
    "        else:\n",
    "            counters[post_sequence] = 1\n",
    "    return counters\n"
   ]
  },
  {
   "cell_type": "code",
   "execution_count": 2,
   "id": "713aaaad",
   "metadata": {
    "execution": {
     "iopub.execute_input": "2023-02-06T19:17:17.175932Z",
     "iopub.status.busy": "2023-02-06T19:17:17.175533Z",
     "iopub.status.idle": "2023-02-06T19:17:17.180855Z",
     "shell.execute_reply": "2023-02-06T19:17:17.180115Z"
    }
   },
   "outputs": [],
   "source": [
    "num1 = 10 # number of data points for Omega\n",
    "\n",
    "Omega_slew_range = np.linspace(10, 300, num1) * 1e12 # The range of Omega\n",
    "\n",
    "\n",
    "t_max = 4e-6 # We fix the duration of the program\n",
    "C6 = 5.42e-24 # The interaction coefficient\n",
    "# shots = 10_000 # We fix the number of shots\n",
    "shots = 100 # We fix the number of shots\n",
    "steps = 100 # For time steps\n",
    "nsteps = 1000 # For scipy\n",
    "epsilon = 0.01 # threshold for the discrepancy of local sim and theory result\n",
    "\n",
    "def Rb(Omega, Delta):\n",
    "    return (C6/np.sqrt(Omega**2 + Delta**2))**(1/6)"
   ]
  },
  {
   "cell_type": "code",
   "execution_count": 3,
   "id": "1ced48e8",
   "metadata": {
    "execution": {
     "iopub.execute_input": "2023-02-06T19:17:17.183654Z",
     "iopub.status.busy": "2023-02-06T19:17:17.183373Z",
     "iopub.status.idle": "2023-02-06T19:17:17.274746Z",
     "shell.execute_reply": "2023-02-06T19:17:17.274132Z"
    }
   },
   "outputs": [],
   "source": [
    "def compare(programs, steps = steps, shots = shots, nsteps=nsteps):\n",
    "\n",
    "\n",
    "    results_sim = {}\n",
    "    results_theory = {}\n",
    "    diff = {}\n",
    "\n",
    "    total_time = 0\n",
    "    for key, program in programs.items():\n",
    "        \n",
    "        start_time = time.time()                \n",
    "        try:\n",
    "            result = device.run(program, steps = steps, shots = shots, nsteps=nsteps).result()\n",
    "        except:\n",
    "            print(f\"Error for {key}\")\n",
    "            continue\n",
    "        \n",
    "        total_time += time.time() - start_time        \n",
    "\n",
    "        print(f\"Result got for {key}\")\n",
    "        result_sim_temp = get_counters_from_result(result)\n",
    "        \n",
    "        results_sim[key] = {'g': 0, 'r': 0}\n",
    "        \n",
    "        \n",
    "        num_atoms = int(len(list(result_sim_temp.keys())[0]))\n",
    "                \n",
    "        for key2, val2 in result_sim_temp.items():\n",
    "            for i in range(num_atoms):\n",
    "                results_sim[key][key2[i]] += val2\n",
    "\n",
    "        # Get the theory result\n",
    "        values = programs[key].hamiltonian.amplitude.time_series.values()\n",
    "        Omega_area = values[1] * t_max/2\n",
    "        g_theory = round(np.cos(Omega_area/2)**2 * shots*num_atoms)\n",
    "        r_theory = round(np.sin(Omega_area/2)**2 * shots*num_atoms)\n",
    "        \n",
    "        \n",
    "        results_theory[key] = {\n",
    "            'g': g_theory,\n",
    "            'r': r_theory\n",
    "        }\n",
    "\n",
    "        diff[key] = {}\n",
    "\n",
    "        \n",
    "        for state in ['g', 'r']:\n",
    "            diff[key][state] = abs(results_theory[key][state]-results_sim[key][state])/(shots*num_atoms)\n",
    "            \n",
    "    # average runtime per program\n",
    "    avg_time = total_time/len(programs)                        \n",
    "    return results_sim, results_theory, diff, avg_time\n",
    "\n",
    "\n",
    "def visualize_diff(diff, state=\"g\"):\n",
    "    \n",
    "    plt.plot(list(diff.keys()), [item[state]*100 for item in list(diff.values())], 'o-')\n",
    "    plt.xlabel(\"Omega slew rate (Hz)\")\n",
    "    plt.ylabel(\"differece in percentage\")    \n",
    "    \n",
    "    "
   ]
  },
  {
   "cell_type": "markdown",
   "id": "9d3ad5c7",
   "metadata": {},
   "source": [
    "## Task 5: Triangular Omega pulses for a pair of atoms\n",
    "This is for testing the robustness of the scipy solver\n",
    "\n",
    "\n",
    "## Conclusion\n",
    "\n",
    "1. With default parameters, the error rate could be as worst as 1.6%!\n",
    "\n",
    "2. Increasing the number of `steps` will lead to some failures! The successful runs have error rate 0.02%\n",
    "\n",
    "3. Increasing the `nsteps` by 10 times does not change the result\n",
    "\n"
   ]
  },
  {
   "cell_type": "code",
   "execution_count": 4,
   "id": "e5be053d",
   "metadata": {
    "execution": {
     "iopub.execute_input": "2023-02-06T19:17:17.277680Z",
     "iopub.status.busy": "2023-02-06T19:17:17.277238Z",
     "iopub.status.idle": "2023-02-06T19:17:17.283246Z",
     "shell.execute_reply": "2023-02-06T19:17:17.282678Z"
    }
   },
   "outputs": [],
   "source": [
    "programs = {}\n",
    "a = 1e-4\n",
    "for Omega_slew in Omega_slew_range:\n",
    "        \n",
    "    register = AtomArrangement()\n",
    "    \n",
    "    for i in range(10):\n",
    "        register.add([0, i*a])\n",
    "\n",
    "    Omega_global = TimeSeries()\n",
    "    Omega_global.put(0.0, 0).put(t_max/2, Omega_slew * t_max/2).put(t_max, 0)\n",
    "    \n",
    "    # e.g. all-zero phase and detuning\n",
    "    phi = TimeSeries().put(0.0, 0.0).put(t_max, 0.0)  # (time [s], value [rad])\n",
    "    Delta_global = TimeSeries().put(0.0, 0.0).put(t_max, 0.0)  # (time [s], value [rad/s])\n",
    "\n",
    "    drive = DrivingField(\n",
    "        amplitude=Omega_global,\n",
    "        phase=phi,\n",
    "        detuning=Delta_global\n",
    "    )            \n",
    "\n",
    "    program = AnalogHamiltonianSimulation(\n",
    "        hamiltonian=drive,\n",
    "        register=register\n",
    "    )\n",
    "\n",
    "    programs[Omega_slew] = program\n"
   ]
  },
  {
   "cell_type": "code",
   "execution_count": 5,
   "id": "3930fa4e",
   "metadata": {
    "execution": {
     "iopub.execute_input": "2023-02-06T19:17:17.285945Z",
     "iopub.status.busy": "2023-02-06T19:17:17.285554Z",
     "iopub.status.idle": "2023-02-06T19:17:17.288312Z",
     "shell.execute_reply": "2023-02-06T19:17:17.287741Z"
    }
   },
   "outputs": [],
   "source": [
    "# programs"
   ]
  },
  {
   "cell_type": "code",
   "execution_count": 6,
   "id": "3a4916e4",
   "metadata": {
    "execution": {
     "iopub.execute_input": "2023-02-06T19:17:17.290962Z",
     "iopub.status.busy": "2023-02-06T19:17:17.290626Z",
     "iopub.status.idle": "2023-02-06T19:23:04.049570Z",
     "shell.execute_reply": "2023-02-06T19:23:04.048838Z"
    },
    "scrolled": true
   },
   "outputs": [
    {
     "name": "stderr",
     "output_type": "stream",
     "text": [
      "/home/maolinml/.local/lib/python3.7/site-packages/braket/analog_hamiltonian_simulator/rydberg/validators/atom_arrangement.py:70: UserWarning: Arrangement is too tall. Sites [Decimal('0'), Decimal('0.0')] and [Decimal('0'), Decimal('0.0009000000000000001')] have y-separation bigger than the typical scale (0.0001 meters). The coordinates of the atoms should be specified in SI units.\n",
      "  f\"Arrangement is too tall. Sites {sorted_sites[0]} and {sorted_sites[-1]} \"\n"
     ]
    },
    {
     "name": "stdout",
     "output_type": "stream",
     "text": [
      "Result got for 10000000000000.0\n"
     ]
    },
    {
     "name": "stderr",
     "output_type": "stream",
     "text": [
      "/home/maolinml/.local/lib/python3.7/site-packages/braket/analog_hamiltonian_simulator/rydberg/validators/field_validator_util.py:23: UserWarning: Value 1 (84444444.44444443) in amplitude time series outside the typical range [0, 25000000.0]. The values should  be specified in SI units.\n",
      "  f\"Value {i} ({value}) in {name} time series outside the typical range \"\n"
     ]
    },
    {
     "name": "stdout",
     "output_type": "stream",
     "text": [
      "Result got for 42222222222222.22\n"
     ]
    },
    {
     "name": "stderr",
     "output_type": "stream",
     "text": [
      "/home/maolinml/.local/lib/python3.7/site-packages/braket/analog_hamiltonian_simulator/rydberg/validators/field_validator_util.py:23: UserWarning: Value 1 (148888888.88888887) in amplitude time series outside the typical range [0, 25000000.0]. The values should  be specified in SI units.\n",
      "  f\"Value {i} ({value}) in {name} time series outside the typical range \"\n"
     ]
    },
    {
     "name": "stdout",
     "output_type": "stream",
     "text": [
      "Result got for 74444444444444.44\n"
     ]
    },
    {
     "name": "stderr",
     "output_type": "stream",
     "text": [
      "/home/maolinml/.local/lib/python3.7/site-packages/braket/analog_hamiltonian_simulator/rydberg/validators/field_validator_util.py:23: UserWarning: Value 1 (213333333.3333333) in amplitude time series outside the typical range [0, 25000000.0]. The values should  be specified in SI units.\n",
      "  f\"Value {i} ({value}) in {name} time series outside the typical range \"\n"
     ]
    },
    {
     "name": "stdout",
     "output_type": "stream",
     "text": [
      "Result got for 106666666666666.66\n"
     ]
    },
    {
     "name": "stderr",
     "output_type": "stream",
     "text": [
      "/home/maolinml/.local/lib/python3.7/site-packages/braket/analog_hamiltonian_simulator/rydberg/validators/field_validator_util.py:23: UserWarning: Value 1 (277777777.7777778) in amplitude time series outside the typical range [0, 25000000.0]. The values should  be specified in SI units.\n",
      "  f\"Value {i} ({value}) in {name} time series outside the typical range \"\n"
     ]
    },
    {
     "name": "stdout",
     "output_type": "stream",
     "text": [
      "Result got for 138888888888888.89\n"
     ]
    },
    {
     "name": "stderr",
     "output_type": "stream",
     "text": [
      "/home/maolinml/.local/lib/python3.7/site-packages/braket/analog_hamiltonian_simulator/rydberg/validators/field_validator_util.py:23: UserWarning: Value 1 (342222222.2222222) in amplitude time series outside the typical range [0, 25000000.0]. The values should  be specified in SI units.\n",
      "  f\"Value {i} ({value}) in {name} time series outside the typical range \"\n"
     ]
    },
    {
     "name": "stdout",
     "output_type": "stream",
     "text": [
      "Result got for 171111111111111.12\n"
     ]
    },
    {
     "name": "stderr",
     "output_type": "stream",
     "text": [
      "/home/maolinml/.local/lib/python3.7/site-packages/braket/analog_hamiltonian_simulator/rydberg/validators/field_validator_util.py:23: UserWarning: Value 1 (406666666.6666666) in amplitude time series outside the typical range [0, 25000000.0]. The values should  be specified in SI units.\n",
      "  f\"Value {i} ({value}) in {name} time series outside the typical range \"\n"
     ]
    },
    {
     "name": "stdout",
     "output_type": "stream",
     "text": [
      "Result got for 203333333333333.3\n"
     ]
    },
    {
     "name": "stderr",
     "output_type": "stream",
     "text": [
      "/home/maolinml/.local/lib/python3.7/site-packages/braket/analog_hamiltonian_simulator/rydberg/validators/field_validator_util.py:23: UserWarning: Value 1 (471111111.11111104) in amplitude time series outside the typical range [0, 25000000.0]. The values should  be specified in SI units.\n",
      "  f\"Value {i} ({value}) in {name} time series outside the typical range \"\n"
     ]
    },
    {
     "name": "stdout",
     "output_type": "stream",
     "text": [
      "Result got for 235555555555555.53\n"
     ]
    },
    {
     "name": "stderr",
     "output_type": "stream",
     "text": [
      "/home/maolinml/.local/lib/python3.7/site-packages/braket/analog_hamiltonian_simulator/rydberg/validators/field_validator_util.py:23: UserWarning: Value 1 (535555555.5555555) in amplitude time series outside the typical range [0, 25000000.0]. The values should  be specified in SI units.\n",
      "  f\"Value {i} ({value}) in {name} time series outside the typical range \"\n"
     ]
    },
    {
     "name": "stdout",
     "output_type": "stream",
     "text": [
      "Result got for 267777777777777.78\n"
     ]
    },
    {
     "name": "stderr",
     "output_type": "stream",
     "text": [
      "/home/maolinml/.local/lib/python3.7/site-packages/braket/analog_hamiltonian_simulator/rydberg/validators/field_validator_util.py:23: UserWarning: Value 1 (600000000.0) in amplitude time series outside the typical range [0, 25000000.0]. The values should  be specified in SI units.\n",
      "  f\"Value {i} ({value}) in {name} time series outside the typical range \"\n"
     ]
    },
    {
     "name": "stdout",
     "output_type": "stream",
     "text": [
      "Result got for 300000000000000.0\n"
     ]
    }
   ],
   "source": [
    "results_sim, results_theory, diff, avg_time = compare(programs)"
   ]
  },
  {
   "cell_type": "code",
   "execution_count": 7,
   "id": "f48a468f",
   "metadata": {
    "execution": {
     "iopub.execute_input": "2023-02-06T19:23:04.052656Z",
     "iopub.status.busy": "2023-02-06T19:23:04.052342Z",
     "iopub.status.idle": "2023-02-06T19:23:04.056027Z",
     "shell.execute_reply": "2023-02-06T19:23:04.055410Z"
    }
   },
   "outputs": [
    {
     "name": "stdout",
     "output_type": "stream",
     "text": [
      "The average runtime per program = 34.6749166727066 seconds\n"
     ]
    }
   ],
   "source": [
    "print(f\"The average runtime per program = {avg_time} seconds\")"
   ]
  },
  {
   "cell_type": "code",
   "execution_count": 8,
   "id": "2ab2ca56",
   "metadata": {
    "execution": {
     "iopub.execute_input": "2023-02-06T19:23:04.058795Z",
     "iopub.status.busy": "2023-02-06T19:23:04.058425Z",
     "iopub.status.idle": "2023-02-06T19:23:04.065418Z",
     "shell.execute_reply": "2023-02-06T19:23:04.064852Z"
    },
    "scrolled": true
   },
   "outputs": [
    {
     "data": {
      "text/plain": [
       "{10000000000000.0: {'g': 170, 'r': 830},\n",
       " 42222222222222.22: {'g': 876, 'r': 124},\n",
       " 74444444444444.44: {'g': 128, 'r': 872},\n",
       " 106666666666666.66: {'g': 903, 'r': 97},\n",
       " 138888888888888.89: {'g': 76, 'r': 924},\n",
       " 171111111111111.12: {'g': 939, 'r': 61},\n",
       " 203333333333333.3: {'g': 35, 'r': 965},\n",
       " 235555555555555.53: {'g': 970, 'r': 30},\n",
       " 267777777777777.78: {'g': 19, 'r': 981},\n",
       " 300000000000000.0: {'g': 994, 'r': 6}}"
      ]
     },
     "execution_count": 8,
     "metadata": {},
     "output_type": "execute_result"
    }
   ],
   "source": [
    "results_sim"
   ]
  },
  {
   "cell_type": "code",
   "execution_count": 9,
   "id": "d1f8e9ce",
   "metadata": {
    "execution": {
     "iopub.execute_input": "2023-02-06T19:23:04.068177Z",
     "iopub.status.busy": "2023-02-06T19:23:04.067833Z",
     "iopub.status.idle": "2023-02-06T19:23:04.072481Z",
     "shell.execute_reply": "2023-02-06T19:23:04.071914Z"
    },
    "scrolled": true
   },
   "outputs": [
    {
     "data": {
      "text/plain": [
       "{10000000000000.0: {'g': 167, 'r': 833},\n",
       " 42222222222222.22: {'g': 863, 'r': 137},\n",
       " 74444444444444.44: {'g': 109, 'r': 891},\n",
       " 106666666666666.66: {'g': 915, 'r': 85},\n",
       " 138888888888888.89: {'g': 63, 'r': 937},\n",
       " 171111111111111.12: {'g': 956, 'r': 44},\n",
       " 203333333333333.3: {'g': 28, 'r': 972},\n",
       " 235555555555555.53: {'g': 984, 'r': 16},\n",
       " 267777777777777.78: {'g': 7, 'r': 993},\n",
       " 300000000000000.0: {'g': 998, 'r': 2}}"
      ]
     },
     "execution_count": 9,
     "metadata": {},
     "output_type": "execute_result"
    }
   ],
   "source": [
    "results_theory"
   ]
  },
  {
   "cell_type": "code",
   "execution_count": 10,
   "id": "54b23994",
   "metadata": {
    "execution": {
     "iopub.execute_input": "2023-02-06T19:23:04.075167Z",
     "iopub.status.busy": "2023-02-06T19:23:04.074828Z",
     "iopub.status.idle": "2023-02-06T19:23:04.079333Z",
     "shell.execute_reply": "2023-02-06T19:23:04.078757Z"
    }
   },
   "outputs": [
    {
     "data": {
      "text/plain": [
       "{10000000000000.0: {'g': 0.003, 'r': 0.003},\n",
       " 42222222222222.22: {'g': 0.013, 'r': 0.013},\n",
       " 74444444444444.44: {'g': 0.019, 'r': 0.019},\n",
       " 106666666666666.66: {'g': 0.012, 'r': 0.012},\n",
       " 138888888888888.89: {'g': 0.013, 'r': 0.013},\n",
       " 171111111111111.12: {'g': 0.017, 'r': 0.017},\n",
       " 203333333333333.3: {'g': 0.007, 'r': 0.007},\n",
       " 235555555555555.53: {'g': 0.014, 'r': 0.014},\n",
       " 267777777777777.78: {'g': 0.012, 'r': 0.012},\n",
       " 300000000000000.0: {'g': 0.004, 'r': 0.004}}"
      ]
     },
     "execution_count": 10,
     "metadata": {},
     "output_type": "execute_result"
    }
   ],
   "source": [
    "diff"
   ]
  },
  {
   "cell_type": "code",
   "execution_count": 11,
   "id": "36107123",
   "metadata": {
    "execution": {
     "iopub.execute_input": "2023-02-06T19:23:04.082034Z",
     "iopub.status.busy": "2023-02-06T19:23:04.081680Z",
     "iopub.status.idle": "2023-02-06T19:23:04.260727Z",
     "shell.execute_reply": "2023-02-06T19:23:04.260134Z"
    }
   },
   "outputs": [
    {
     "data": {
      "image/png": "[encoded data removed]",
      "text/plain": [
       "<Figure size 1000x600 with 1 Axes>"
      ]
     },
     "metadata": {},
     "output_type": "display_data"
    }
   ],
   "source": [
    "plt.rcParams[\"figure.figsize\"] = (10,6)\n",
    "visualize_diff(diff)"
   ]
  },
  {
   "cell_type": "markdown",
   "id": "a89b24ba",
   "metadata": {},
   "source": [
    "### Rerun with larger number of time steps"
   ]
  },
  {
   "cell_type": "code",
   "execution_count": 12,
   "id": "b680c959",
   "metadata": {
    "execution": {
     "iopub.execute_input": "2023-02-06T19:23:04.263697Z",
     "iopub.status.busy": "2023-02-06T19:23:04.263223Z",
     "iopub.status.idle": "2023-02-06T19:33:42.624042Z",
     "shell.execute_reply": "2023-02-06T19:33:42.623114Z"
    },
    "scrolled": true
   },
   "outputs": [
    {
     "name": "stdout",
     "output_type": "stream",
     "text": [
      "Error for 10000000000000.0\n"
     ]
    },
    {
     "name": "stderr",
     "output_type": "stream",
     "text": [
      "capi_return is NULL\n",
      "Call-back cb_f_in_zvode__user__routines failed.\n"
     ]
    },
    {
     "name": "stdout",
     "output_type": "stream",
     "text": [
      "Error for 42222222222222.22\n"
     ]
    },
    {
     "name": "stderr",
     "output_type": "stream",
     "text": [
      "capi_return is NULL\n",
      "Call-back cb_f_in_zvode__user__routines failed.\n"
     ]
    },
    {
     "name": "stdout",
     "output_type": "stream",
     "text": [
      "Error for 74444444444444.44\n"
     ]
    },
    {
     "name": "stderr",
     "output_type": "stream",
     "text": [
      "capi_return is NULL\n",
      "Call-back cb_f_in_zvode__user__routines failed.\n"
     ]
    },
    {
     "name": "stdout",
     "output_type": "stream",
     "text": [
      "Error for 106666666666666.66\n"
     ]
    },
    {
     "name": "stderr",
     "output_type": "stream",
     "text": [
      "capi_return is NULL\n",
      "Call-back cb_f_in_zvode__user__routines failed.\n"
     ]
    },
    {
     "name": "stdout",
     "output_type": "stream",
     "text": [
      "Error for 138888888888888.89\n"
     ]
    },
    {
     "name": "stderr",
     "output_type": "stream",
     "text": [
      "capi_return is NULL\n",
      "Call-back cb_f_in_zvode__user__routines failed.\n"
     ]
    },
    {
     "name": "stdout",
     "output_type": "stream",
     "text": [
      "Result got for 171111111111111.12\n",
      "Error for 203333333333333.3\n"
     ]
    },
    {
     "name": "stderr",
     "output_type": "stream",
     "text": [
      "capi_return is NULL\n",
      "Call-back cb_f_in_zvode__user__routines failed.\n"
     ]
    },
    {
     "name": "stdout",
     "output_type": "stream",
     "text": [
      "Error for 235555555555555.53\n"
     ]
    },
    {
     "name": "stderr",
     "output_type": "stream",
     "text": [
      "capi_return is NULL\n",
      "Call-back cb_f_in_zvode__user__routines failed.\n"
     ]
    },
    {
     "name": "stdout",
     "output_type": "stream",
     "text": [
      "Result got for 267777777777777.78\n",
      "Result got for 300000000000000.0\n"
     ]
    }
   ],
   "source": [
    "results_sim, results_theory, diff, avg_time = compare(programs, steps = 10 * steps)"
   ]
  },
  {
   "cell_type": "code",
   "execution_count": 13,
   "id": "1bb0c00e",
   "metadata": {
    "execution": {
     "iopub.execute_input": "2023-02-06T19:33:42.627350Z",
     "iopub.status.busy": "2023-02-06T19:33:42.626958Z",
     "iopub.status.idle": "2023-02-06T19:33:42.631174Z",
     "shell.execute_reply": "2023-02-06T19:33:42.630466Z"
    }
   },
   "outputs": [
    {
     "name": "stdout",
     "output_type": "stream",
     "text": [
      "The average runtime per program = 24.004539942741395 seconds\n"
     ]
    }
   ],
   "source": [
    "print(f\"The average runtime per program = {avg_time} seconds\")"
   ]
  },
  {
   "cell_type": "code",
   "execution_count": 14,
   "id": "35197e64",
   "metadata": {
    "execution": {
     "iopub.execute_input": "2023-02-06T19:33:42.634215Z",
     "iopub.status.busy": "2023-02-06T19:33:42.633662Z",
     "iopub.status.idle": "2023-02-06T19:33:42.638321Z",
     "shell.execute_reply": "2023-02-06T19:33:42.637679Z"
    },
    "scrolled": true
   },
   "outputs": [
    {
     "data": {
      "text/plain": [
       "{171111111111111.12: {'g': 948, 'r': 52},\n",
       " 267777777777777.78: {'g': 11, 'r': 989},\n",
       " 300000000000000.0: {'g': 996, 'r': 4}}"
      ]
     },
     "execution_count": 14,
     "metadata": {},
     "output_type": "execute_result"
    }
   ],
   "source": [
    "results_sim"
   ]
  },
  {
   "cell_type": "code",
   "execution_count": 15,
   "id": "9b78f27d",
   "metadata": {
    "execution": {
     "iopub.execute_input": "2023-02-06T19:33:42.641155Z",
     "iopub.status.busy": "2023-02-06T19:33:42.640759Z",
     "iopub.status.idle": "2023-02-06T19:33:42.645145Z",
     "shell.execute_reply": "2023-02-06T19:33:42.644522Z"
    },
    "scrolled": true
   },
   "outputs": [
    {
     "data": {
      "text/plain": [
       "{171111111111111.12: {'g': 956, 'r': 44},\n",
       " 267777777777777.78: {'g': 7, 'r': 993},\n",
       " 300000000000000.0: {'g': 998, 'r': 2}}"
      ]
     },
     "execution_count": 15,
     "metadata": {},
     "output_type": "execute_result"
    }
   ],
   "source": [
    "results_theory"
   ]
  },
  {
   "cell_type": "code",
   "execution_count": 16,
   "id": "98c177e8",
   "metadata": {
    "execution": {
     "iopub.execute_input": "2023-02-06T19:33:42.647995Z",
     "iopub.status.busy": "2023-02-06T19:33:42.647601Z",
     "iopub.status.idle": "2023-02-06T19:33:42.651214Z",
     "shell.execute_reply": "2023-02-06T19:33:42.650534Z"
    },
    "scrolled": true
   },
   "outputs": [
    {
     "name": "stdout",
     "output_type": "stream",
     "text": [
      "{171111111111111.12: {'g': 0.008, 'r': 0.008},\n",
      " 267777777777777.78: {'g': 0.004, 'r': 0.004},\n",
      " 300000000000000.0: {'g': 0.002, 'r': 0.002}}\n"
     ]
    }
   ],
   "source": [
    "pp(diff)"
   ]
  },
  {
   "cell_type": "code",
   "execution_count": 17,
   "id": "81d4647e",
   "metadata": {
    "execution": {
     "iopub.execute_input": "2023-02-06T19:33:42.654028Z",
     "iopub.status.busy": "2023-02-06T19:33:42.653620Z",
     "iopub.status.idle": "2023-02-06T19:33:42.807967Z",
     "shell.execute_reply": "2023-02-06T19:33:42.807281Z"
    }
   },
   "outputs": [
    {
     "data": {
      "image/png": "[encoded data removed]",
      "text/plain": [
       "<Figure size 1000x600 with 1 Axes>"
      ]
     },
     "metadata": {},
     "output_type": "display_data"
    }
   ],
   "source": [
    "plt.rcParams[\"figure.figsize\"] = (10,6)\n",
    "visualize_diff(diff)"
   ]
  },
  {
   "cell_type": "markdown",
   "id": "e0c22e87",
   "metadata": {},
   "source": [
    "### Rerun with larger number of nsteps"
   ]
  },
  {
   "cell_type": "code",
   "execution_count": 18,
   "id": "f13f5291",
   "metadata": {
    "execution": {
     "iopub.execute_input": "2023-02-06T19:33:42.810928Z",
     "iopub.status.busy": "2023-02-06T19:33:42.810513Z",
     "iopub.status.idle": "2023-02-06T19:39:15.304098Z",
     "shell.execute_reply": "2023-02-06T19:39:15.303340Z"
    }
   },
   "outputs": [
    {
     "name": "stdout",
     "output_type": "stream",
     "text": [
      "Result got for 10000000000000.0\n",
      "Result got for 42222222222222.22\n",
      "Result got for 74444444444444.44\n",
      "Result got for 106666666666666.66\n",
      "Result got for 138888888888888.89\n",
      "Result got for 171111111111111.12\n",
      "Result got for 203333333333333.3\n",
      "Result got for 235555555555555.53\n",
      "Result got for 267777777777777.78\n",
      "Result got for 300000000000000.0\n"
     ]
    }
   ],
   "source": [
    "results_sim, results_theory, diff, avg_time = compare(programs, nsteps = 10 * nsteps)"
   ]
  },
  {
   "cell_type": "code",
   "execution_count": 19,
   "id": "b1180503",
   "metadata": {
    "execution": {
     "iopub.execute_input": "2023-02-06T19:39:15.307203Z",
     "iopub.status.busy": "2023-02-06T19:39:15.306884Z",
     "iopub.status.idle": "2023-02-06T19:39:15.310672Z",
     "shell.execute_reply": "2023-02-06T19:39:15.310058Z"
    }
   },
   "outputs": [
    {
     "name": "stdout",
     "output_type": "stream",
     "text": [
      "The average runtime per program = 33.248285579681394 seconds\n"
     ]
    }
   ],
   "source": [
    "print(f\"The average runtime per program = {avg_time} seconds\")"
   ]
  },
  {
   "cell_type": "code",
   "execution_count": 20,
   "id": "61f7b53b",
   "metadata": {
    "execution": {
     "iopub.execute_input": "2023-02-06T19:39:15.313419Z",
     "iopub.status.busy": "2023-02-06T19:39:15.313062Z",
     "iopub.status.idle": "2023-02-06T19:39:15.316809Z",
     "shell.execute_reply": "2023-02-06T19:39:15.316199Z"
    }
   },
   "outputs": [
    {
     "name": "stdout",
     "output_type": "stream",
     "text": [
      "{10000000000000.0: {'g': 0.005, 'r': 0.005},\n",
      " 42222222222222.22: {'g': 0.026, 'r': 0.026},\n",
      " 74444444444444.44: {'g': 0.024, 'r': 0.024},\n",
      " 106666666666666.66: {'g': 0.022, 'r': 0.022},\n",
      " 138888888888888.89: {'g': 0.018, 'r': 0.018},\n",
      " 171111111111111.12: {'g': 0.013, 'r': 0.013},\n",
      " 203333333333333.3: {'g': 0.012, 'r': 0.012},\n",
      " 235555555555555.53: {'g': 0.009, 'r': 0.009},\n",
      " 267777777777777.78: {'g': 0.013, 'r': 0.013},\n",
      " 300000000000000.0: {'g': 0.008, 'r': 0.008}}\n"
     ]
    }
   ],
   "source": [
    "pp(diff)"
   ]
  },
  {
   "cell_type": "code",
   "execution_count": 21,
   "id": "5c338e58",
   "metadata": {
    "execution": {
     "iopub.execute_input": "2023-02-06T19:39:15.319504Z",
     "iopub.status.busy": "2023-02-06T19:39:15.319158Z",
     "iopub.status.idle": "2023-02-06T19:39:15.473150Z",
     "shell.execute_reply": "2023-02-06T19:39:15.472564Z"
    }
   },
   "outputs": [
    {
     "data": {
      "image/png": "[encoded data removed]",
      "text/plain": [
       "<Figure size 1000x600 with 1 Axes>"
      ]
     },
     "metadata": {},
     "output_type": "display_data"
    }
   ],
   "source": [
    "plt.rcParams[\"figure.figsize\"] = (10,6)\n",
    "visualize_diff(diff)"
   ]
  },
  {
   "cell_type": "code",
   "execution_count": null,
   "id": "8d457269",
   "metadata": {},
   "outputs": [],
   "source": []
  }
 ],
 "metadata": {
  "kernelspec": {
   "display_name": "Python 3",
   "language": "python",
   "name": "python3"
  },
  "language_info": {
   "codemirror_mode": {
    "name": "ipython",
    "version": 3
   },
   "file_extension": ".py",
   "mimetype": "text/x-python",
   "name": "python",
   "nbconvert_exporter": "python",
   "pygments_lexer": "ipython3",
   "version": "3.7.16"
  },
  "varInspector": {
   "cols": {
    "lenName": 16,
    "lenType": 16,
    "lenVar": 40
   },
   "kernels_config": {
    "python": {
     "delete_cmd_postfix": "",
     "delete_cmd_prefix": "del ",
     "library": "var_list.py",
     "varRefreshCmd": "print(var_dic_list())"
    },
    "r": {
     "delete_cmd_postfix": ") ",
     "delete_cmd_prefix": "rm(",
     "library": "var_list.r",
     "varRefreshCmd": "cat(var_dic_list()) "
    }
   },
   "types_to_exclude": [
    "module",
    "function",
    "builtin_function_or_method",
    "instance",
    "_Feature"
   ],
   "window_display": false
  },
  "vscode": {
   "interpreter": {
    "hash": "31f2aee4e71d21fbe5cf8b01ff0e069b9275f58929596ceb00d14d90e3e16cd6"
   }
  }
 },
 "nbformat": 4,
 "nbformat_minor": 5
}
