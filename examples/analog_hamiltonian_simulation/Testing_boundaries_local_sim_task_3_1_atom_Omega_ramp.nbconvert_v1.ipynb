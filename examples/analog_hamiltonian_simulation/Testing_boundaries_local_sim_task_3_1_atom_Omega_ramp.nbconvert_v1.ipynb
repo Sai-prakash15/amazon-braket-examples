{
 "cells": [
  {
   "cell_type": "markdown",
   "id": "f7b620f7",
   "metadata": {},
   "source": [
    "## Goal\n",
    "\n",
    "Here we want to know the parameter range, including \n",
    "\n",
    "1. The distance between a pair of atoms\n",
    "2. The maximum of Omega\n",
    "3. The maximum of abs value of Delta\n",
    "4. The slew rate of Omega, Delta, and phi\n",
    "\n",
    "that the local simulator can give reasonable result. And we will investigate what to suggest to customers if they want to go out of the range. "
   ]
  },
  {
   "cell_type": "code",
   "execution_count": 1,
   "id": "fbb91f3f",
   "metadata": {
    "execution": {
     "iopub.execute_input": "2023-02-05T18:28:10.689061Z",
     "iopub.status.busy": "2023-02-05T18:28:10.688681Z",
     "iopub.status.idle": "2023-02-05T18:28:12.887712Z",
     "shell.execute_reply": "2023-02-05T18:28:12.887003Z"
    }
   },
   "outputs": [],
   "source": [
    "import numpy as np\n",
    "import matplotlib.pyplot as plt\n",
    "import seaborn as sns\n",
    "import scipy\n",
    "import time\n",
    "\n",
    "from braket.ahs.hamiltonian import Hamiltonian\n",
    "from braket.ahs.atom_arrangement import AtomArrangement\n",
    "from braket.ahs.analog_hamiltonian_simulation import AnalogHamiltonianSimulation\n",
    "\n",
    "from braket.timings.time_series import TimeSeries\n",
    "from braket.ahs.driving_field import DrivingField\n",
    "\n",
    "from braket.devices import LocalSimulator\n",
    "device = LocalSimulator(\"braket_ahs\")\n",
    "\n",
    "from pprint import pprint as pp\n",
    "\n",
    "def get_counters_from_result(result):\n",
    "    post_sequences = [list(measurement.post_sequence) for measurement in result.measurements]\n",
    "    post_sequences = [\"\".join(['r' if site==0 else 'g' for site in post_sequence]) for post_sequence in post_sequences]\n",
    "\n",
    "    counters = {}\n",
    "    for post_sequence in post_sequences:\n",
    "        if post_sequence in counters:\n",
    "            counters[post_sequence] += 1\n",
    "        else:\n",
    "            counters[post_sequence] = 1\n",
    "    return counters\n"
   ]
  },
  {
   "cell_type": "code",
   "execution_count": 2,
   "id": "713aaaad",
   "metadata": {
    "execution": {
     "iopub.execute_input": "2023-02-05T18:28:12.891080Z",
     "iopub.status.busy": "2023-02-05T18:28:12.890696Z",
     "iopub.status.idle": "2023-02-05T18:28:12.895573Z",
     "shell.execute_reply": "2023-02-05T18:28:12.894973Z"
    }
   },
   "outputs": [],
   "source": [
    "num1 = 10 # number of data points for Omega\n",
    "\n",
    "Omega_slew_range = np.linspace(10, 300, num1) * 1e12 # The range of Omega\n",
    "\n",
    "\n",
    "t_max = 4e-6 # We fix the duration of the program\n",
    "C6 = 5.42e-24 # The interaction coefficient\n",
    "# shots = 10_000 # We fix the number of shots\n",
    "shots = 100 # We fix the number of shots\n",
    "steps = 100 # For time steps\n",
    "nsteps = 1000 # For scipy\n",
    "epsilon = 0.01 # threshold for the discrepancy of local sim and theory result\n",
    "\n",
    "def Rb(Omega, Delta):\n",
    "    return (C6/np.sqrt(Omega**2 + Delta**2))**(1/6)"
   ]
  },
  {
   "cell_type": "code",
   "execution_count": 3,
   "id": "1ced48e8",
   "metadata": {
    "execution": {
     "iopub.execute_input": "2023-02-05T18:28:12.898280Z",
     "iopub.status.busy": "2023-02-05T18:28:12.898027Z",
     "iopub.status.idle": "2023-02-05T18:28:12.984976Z",
     "shell.execute_reply": "2023-02-05T18:28:12.984371Z"
    }
   },
   "outputs": [],
   "source": [
    "def compare(programs, steps = steps, shots = shots, nsteps=nsteps):\n",
    "\n",
    "\n",
    "    results_sim = {}\n",
    "    results_theory = {}\n",
    "    diff = {}\n",
    "\n",
    "    total_time = 0\n",
    "    for key, program in programs.items():\n",
    "        \n",
    "        start_time = time.time()                \n",
    "        try:\n",
    "            result = device.run(program, steps = steps, shots = shots, nsteps=nsteps).result()\n",
    "        except:\n",
    "            print(f\"Error for {key}\")\n",
    "            continue\n",
    "        \n",
    "        total_time += time.time() - start_time        \n",
    "        \n",
    "        print(f\"Result got for {key}\")\n",
    "        result_sim_temp = get_counters_from_result(result)\n",
    "        \n",
    "        results_sim[key] = {'g': 0, 'r': 0}\n",
    "        \n",
    "        \n",
    "        num_atoms = int(len(list(result_sim_temp.keys())[0]))\n",
    "                \n",
    "        for key2, val2 in result_sim_temp.items():\n",
    "            for i in range(num_atoms):\n",
    "                results_sim[key][key2[i]] += val2\n",
    "\n",
    "        # Get the theory result\n",
    "        values = programs[key].hamiltonian.amplitude.time_series.values()\n",
    "        Omega_area = values[1] * t_max/2\n",
    "        g_theory = round(np.cos(Omega_area/2)**2 * shots*num_atoms)\n",
    "        r_theory = round(np.sin(Omega_area/2)**2 * shots*num_atoms)\n",
    "        \n",
    "        \n",
    "        results_theory[key] = {\n",
    "            'g': g_theory,\n",
    "            'r': r_theory\n",
    "        }\n",
    "\n",
    "        diff[key] = {}\n",
    "\n",
    "        \n",
    "        for state in ['g', 'r']:\n",
    "            diff[key][state] = abs(results_theory[key][state]-results_sim[key][state])/(shots*num_atoms)\n",
    "            \n",
    "    # average runtime per program\n",
    "    avg_time = total_time/len(programs)                        \n",
    "    return results_sim, results_theory, diff, avg_time\n",
    "\n",
    "def visualize_diff(diff, state=\"g\"):\n",
    "    \n",
    "    plt.plot(list(diff.keys()), [item[state]*100 for item in list(diff.values())], 'o-')\n",
    "    plt.xlabel(\"Omega slew rate (Hz)\")\n",
    "    plt.ylabel(\"differece in percentage\")    \n",
    "    \n",
    "    "
   ]
  },
  {
   "cell_type": "markdown",
   "id": "9d3ad5c7",
   "metadata": {},
   "source": [
    "## Task 3: Triangular Omega pulses for an atom\n",
    "This is for testing the robustness of the numpy solver\n",
    "\n",
    "\n",
    "## Conclusion\n",
    "\n",
    "1. With default parameters, the error rate could be as worst as 89%!\n",
    "\n",
    "2. Increasing the number of `shots` does not help\n",
    "\n",
    "3. Increasing the time steps by 10 times does help to reduce the error rate down to 0.2%!\n",
    "\n"
   ]
  },
  {
   "cell_type": "code",
   "execution_count": 4,
   "id": "e5be053d",
   "metadata": {
    "execution": {
     "iopub.execute_input": "2023-02-05T18:28:12.987994Z",
     "iopub.status.busy": "2023-02-05T18:28:12.987537Z",
     "iopub.status.idle": "2023-02-05T18:28:12.992905Z",
     "shell.execute_reply": "2023-02-05T18:28:12.992341Z"
    }
   },
   "outputs": [],
   "source": [
    "programs = {}\n",
    "\n",
    "for Omega_slew in Omega_slew_range:\n",
    "        \n",
    "    register = AtomArrangement()\n",
    "            \n",
    "    register.add([0, 0])\n",
    "\n",
    "    Omega_global = TimeSeries()\n",
    "    Omega_global.put(0.0, 0).put(t_max/2, Omega_slew * t_max/2).put(t_max, 0)\n",
    "    \n",
    "    # e.g. all-zero phase and detuning\n",
    "    phi = TimeSeries().put(0.0, 0.0).put(t_max, 0.0)  # (time [s], value [rad])\n",
    "    Delta_global = TimeSeries().put(0.0, 0.0).put(t_max, 0.0)  # (time [s], value [rad/s])\n",
    "\n",
    "    drive = DrivingField(\n",
    "        amplitude=Omega_global,\n",
    "        phase=phi,\n",
    "        detuning=Delta_global\n",
    "    )            \n",
    "\n",
    "    program = AnalogHamiltonianSimulation(\n",
    "        hamiltonian=drive,\n",
    "        register=register\n",
    "    )\n",
    "\n",
    "    programs[Omega_slew] = program\n"
   ]
  },
  {
   "cell_type": "code",
   "execution_count": 5,
   "id": "3930fa4e",
   "metadata": {
    "execution": {
     "iopub.execute_input": "2023-02-05T18:28:12.995583Z",
     "iopub.status.busy": "2023-02-05T18:28:12.995245Z",
     "iopub.status.idle": "2023-02-05T18:28:12.997953Z",
     "shell.execute_reply": "2023-02-05T18:28:12.997390Z"
    }
   },
   "outputs": [],
   "source": [
    "# programs"
   ]
  },
  {
   "cell_type": "code",
   "execution_count": 6,
   "id": "3a4916e4",
   "metadata": {
    "execution": {
     "iopub.execute_input": "2023-02-05T18:28:13.000586Z",
     "iopub.status.busy": "2023-02-05T18:28:13.000241Z",
     "iopub.status.idle": "2023-02-05T18:28:14.446347Z",
     "shell.execute_reply": "2023-02-05T18:28:14.445712Z"
    },
    "scrolled": true
   },
   "outputs": [
    {
     "name": "stdout",
     "output_type": "stream",
     "text": [
      "Result got for 10000000000000.0\n",
      "Result got for 42222222222222.22\n"
     ]
    },
    {
     "name": "stderr",
     "output_type": "stream",
     "text": [
      "/home/maolinml/.local/lib/python3.7/site-packages/braket/analog_hamiltonian_simulator/rydberg/validators/field_validator_util.py:23: UserWarning: Value 1 (84444444.44444443) in amplitude time series outside the typical range [0, 25000000.0]. The values should  be specified in SI units.\n",
      "  f\"Value {i} ({value}) in {name} time series outside the typical range \"\n",
      "/home/maolinml/.local/lib/python3.7/site-packages/braket/analog_hamiltonian_simulator/rydberg/validators/field_validator_util.py:23: UserWarning: Value 1 (148888888.88888887) in amplitude time series outside the typical range [0, 25000000.0]. The values should  be specified in SI units.\n",
      "  f\"Value {i} ({value}) in {name} time series outside the typical range \"\n"
     ]
    },
    {
     "name": "stdout",
     "output_type": "stream",
     "text": [
      "Result got for 74444444444444.44\n",
      "Result got for 106666666666666.66\n"
     ]
    },
    {
     "name": "stderr",
     "output_type": "stream",
     "text": [
      "/home/maolinml/.local/lib/python3.7/site-packages/braket/analog_hamiltonian_simulator/rydberg/validators/field_validator_util.py:23: UserWarning: Value 1 (213333333.3333333) in amplitude time series outside the typical range [0, 25000000.0]. The values should  be specified in SI units.\n",
      "  f\"Value {i} ({value}) in {name} time series outside the typical range \"\n",
      "/home/maolinml/.local/lib/python3.7/site-packages/braket/analog_hamiltonian_simulator/rydberg/validators/field_validator_util.py:23: UserWarning: Value 1 (277777777.7777778) in amplitude time series outside the typical range [0, 25000000.0]. The values should  be specified in SI units.\n",
      "  f\"Value {i} ({value}) in {name} time series outside the typical range \"\n"
     ]
    },
    {
     "name": "stdout",
     "output_type": "stream",
     "text": [
      "Result got for 138888888888888.89\n",
      "Result got for 171111111111111.12\n"
     ]
    },
    {
     "name": "stderr",
     "output_type": "stream",
     "text": [
      "/home/maolinml/.local/lib/python3.7/site-packages/braket/analog_hamiltonian_simulator/rydberg/validators/field_validator_util.py:23: UserWarning: Value 1 (342222222.2222222) in amplitude time series outside the typical range [0, 25000000.0]. The values should  be specified in SI units.\n",
      "  f\"Value {i} ({value}) in {name} time series outside the typical range \"\n",
      "/home/maolinml/.local/lib/python3.7/site-packages/braket/analog_hamiltonian_simulator/rydberg/validators/field_validator_util.py:23: UserWarning: Value 1 (406666666.6666666) in amplitude time series outside the typical range [0, 25000000.0]. The values should  be specified in SI units.\n",
      "  f\"Value {i} ({value}) in {name} time series outside the typical range \"\n"
     ]
    },
    {
     "name": "stdout",
     "output_type": "stream",
     "text": [
      "Result got for 203333333333333.3\n",
      "Result got for 235555555555555.53\n"
     ]
    },
    {
     "name": "stderr",
     "output_type": "stream",
     "text": [
      "/home/maolinml/.local/lib/python3.7/site-packages/braket/analog_hamiltonian_simulator/rydberg/validators/field_validator_util.py:23: UserWarning: Value 1 (471111111.11111104) in amplitude time series outside the typical range [0, 25000000.0]. The values should  be specified in SI units.\n",
      "  f\"Value {i} ({value}) in {name} time series outside the typical range \"\n",
      "/home/maolinml/.local/lib/python3.7/site-packages/braket/analog_hamiltonian_simulator/rydberg/validators/field_validator_util.py:23: UserWarning: Value 1 (535555555.5555555) in amplitude time series outside the typical range [0, 25000000.0]. The values should  be specified in SI units.\n",
      "  f\"Value {i} ({value}) in {name} time series outside the typical range \"\n"
     ]
    },
    {
     "name": "stdout",
     "output_type": "stream",
     "text": [
      "Result got for 267777777777777.78\n",
      "Result got for 300000000000000.0\n"
     ]
    },
    {
     "name": "stderr",
     "output_type": "stream",
     "text": [
      "/home/maolinml/.local/lib/python3.7/site-packages/braket/analog_hamiltonian_simulator/rydberg/validators/field_validator_util.py:23: UserWarning: Value 1 (600000000.0) in amplitude time series outside the typical range [0, 25000000.0]. The values should  be specified in SI units.\n",
      "  f\"Value {i} ({value}) in {name} time series outside the typical range \"\n"
     ]
    }
   ],
   "source": [
    "results_sim, results_theory, diff, avg_time = compare(programs)"
   ]
  },
  {
   "cell_type": "code",
   "execution_count": 7,
   "id": "93c7ca74",
   "metadata": {
    "execution": {
     "iopub.execute_input": "2023-02-05T18:28:14.449200Z",
     "iopub.status.busy": "2023-02-05T18:28:14.448739Z",
     "iopub.status.idle": "2023-02-05T18:28:14.452107Z",
     "shell.execute_reply": "2023-02-05T18:28:14.451534Z"
    }
   },
   "outputs": [
    {
     "name": "stdout",
     "output_type": "stream",
     "text": [
      "The average runtime per program = 0.14403245449066163 seconds\n"
     ]
    }
   ],
   "source": [
    "print(f\"The average runtime per program = {avg_time} seconds\")"
   ]
  },
  {
   "cell_type": "code",
   "execution_count": 8,
   "id": "2ab2ca56",
   "metadata": {
    "execution": {
     "iopub.execute_input": "2023-02-05T18:28:14.454759Z",
     "iopub.status.busy": "2023-02-05T18:28:14.454428Z",
     "iopub.status.idle": "2023-02-05T18:28:14.461211Z",
     "shell.execute_reply": "2023-02-05T18:28:14.460663Z"
    },
    "scrolled": true
   },
   "outputs": [
    {
     "data": {
      "text/plain": [
       "{10000000000000.0: {'g': 19, 'r': 81},\n",
       " 42222222222222.22: {'g': 87, 'r': 13},\n",
       " 74444444444444.44: {'g': 23, 'r': 77},\n",
       " 106666666666666.66: {'g': 34, 'r': 66},\n",
       " 138888888888888.89: {'g': 99, 'r': 1},\n",
       " 171111111111111.12: {'g': 81, 'r': 19},\n",
       " 203333333333333.3: {'g': 1, 'r': 99},\n",
       " 235555555555555.53: {'g': 60, 'r': 40},\n",
       " 267777777777777.78: {'g': 71, 'r': 29},\n",
       " 300000000000000.0: {'g': 55, 'r': 45}}"
      ]
     },
     "execution_count": 8,
     "metadata": {},
     "output_type": "execute_result"
    }
   ],
   "source": [
    "results_sim"
   ]
  },
  {
   "cell_type": "code",
   "execution_count": 9,
   "id": "d1f8e9ce",
   "metadata": {
    "execution": {
     "iopub.execute_input": "2023-02-05T18:28:14.463871Z",
     "iopub.status.busy": "2023-02-05T18:28:14.463546Z",
     "iopub.status.idle": "2023-02-05T18:28:14.468096Z",
     "shell.execute_reply": "2023-02-05T18:28:14.467546Z"
    },
    "scrolled": true
   },
   "outputs": [
    {
     "data": {
      "text/plain": [
       "{10000000000000.0: {'g': 17, 'r': 83},\n",
       " 42222222222222.22: {'g': 86, 'r': 14},\n",
       " 74444444444444.44: {'g': 11, 'r': 89},\n",
       " 106666666666666.66: {'g': 92, 'r': 8},\n",
       " 138888888888888.89: {'g': 6, 'r': 94},\n",
       " 171111111111111.12: {'g': 96, 'r': 4},\n",
       " 203333333333333.3: {'g': 3, 'r': 97},\n",
       " 235555555555555.53: {'g': 98, 'r': 2},\n",
       " 267777777777777.78: {'g': 1, 'r': 99},\n",
       " 300000000000000.0: {'g': 100, 'r': 0}}"
      ]
     },
     "execution_count": 9,
     "metadata": {},
     "output_type": "execute_result"
    }
   ],
   "source": [
    "results_theory"
   ]
  },
  {
   "cell_type": "code",
   "execution_count": 10,
   "id": "54b23994",
   "metadata": {
    "execution": {
     "iopub.execute_input": "2023-02-05T18:28:14.470762Z",
     "iopub.status.busy": "2023-02-05T18:28:14.470438Z",
     "iopub.status.idle": "2023-02-05T18:28:14.474882Z",
     "shell.execute_reply": "2023-02-05T18:28:14.474332Z"
    }
   },
   "outputs": [
    {
     "data": {
      "text/plain": [
       "{10000000000000.0: {'g': 0.02, 'r': 0.02},\n",
       " 42222222222222.22: {'g': 0.01, 'r': 0.01},\n",
       " 74444444444444.44: {'g': 0.12, 'r': 0.12},\n",
       " 106666666666666.66: {'g': 0.58, 'r': 0.58},\n",
       " 138888888888888.89: {'g': 0.93, 'r': 0.93},\n",
       " 171111111111111.12: {'g': 0.15, 'r': 0.15},\n",
       " 203333333333333.3: {'g': 0.02, 'r': 0.02},\n",
       " 235555555555555.53: {'g': 0.38, 'r': 0.38},\n",
       " 267777777777777.78: {'g': 0.7, 'r': 0.7},\n",
       " 300000000000000.0: {'g': 0.45, 'r': 0.45}}"
      ]
     },
     "execution_count": 10,
     "metadata": {},
     "output_type": "execute_result"
    }
   ],
   "source": [
    "diff"
   ]
  },
  {
   "cell_type": "code",
   "execution_count": 11,
   "id": "36107123",
   "metadata": {
    "execution": {
     "iopub.execute_input": "2023-02-05T18:28:14.477559Z",
     "iopub.status.busy": "2023-02-05T18:28:14.477231Z",
     "iopub.status.idle": "2023-02-05T18:28:14.635147Z",
     "shell.execute_reply": "2023-02-05T18:28:14.634544Z"
    }
   },
   "outputs": [
    {
     "data": {
      "image/png": "[encoded data removed]",
      "text/plain": [
       "<Figure size 1000x600 with 1 Axes>"
      ]
     },
     "metadata": {},
     "output_type": "display_data"
    }
   ],
   "source": [
    "plt.rcParams[\"figure.figsize\"] = (10,6)\n",
    "visualize_diff(diff)"
   ]
  },
  {
   "cell_type": "markdown",
   "id": "a89b24ba",
   "metadata": {},
   "source": [
    "### Rerun with larger number of time steps"
   ]
  },
  {
   "cell_type": "code",
   "execution_count": 12,
   "id": "b680c959",
   "metadata": {
    "execution": {
     "iopub.execute_input": "2023-02-05T18:28:14.638003Z",
     "iopub.status.busy": "2023-02-05T18:28:14.637632Z",
     "iopub.status.idle": "2023-02-05T18:28:28.719342Z",
     "shell.execute_reply": "2023-02-05T18:28:28.718710Z"
    },
    "scrolled": true
   },
   "outputs": [
    {
     "name": "stdout",
     "output_type": "stream",
     "text": [
      "Result got for 10000000000000.0\n",
      "Result got for 42222222222222.22\n",
      "Result got for 74444444444444.44\n",
      "Result got for 106666666666666.66\n",
      "Result got for 138888888888888.89\n",
      "Result got for 171111111111111.12\n",
      "Result got for 203333333333333.3\n",
      "Result got for 235555555555555.53\n",
      "Result got for 267777777777777.78\n",
      "Result got for 300000000000000.0\n"
     ]
    }
   ],
   "source": [
    "results_sim, results_theory, diff, avg_time = compare(programs, steps = 10 * steps)"
   ]
  },
  {
   "cell_type": "code",
   "execution_count": 13,
   "id": "d795054c",
   "metadata": {
    "execution": {
     "iopub.execute_input": "2023-02-05T18:28:28.722100Z",
     "iopub.status.busy": "2023-02-05T18:28:28.721820Z",
     "iopub.status.idle": "2023-02-05T18:28:28.725244Z",
     "shell.execute_reply": "2023-02-05T18:28:28.724660Z"
    }
   },
   "outputs": [
    {
     "name": "stdout",
     "output_type": "stream",
     "text": [
      "The average runtime per program = 1.4075608015060426 seconds\n"
     ]
    }
   ],
   "source": [
    "print(f\"The average runtime per program = {avg_time} seconds\")"
   ]
  },
  {
   "cell_type": "code",
   "execution_count": 14,
   "id": "35197e64",
   "metadata": {
    "execution": {
     "iopub.execute_input": "2023-02-05T18:28:28.727931Z",
     "iopub.status.busy": "2023-02-05T18:28:28.727590Z",
     "iopub.status.idle": "2023-02-05T18:28:28.732238Z",
     "shell.execute_reply": "2023-02-05T18:28:28.731690Z"
    },
    "scrolled": true
   },
   "outputs": [
    {
     "data": {
      "text/plain": [
       "{10000000000000.0: {'g': 15, 'r': 85},\n",
       " 42222222222222.22: {'g': 91, 'r': 9},\n",
       " 74444444444444.44: {'g': 13, 'r': 87},\n",
       " 106666666666666.66: {'g': 89, 'r': 11},\n",
       " 138888888888888.89: {'g': 5, 'r': 95},\n",
       " 171111111111111.12: {'g': 94, 'r': 6},\n",
       " 203333333333333.3: {'g': 2, 'r': 98},\n",
       " 235555555555555.53: {'g': 99, 'r': 1},\n",
       " 267777777777777.78: {'g': 0, 'r': 100},\n",
       " 300000000000000.0: {'g': 100, 'r': 0}}"
      ]
     },
     "execution_count": 14,
     "metadata": {},
     "output_type": "execute_result"
    }
   ],
   "source": [
    "results_sim"
   ]
  },
  {
   "cell_type": "code",
   "execution_count": 15,
   "id": "9b78f27d",
   "metadata": {
    "execution": {
     "iopub.execute_input": "2023-02-05T18:28:28.734957Z",
     "iopub.status.busy": "2023-02-05T18:28:28.734626Z",
     "iopub.status.idle": "2023-02-05T18:28:28.739204Z",
     "shell.execute_reply": "2023-02-05T18:28:28.738658Z"
    },
    "scrolled": true
   },
   "outputs": [
    {
     "data": {
      "text/plain": [
       "{10000000000000.0: {'g': 17, 'r': 83},\n",
       " 42222222222222.22: {'g': 86, 'r': 14},\n",
       " 74444444444444.44: {'g': 11, 'r': 89},\n",
       " 106666666666666.66: {'g': 92, 'r': 8},\n",
       " 138888888888888.89: {'g': 6, 'r': 94},\n",
       " 171111111111111.12: {'g': 96, 'r': 4},\n",
       " 203333333333333.3: {'g': 3, 'r': 97},\n",
       " 235555555555555.53: {'g': 98, 'r': 2},\n",
       " 267777777777777.78: {'g': 1, 'r': 99},\n",
       " 300000000000000.0: {'g': 100, 'r': 0}}"
      ]
     },
     "execution_count": 15,
     "metadata": {},
     "output_type": "execute_result"
    }
   ],
   "source": [
    "results_theory"
   ]
  },
  {
   "cell_type": "code",
   "execution_count": 16,
   "id": "98c177e8",
   "metadata": {
    "execution": {
     "iopub.execute_input": "2023-02-05T18:28:28.741827Z",
     "iopub.status.busy": "2023-02-05T18:28:28.741487Z",
     "iopub.status.idle": "2023-02-05T18:28:28.745019Z",
     "shell.execute_reply": "2023-02-05T18:28:28.744445Z"
    },
    "scrolled": true
   },
   "outputs": [
    {
     "name": "stdout",
     "output_type": "stream",
     "text": [
      "{10000000000000.0: {'g': 0.02, 'r': 0.02},\n",
      " 42222222222222.22: {'g': 0.05, 'r': 0.05},\n",
      " 74444444444444.44: {'g': 0.02, 'r': 0.02},\n",
      " 106666666666666.66: {'g': 0.03, 'r': 0.03},\n",
      " 138888888888888.89: {'g': 0.01, 'r': 0.01},\n",
      " 171111111111111.12: {'g': 0.02, 'r': 0.02},\n",
      " 203333333333333.3: {'g': 0.01, 'r': 0.01},\n",
      " 235555555555555.53: {'g': 0.01, 'r': 0.01},\n",
      " 267777777777777.78: {'g': 0.01, 'r': 0.01},\n",
      " 300000000000000.0: {'g': 0.0, 'r': 0.0}}\n"
     ]
    }
   ],
   "source": [
    "pp(diff)"
   ]
  },
  {
   "cell_type": "code",
   "execution_count": 17,
   "id": "81d4647e",
   "metadata": {
    "execution": {
     "iopub.execute_input": "2023-02-05T18:28:28.747679Z",
     "iopub.status.busy": "2023-02-05T18:28:28.747353Z",
     "iopub.status.idle": "2023-02-05T18:28:28.893507Z",
     "shell.execute_reply": "2023-02-05T18:28:28.892900Z"
    }
   },
   "outputs": [
    {
     "data": {
      "image/png": "[encoded data removed]",
      "text/plain": [
       "<Figure size 1000x600 with 1 Axes>"
      ]
     },
     "metadata": {},
     "output_type": "display_data"
    }
   ],
   "source": [
    "plt.rcParams[\"figure.figsize\"] = (10,6)\n",
    "visualize_diff(diff)"
   ]
  },
  {
   "cell_type": "markdown",
   "id": "2cc2ba56",
   "metadata": {},
   "source": [
    "### Rerun with larger number of shots"
   ]
  },
  {
   "cell_type": "code",
   "execution_count": 18,
   "id": "59dab667",
   "metadata": {
    "execution": {
     "iopub.execute_input": "2023-02-05T18:28:28.896310Z",
     "iopub.status.busy": "2023-02-05T18:28:28.895936Z",
     "iopub.status.idle": "2023-02-05T18:28:30.418625Z",
     "shell.execute_reply": "2023-02-05T18:28:30.418005Z"
    }
   },
   "outputs": [
    {
     "name": "stdout",
     "output_type": "stream",
     "text": [
      "Result got for 10000000000000.0\n",
      "Result got for 42222222222222.22\n",
      "Result got for 74444444444444.44\n",
      "Result got for 106666666666666.66\n",
      "Result got for 138888888888888.89\n",
      "Result got for 171111111111111.12\n",
      "Result got for 203333333333333.3\n",
      "Result got for 235555555555555.53\n",
      "Result got for 267777777777777.78\n",
      "Result got for 300000000000000.0\n"
     ]
    }
   ],
   "source": [
    "results_sim, results_theory, diff, avg_time = compare(programs, shots = 10 * shots)"
   ]
  },
  {
   "cell_type": "code",
   "execution_count": 19,
   "id": "c4e2d45e",
   "metadata": {
    "execution": {
     "iopub.execute_input": "2023-02-05T18:28:30.421304Z",
     "iopub.status.busy": "2023-02-05T18:28:30.421038Z",
     "iopub.status.idle": "2023-02-05T18:28:30.424393Z",
     "shell.execute_reply": "2023-02-05T18:28:30.423808Z"
    }
   },
   "outputs": [
    {
     "name": "stdout",
     "output_type": "stream",
     "text": [
      "The average runtime per program = 0.15031075477600098 seconds\n"
     ]
    }
   ],
   "source": [
    "print(f\"The average runtime per program = {avg_time} seconds\")"
   ]
  },
  {
   "cell_type": "code",
   "execution_count": 20,
   "id": "2973c129",
   "metadata": {
    "execution": {
     "iopub.execute_input": "2023-02-05T18:28:30.427030Z",
     "iopub.status.busy": "2023-02-05T18:28:30.426695Z",
     "iopub.status.idle": "2023-02-05T18:28:30.430227Z",
     "shell.execute_reply": "2023-02-05T18:28:30.429644Z"
    }
   },
   "outputs": [
    {
     "name": "stdout",
     "output_type": "stream",
     "text": [
      "{10000000000000.0: {'g': 0.022, 'r': 0.022},\n",
      " 42222222222222.22: {'g': 0.013, 'r': 0.013},\n",
      " 74444444444444.44: {'g': 0.175, 'r': 0.175},\n",
      " 106666666666666.66: {'g': 0.659, 'r': 0.659},\n",
      " 138888888888888.89: {'g': 0.893, 'r': 0.893},\n",
      " 171111111111111.12: {'g': 0.11, 'r': 0.11},\n",
      " 203333333333333.3: {'g': 0.016, 'r': 0.016},\n",
      " 235555555555555.53: {'g': 0.409, 'r': 0.409},\n",
      " 267777777777777.78: {'g': 0.61, 'r': 0.61},\n",
      " 300000000000000.0: {'g': 0.435, 'r': 0.435}}\n"
     ]
    }
   ],
   "source": [
    "pp(diff)"
   ]
  },
  {
   "cell_type": "code",
   "execution_count": 21,
   "id": "52390b02",
   "metadata": {
    "execution": {
     "iopub.execute_input": "2023-02-05T18:28:30.432843Z",
     "iopub.status.busy": "2023-02-05T18:28:30.432509Z",
     "iopub.status.idle": "2023-02-05T18:28:30.575459Z",
     "shell.execute_reply": "2023-02-05T18:28:30.574857Z"
    }
   },
   "outputs": [
    {
     "data": {
      "image/png": "[encoded data removed]",
      "text/plain": [
       "<Figure size 1000x600 with 1 Axes>"
      ]
     },
     "metadata": {},
     "output_type": "display_data"
    }
   ],
   "source": [
    "plt.rcParams[\"figure.figsize\"] = (10,6)\n",
    "visualize_diff(diff)"
   ]
  },
  {
   "cell_type": "markdown",
   "id": "312b7073",
   "metadata": {},
   "source": [
    "## Conclusion\n"
   ]
  },
  {
   "cell_type": "code",
   "execution_count": null,
   "id": "8d457269",
   "metadata": {},
   "outputs": [],
   "source": []
  }
 ],
 "metadata": {
  "kernelspec": {
   "display_name": "Python 3 (ipykernel)",
   "language": "python",
   "name": "python3"
  },
  "language_info": {
   "codemirror_mode": {
    "name": "ipython",
    "version": 3
   },
   "file_extension": ".py",
   "mimetype": "text/x-python",
   "name": "python",
   "nbconvert_exporter": "python",
   "pygments_lexer": "ipython3",
   "version": "3.7.16"
  },
  "varInspector": {
   "cols": {
    "lenName": 16,
    "lenType": 16,
    "lenVar": 40
   },
   "kernels_config": {
    "python": {
     "delete_cmd_postfix": "",
     "delete_cmd_prefix": "del ",
     "library": "var_list.py",
     "varRefreshCmd": "print(var_dic_list())"
    },
    "r": {
     "delete_cmd_postfix": ") ",
     "delete_cmd_prefix": "rm(",
     "library": "var_list.r",
     "varRefreshCmd": "cat(var_dic_list()) "
    }
   },
   "types_to_exclude": [
    "module",
    "function",
    "builtin_function_or_method",
    "instance",
    "_Feature"
   ],
   "window_display": false
  }
 },
 "nbformat": 4,
 "nbformat_minor": 5
}
