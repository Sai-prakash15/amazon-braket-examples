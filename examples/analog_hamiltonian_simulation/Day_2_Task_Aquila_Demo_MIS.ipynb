{
 "cells": [
  {
   "cell_type": "markdown",
   "id": "4e796f9c",
   "metadata": {},
   "source": [
    "# Solving MIS on a unit disk with Aquila\n",
    "\n",
    "## In this notebook, you will solve the so called maximum independent set (MIS) problem on a unit disk graph with QuEra's Aquila"
   ]
  },
  {
   "cell_type": "code",
   "execution_count": null,
   "id": "945bd7a9",
   "metadata": {},
   "outputs": [],
   "source": [
    "from braket.ahs.atom_arrangement import AtomArrangement\n",
    "\n",
    "from ahs_utils import get_drive, show_register, show_global_drive, show_final_avg_density \n",
    "\n",
    "from braket.ahs.analog_hamiltonian_simulation import AnalogHamiltonianSimulation\n",
    "\n",
    "from braket.devices import LocalSimulator\n",
    "\n",
    "import numpy as np\n",
    "import matplotlib.pyplot as plt"
   ]
  },
  {
   "cell_type": "markdown",
   "id": "b96818df",
   "metadata": {},
   "source": [
    "## Suppose we are interested in solving the MIS problem for a ring graph with an additional vertex. Before we run a large example on Aquila, we would like to test a small example on a local simulator. \n",
    "\n",
    "\n",
    "<div>\n",
    "    <img src=\"ring_graph.png\" width=\"400\"/>\n",
    "</div>    "
   ]
  },
  {
   "cell_type": "code",
   "execution_count": null,
   "id": "094fa0ec",
   "metadata": {},
   "outputs": [],
   "source": [
    "separation = 6.1e-6  # in meters \n",
    "\n",
    "positions = separation * np.array(\n",
    "    [[0, 0], [1, 0], \n",
    "     [3/2, np.sqrt(3)/2], [3/2, -np.sqrt(3)/2], \n",
    "     [5/2, np.sqrt(3)/2], [5/2, -np.sqrt(3)/2], [3, 0]]\n",
    ")"
   ]
  },
  {
   "cell_type": "code",
   "execution_count": null,
   "id": "e1f2b41c",
   "metadata": {},
   "outputs": [],
   "source": [
    "#### Fill in this cell to realize and plot the atomic arrangment shown above \n"
   ]
  },
  {
   "cell_type": "markdown",
   "id": "0df38a98",
   "metadata": {},
   "source": [
    "## Let's now define the time-dependent parameters as shown below\n",
    "\n",
    "\n",
    "<div>\n",
    "    <img src=\"waveforms.png\" width=\"400\"/>\n",
    "</div>    "
   ]
  },
  {
   "cell_type": "code",
   "execution_count": null,
   "id": "8ec811cc",
   "metadata": {},
   "outputs": [],
   "source": [
    "time_points = [0, 2.5e-7, 2.75e-6, 3e-6]\n",
    "amplitude_min = 0\n",
    "amplitude_max = 1.57e7  # rad / s\n",
    "\n",
    "detuning_min = -5.5e7  # rad / s\n",
    "detuning_max = 5.5e7  # rad / s\n",
    "\n"
   ]
  },
  {
   "cell_type": "code",
   "execution_count": null,
   "id": "7bf2ce40",
   "metadata": {},
   "outputs": [],
   "source": [
    "#### Fill in this cell to realize the drive Hamiltonian\n",
    "\n"
   ]
  },
  {
   "cell_type": "markdown",
   "id": "3eb790dc",
   "metadata": {},
   "source": [
    "## Finally we can combine the register and drive Hamiltonian to form an AHS program"
   ]
  },
  {
   "cell_type": "code",
   "execution_count": null,
   "id": "e2197368",
   "metadata": {},
   "outputs": [],
   "source": [
    "#### Fill in this cell to combine the register and drive Hamiltonian to form an AHS program\n"
   ]
  },
  {
   "cell_type": "markdown",
   "id": "c147c207",
   "metadata": {},
   "source": [
    "## With the AHS program defined, we can run it on the local simulator"
   ]
  },
  {
   "cell_type": "code",
   "execution_count": null,
   "id": "99c41aef",
   "metadata": {},
   "outputs": [],
   "source": [
    "#### Fill in this cell to define the device as the local simulator\n"
   ]
  },
  {
   "cell_type": "code",
   "execution_count": null,
   "id": "4dfb7dba",
   "metadata": {},
   "outputs": [],
   "source": [
    "#### Fill in this cell to submit the task to the device\n"
   ]
  },
  {
   "cell_type": "code",
   "execution_count": null,
   "id": "3121f52c",
   "metadata": {},
   "outputs": [],
   "source": [
    "#### Fill in this cell to collect the result from the task\n"
   ]
  },
  {
   "cell_type": "code",
   "execution_count": null,
   "id": "bbbcb464",
   "metadata": {},
   "outputs": [],
   "source": [
    "#### Fill in this cell to plot the final average Rydberg density\n"
   ]
  },
  {
   "cell_type": "markdown",
   "id": "27672e09",
   "metadata": {},
   "source": [
    "## The result looks pretty good! You are (almost) ready to submit the program to Aquila!\n",
    "Please refer to [this example](https://github.com/aws/amazon-braket-examples/blob/main/examples/analog_hamiltonian_simulation/01_Introduction_to_Aquila.ipynb) for further introduction of Aquila.\n"
   ]
  },
  {
   "cell_type": "code",
   "execution_count": null,
   "id": "7721f6f8",
   "metadata": {},
   "outputs": [],
   "source": []
  }
 ],
 "metadata": {
  "kernelspec": {
   "display_name": "Python 3 (ipykernel)",
   "language": "python",
   "name": "python3"
  },
  "language_info": {
   "codemirror_mode": {
    "name": "ipython",
    "version": 3
   },
   "file_extension": ".py",
   "mimetype": "text/x-python",
   "name": "python",
   "nbconvert_exporter": "python",
   "pygments_lexer": "ipython3",
   "version": "3.9.7"
  },
  "varInspector": {
   "cols": {
    "lenName": 16,
    "lenType": 16,
    "lenVar": 40
   },
   "kernels_config": {
    "python": {
     "delete_cmd_postfix": "",
     "delete_cmd_prefix": "del ",
     "library": "var_list.py",
     "varRefreshCmd": "print(var_dic_list())"
    },
    "r": {
     "delete_cmd_postfix": ") ",
     "delete_cmd_prefix": "rm(",
     "library": "var_list.r",
     "varRefreshCmd": "cat(var_dic_list()) "
    }
   },
   "types_to_exclude": [
    "module",
    "function",
    "builtin_function_or_method",
    "instance",
    "_Feature"
   ],
   "window_display": false
  }
 },
 "nbformat": 4,
 "nbformat_minor": 5
}
